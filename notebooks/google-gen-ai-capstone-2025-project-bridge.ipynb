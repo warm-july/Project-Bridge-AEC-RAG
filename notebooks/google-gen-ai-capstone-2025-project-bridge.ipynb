{
 "cells": [
  {
   "cell_type": "markdown",
   "id": "14e27348",
   "metadata": {
    "id": "CsVPnR8VbXE6",
    "papermill": {
     "duration": 0.008981,
     "end_time": "2025-04-15T04:16:40.848668",
     "exception": false,
     "start_time": "2025-04-15T04:16:40.839687",
     "status": "completed"
    },
    "tags": []
   },
   "source": [
    "# Capstone Project Brief\n",
    "\n",
    "This Capstone Project is part of the <u>5-day Gen AI Intensive Course with Google</u>, which took place from Monday March 31 - Friday April 4, 2025. This project seek to apply what we learned from the course to a real world use case/problem, and achive the following Gen AI capabilities:\n",
    "\n",
    "- Structured output/JSON mode/controlled generation (?)\n",
    "- Few-shot prompting\n",
    "- Document understanding\n",
    "- Image understanding\n",
    "- Function Calling (?)\n",
    "- Agents (?)\n",
    "- Long context window\n",
    "- Gen AI evaluation (?)\n",
    "- Grounding (?)\n",
    "- Embeddings\n",
    "- Retrieval augmented generation (RAG)\n",
    "- Vector search/vector store/vector database\n",
    "\n",
    "In addition to this public Kaggle notebook, this project also included the optional submission items below:\n",
    "\n",
    "- a blogpost: a public blogpost on the capstone project, explaining the use case, the problem(s), and the solution.\n",
    "- a YouTube video: a public YouTube video on your capstone project. No minimum or maximum duration.\n",
    "\n",
    "## Project Overview and Problem Statement\n",
    "\n",
    "## Proposed Solution"
   ]
  },
  {
   "cell_type": "markdown",
   "id": "239eda13",
   "metadata": {
    "id": "akuOzK4dJl3j",
    "papermill": {
     "duration": 0.007574,
     "end_time": "2025-04-15T04:16:40.864379",
     "exception": false,
     "start_time": "2025-04-15T04:16:40.856805",
     "status": "completed"
    },
    "tags": []
   },
   "source": [
    "## Project Setup\n",
    "\n",
    "First, install ChromaDB and the Gemini API Python SDK for RAG and LLM access.\n",
    "Also setup the API Key."
   ]
  },
  {
   "cell_type": "code",
   "execution_count": 1,
   "id": "ffcd8f39",
   "metadata": {
    "execution": {
     "iopub.execute_input": "2025-04-15T04:16:40.882705Z",
     "iopub.status.busy": "2025-04-15T04:16:40.882261Z",
     "iopub.status.idle": "2025-04-15T04:17:21.896550Z",
     "shell.execute_reply": "2025-04-15T04:17:21.895334Z"
    },
    "id": "JbXe7Oodc5dP",
    "papermill": {
     "duration": 41.025891,
     "end_time": "2025-04-15T04:17:21.899059",
     "exception": false,
     "start_time": "2025-04-15T04:16:40.873168",
     "status": "completed"
    },
    "tags": []
   },
   "outputs": [],
   "source": [
    "!pip uninstall -qqy jupyterlab kfp  # Remove unused conflicting packages\n",
    "!pip install -qU \"google-genai==1.7.0\" \"chromadb==0.6.3\""
   ]
  },
  {
   "cell_type": "code",
   "execution_count": 2,
   "id": "6f753d09",
   "metadata": {
    "execution": {
     "iopub.execute_input": "2025-04-15T04:17:21.917273Z",
     "iopub.status.busy": "2025-04-15T04:17:21.916539Z",
     "iopub.status.idle": "2025-04-15T04:17:32.128454Z",
     "shell.execute_reply": "2025-04-15T04:17:32.127243Z"
    },
    "papermill": {
     "duration": 10.223822,
     "end_time": "2025-04-15T04:17:32.131030",
     "exception": false,
     "start_time": "2025-04-15T04:17:21.907208",
     "status": "completed"
    },
    "tags": []
   },
   "outputs": [
    {
     "name": "stdout",
     "output_type": "stream",
     "text": [
      "Collecting python-frontmatter\r\n",
      "  Downloading python_frontmatter-1.1.0-py3-none-any.whl.metadata (4.1 kB)\r\n",
      "Requirement already satisfied: PyYAML in /opt/conda/lib/python3.10/site-packages (from python-frontmatter) (6.0.2)\r\n",
      "Downloading python_frontmatter-1.1.0-py3-none-any.whl (9.8 kB)\r\n",
      "Installing collected packages: python-frontmatter\r\n",
      "Successfully installed python-frontmatter-1.1.0\r\n"
     ]
    }
   ],
   "source": [
    "!pip install python-frontmatter # Library to process markdown frontmatter for metadata"
   ]
  },
  {
   "cell_type": "code",
   "execution_count": 3,
   "id": "75f59633",
   "metadata": {
    "execution": {
     "iopub.execute_input": "2025-04-15T04:17:32.149747Z",
     "iopub.status.busy": "2025-04-15T04:17:32.149188Z",
     "iopub.status.idle": "2025-04-15T04:17:33.449954Z",
     "shell.execute_reply": "2025-04-15T04:17:33.448732Z"
    },
    "id": "muuhsDmmKdHi",
    "papermill": {
     "duration": 1.312628,
     "end_time": "2025-04-15T04:17:33.452037",
     "exception": false,
     "start_time": "2025-04-15T04:17:32.139409",
     "status": "completed"
    },
    "tags": []
   },
   "outputs": [
    {
     "data": {
      "text/plain": [
       "'1.7.0'"
      ]
     },
     "execution_count": 3,
     "metadata": {},
     "output_type": "execute_result"
    }
   ],
   "source": [
    "from google import genai\n",
    "from google.genai import types\n",
    "\n",
    "from IPython.display import Markdown\n",
    "\n",
    "genai.__version__"
   ]
  },
  {
   "cell_type": "code",
   "execution_count": 4,
   "id": "2f2a9930",
   "metadata": {
    "execution": {
     "iopub.execute_input": "2025-04-15T04:17:33.471412Z",
     "iopub.status.busy": "2025-04-15T04:17:33.470311Z",
     "iopub.status.idle": "2025-04-15T04:17:33.592076Z",
     "shell.execute_reply": "2025-04-15T04:17:33.591123Z"
    },
    "id": "ysayz8skEfBW",
    "papermill": {
     "duration": 0.133793,
     "end_time": "2025-04-15T04:17:33.594321",
     "exception": false,
     "start_time": "2025-04-15T04:17:33.460528",
     "status": "completed"
    },
    "tags": []
   },
   "outputs": [],
   "source": [
    "from kaggle_secrets import UserSecretsClient\n",
    "\n",
    "GOOGLE_API_KEY = UserSecretsClient().get_secret(\"GOOGLE_API_KEY\")"
   ]
  },
  {
   "cell_type": "markdown",
   "id": "e454ace7",
   "metadata": {
    "id": "fegnGFpMS4AI",
    "papermill": {
     "duration": 0.008126,
     "end_time": "2025-04-15T04:17:33.610827",
     "exception": false,
     "start_time": "2025-04-15T04:17:33.602701",
     "status": "completed"
    },
    "tags": []
   },
   "source": [
    "## Explore available models\n",
    "\n",
    "### Embedding Model\n",
    "\n",
    "We will be using the [`embedContent`](https://ai.google.dev/api/embeddings#method:-models.embedcontent) API method to calculate embeddings of documents before saving to the database. \n",
    "\n",
    "- `text-embedding-004` is the most recent generally-available embedding model\n",
    "- experimental `gemini-embedding-exp-03-07` model\n",
    "- more info: [`models.list`](https://ai.google.dev/api/models#method:-models.list) / [the models page](https://ai.google.dev/gemini-api/docs/models/gemini#text-embedding).\n",
    "\n",
    "### LLM Model\n",
    "We will also list all generation models below and check their capabilities."
   ]
  },
  {
   "cell_type": "code",
   "execution_count": 5,
   "id": "e9722745",
   "metadata": {
    "execution": {
     "iopub.execute_input": "2025-04-15T04:17:33.628873Z",
     "iopub.status.busy": "2025-04-15T04:17:33.628446Z",
     "iopub.status.idle": "2025-04-15T04:17:33.993421Z",
     "shell.execute_reply": "2025-04-15T04:17:33.992304Z"
    },
    "id": "Km5d13_FS2Q_",
    "papermill": {
     "duration": 0.376539,
     "end_time": "2025-04-15T04:17:33.995525",
     "exception": false,
     "start_time": "2025-04-15T04:17:33.618986",
     "status": "completed"
    },
    "tags": []
   },
   "outputs": [
    {
     "name": "stdout",
     "output_type": "stream",
     "text": [
      "models/embedding-001\n",
      "models/text-embedding-004\n",
      "models/gemini-embedding-exp-03-07\n",
      "models/gemini-embedding-exp\n"
     ]
    }
   ],
   "source": [
    "client = genai.Client(api_key=GOOGLE_API_KEY)\n",
    "\n",
    "for m in client.models.list():\n",
    "    if \"embedContent\" in m.supported_actions:\n",
    "        print(m.name)"
   ]
  },
  {
   "cell_type": "code",
   "execution_count": 6,
   "id": "df0c9851",
   "metadata": {
    "execution": {
     "iopub.execute_input": "2025-04-15T04:17:34.013910Z",
     "iopub.status.busy": "2025-04-15T04:17:34.013514Z",
     "iopub.status.idle": "2025-04-15T04:17:34.083315Z",
     "shell.execute_reply": "2025-04-15T04:17:34.082269Z"
    },
    "papermill": {
     "duration": 0.081597,
     "end_time": "2025-04-15T04:17:34.085498",
     "exception": false,
     "start_time": "2025-04-15T04:17:34.003901",
     "status": "completed"
    },
    "tags": []
   },
   "outputs": [
    {
     "data": {
      "text/markdown": [
       "| Model | Supported Actions |\n",
       "|-------|-------------------|\n",
       "| `models/chat-bison-001` | generateMessage, countMessageTokens |\n",
       "| `models/text-bison-001` | generateText, countTextTokens, createTunedTextModel |\n",
       "| `models/embedding-gecko-001` | embedText, countTextTokens |\n",
       "| `models/gemini-1.0-pro-vision-latest` | generateContent, countTokens |\n",
       "| `models/gemini-pro-vision` | generateContent, countTokens |\n",
       "| `models/gemini-1.5-pro-latest` | generateContent, countTokens |\n",
       "| `models/gemini-1.5-pro-001` | generateContent, countTokens, createCachedContent |\n",
       "| `models/gemini-1.5-pro-002` | generateContent, countTokens, createCachedContent |\n",
       "| `models/gemini-1.5-pro` | generateContent, countTokens |\n",
       "| `models/gemini-1.5-flash-latest` | generateContent, countTokens |\n",
       "| `models/gemini-1.5-flash-001` | generateContent, countTokens, createCachedContent |\n",
       "| `models/gemini-1.5-flash-001-tuning` | generateContent, countTokens, createTunedModel |\n",
       "| `models/gemini-1.5-flash` | generateContent, countTokens |\n",
       "| `models/gemini-1.5-flash-002` | generateContent, countTokens, createCachedContent |\n",
       "| `models/gemini-1.5-flash-8b` | createCachedContent, generateContent, countTokens |\n",
       "| `models/gemini-1.5-flash-8b-001` | createCachedContent, generateContent, countTokens |\n",
       "| `models/gemini-1.5-flash-8b-latest` | createCachedContent, generateContent, countTokens |\n",
       "| `models/gemini-1.5-flash-8b-exp-0827` | generateContent, countTokens |\n",
       "| `models/gemini-1.5-flash-8b-exp-0924` | generateContent, countTokens |\n",
       "| `models/gemini-2.5-pro-exp-03-25` | generateContent, countTokens |\n",
       "| `models/gemini-2.5-pro-preview-03-25` | generateContent, countTokens |\n",
       "| `models/gemini-2.0-flash-exp` | generateContent, countTokens, bidiGenerateContent |\n",
       "| `models/gemini-2.0-flash` | generateContent, countTokens, createCachedContent |\n",
       "| `models/gemini-2.0-flash-001` | generateContent, countTokens, createCachedContent |\n",
       "| `models/gemini-2.0-flash-exp-image-generation` | generateContent, countTokens, bidiGenerateContent |\n",
       "| `models/gemini-2.0-flash-lite-001` | generateContent, countTokens |\n",
       "| `models/gemini-2.0-flash-lite` | generateContent, countTokens |\n",
       "| `models/gemini-2.0-flash-lite-preview-02-05` | generateContent, countTokens |\n",
       "| `models/gemini-2.0-flash-lite-preview` | generateContent, countTokens |\n",
       "| `models/gemini-2.0-pro-exp` | generateContent, countTokens |\n",
       "| `models/gemini-2.0-pro-exp-02-05` | generateContent, countTokens |\n",
       "| `models/gemini-exp-1206` | generateContent, countTokens |\n",
       "| `models/gemini-2.0-flash-thinking-exp-01-21` | generateContent, countTokens |\n",
       "| `models/gemini-2.0-flash-thinking-exp` | generateContent, countTokens |\n",
       "| `models/gemini-2.0-flash-thinking-exp-1219` | generateContent, countTokens |\n",
       "| `models/learnlm-1.5-pro-experimental` | generateContent, countTokens |\n",
       "| `models/gemma-3-1b-it` | generateContent, countTokens |\n",
       "| `models/gemma-3-4b-it` | generateContent, countTokens |\n",
       "| `models/gemma-3-12b-it` | generateContent, countTokens |\n",
       "| `models/gemma-3-27b-it` | generateContent, countTokens |\n",
       "| `models/aqa` | generateAnswer |\n",
       "| `models/imagen-3.0-generate-002` | predict |\n",
       "| `models/veo-2.0-generate-001` | predictLongRunning |\n",
       "| `models/gemini-2.0-flash-live-001` | bidiGenerateContent, countTokens |"
      ],
      "text/plain": [
       "<IPython.core.display.Markdown object>"
      ]
     },
     "metadata": {},
     "output_type": "display_data"
    }
   ],
   "source": [
    "# Collect rows of model info\n",
    "rows = [\n",
    "    \"| Model | Supported Actions |\",\n",
    "    \"|-------|-------------------|\"\n",
    "]\n",
    "\n",
    "for m in client.models.list():\n",
    "    name = m.name\n",
    "    actions = m.supported_actions\n",
    "\n",
    "    is_embedding = \"embedContent\" in actions\n",
    "\n",
    "    # Skip embedding models if desired\n",
    "    if not is_embedding:\n",
    "        actions_str = \", \".join(actions)\n",
    "        row = f\"| `{name}` | {actions_str} |\"\n",
    "        rows.append(row)\n",
    "\n",
    "# Display the markdown table\n",
    "display(Markdown(\"\\n\".join(rows)))"
   ]
  },
  {
   "cell_type": "markdown",
   "id": "32b631fd",
   "metadata": {
    "id": "3XWKXoXwOGxS",
    "papermill": {
     "duration": 0.008356,
     "end_time": "2025-04-15T04:17:34.102611",
     "exception": false,
     "start_time": "2025-04-15T04:17:34.094255",
     "status": "completed"
    },
    "tags": []
   },
   "source": [
    "## Data Preparation\n",
    "\n",
    "Loading a list of documents we can use to create an embedding database.\n",
    "\n",
    "### Public Gensler Thought Leadership\n",
    "Here we are using a list of markdown articles sourced from Gensler.com dialogue blog 2025<br>\n",
    "https://www.kaggle.com/datasets/junwangzero/public-gensler-thought-leadership"
   ]
  },
  {
   "cell_type": "code",
   "execution_count": 7,
   "id": "c34e6d74",
   "metadata": {
    "execution": {
     "iopub.execute_input": "2025-04-15T04:17:34.121244Z",
     "iopub.status.busy": "2025-04-15T04:17:34.120876Z",
     "iopub.status.idle": "2025-04-15T04:17:34.138376Z",
     "shell.execute_reply": "2025-04-15T04:17:34.137384Z"
    },
    "papermill": {
     "duration": 0.029632,
     "end_time": "2025-04-15T04:17:34.140737",
     "exception": false,
     "start_time": "2025-04-15T04:17:34.111105",
     "status": "completed"
    },
    "tags": []
   },
   "outputs": [
    {
     "name": "stdout",
     "output_type": "stream",
     "text": [
      "Total number of files: 20\n",
      "\n",
      "/kaggle/input/public-gensler-thought-leadership/The New Experiential Hybrid.md\n",
      "/kaggle/input/public-gensler-thought-leadership/The Biggest Challenge to Office Conversions Isnt Design  Its the Status Quo.md\n",
      "/kaggle/input/public-gensler-thought-leadership/Realizing the Value of Artificial Intelligence When Planning Tomorrows Healthcare Facilities.md\n",
      "/kaggle/input/public-gensler-thought-leadership/Prototyping the Hospital of the Future.md\n",
      "/kaggle/input/public-gensler-thought-leadership/Severe Weather The New Design Imperative.md\n",
      "/kaggle/input/public-gensler-thought-leadership/The Uncertainty of Electric Power A View from Houston.md\n",
      "/kaggle/input/public-gensler-thought-leadership/Biodiversity as the New Frontier for Achieving Resilience in Real Estate.md\n",
      "/kaggle/input/public-gensler-thought-leadership/Avoiding Fear-Based Decision-Making to Foster Positive In-Store Retail Experiences.md\n",
      "/kaggle/input/public-gensler-thought-leadership/Live Event Amenities The Next Frontier for Creative Workplaces.md\n",
      "/kaggle/input/public-gensler-thought-leadership/The Building as Brand A Watershed Opportunity in Manhattan Office.md\n",
      "/kaggle/input/public-gensler-thought-leadership/How the Rise in Digital and Home Health Will Transform Healthcare.md\n",
      "/kaggle/input/public-gensler-thought-leadership/3 Surprises Impacting the Return to the Office.md\n",
      "/kaggle/input/public-gensler-thought-leadership/The Future Is Mixed Use How Principles of Mixed Use Design Will Restore Our Communities.md\n",
      "/kaggle/input/public-gensler-thought-leadership/Urban Designs Renaissance How San Francisco Is Leading the Way.md\n",
      "/kaggle/input/public-gensler-thought-leadership/5 Ways Suburban Office Campuses Are Transforming Into Thriving Communities.md\n",
      "/kaggle/input/public-gensler-thought-leadership/Trends to Watch Reshaping the Future of Cities and Urban Living.md\n",
      "/kaggle/input/public-gensler-thought-leadership/The Future of Lab Automation Opportunities Challenges and Sustainable Design Solutions.md\n",
      "/kaggle/input/public-gensler-thought-leadership/Trends to Watch What Other Cities Can Learn From New York Citys Conversion Boom.md\n",
      "/kaggle/input/public-gensler-thought-leadership/The Evolving Role of Hotels in Retail-Driven Mixed-Use Environments.md\n",
      "/kaggle/input/public-gensler-thought-leadership/Repopulating the Workplace Why Collaboration Space Is in Danger.md\n"
     ]
    },
    {
     "data": {
      "text/markdown": [
       "---"
      ],
      "text/plain": [
       "<IPython.core.display.Markdown object>"
      ]
     },
     "execution_count": 7,
     "metadata": {},
     "output_type": "execute_result"
    }
   ],
   "source": [
    "import os\n",
    "\n",
    "input_path = \"/kaggle/input\"\n",
    "all_files = []\n",
    "\n",
    "# Collect all file paths from all attached datasets\n",
    "for dataset in os.listdir(input_path):\n",
    "    dataset_path = os.path.join(input_path, dataset)\n",
    "    for root, dirs, files in os.walk(dataset_path):\n",
    "        for file in files:\n",
    "            all_files.append(os.path.join(root, file))\n",
    "\n",
    "# Print total count and the list\n",
    "print(f\"Total number of files: {len(all_files)}\\n\")\n",
    "for file_path in all_files:\n",
    "    print(file_path)\n",
    "Markdown('---')"
   ]
  },
  {
   "cell_type": "markdown",
   "id": "155214ff",
   "metadata": {
    "papermill": {
     "duration": 0.00861,
     "end_time": "2025-04-15T04:17:34.158671",
     "exception": false,
     "start_time": "2025-04-15T04:17:34.150061",
     "status": "completed"
    },
    "tags": []
   },
   "source": [
    "We can visualize the format of an example of such article below:"
   ]
  },
  {
   "cell_type": "code",
   "execution_count": 8,
   "id": "6557e95f",
   "metadata": {
    "execution": {
     "iopub.execute_input": "2025-04-15T04:17:34.178146Z",
     "iopub.status.busy": "2025-04-15T04:17:34.177608Z",
     "iopub.status.idle": "2025-04-15T04:17:34.247891Z",
     "shell.execute_reply": "2025-04-15T04:17:34.246374Z"
    },
    "papermill": {
     "duration": 0.083158,
     "end_time": "2025-04-15T04:17:34.250514",
     "exception": false,
     "start_time": "2025-04-15T04:17:34.167356",
     "status": "completed"
    },
    "tags": []
   },
   "outputs": [
    {
     "name": "stdout",
     "output_type": "stream",
     "text": [
      "---\n",
      "title: \"The New Experiential Hybrid\"\n",
      "source: \"https://www.gensler.com/blog/the-new-experiential-hybrid\"\n",
      "author:\n",
      "  - \"[[Gensler]]\"\n",
      "published:\n",
      "created: 2025-04-09\n",
      "description: \"Gensler is a global architecture, design, and planning firm with 57 offices and 6,000+ professionals across the Americas, Europe, Greater China, and APME.\"\n",
      "tags:\n",
      "  - \"clippings\"\n",
      "---\n",
      "![A street with cars and buildings.](https://static2.gensler.com/uploads/image/96476/Sportsmens_Lodge_N7_1738969737.jpg)\n",
      "\n",
      "The Sportsmen’s Lodge, Los Angeles, California\n",
      "\n",
      "The convergence of our physical and digital ecosystems continues to revolutionize our lives, reshape our behaviors, and reimagine our ability to navigate the complex beauty and challenges of life in a boundaryless world. Radical technological innovations have resulted \n"
     ]
    },
    {
     "data": {
      "text/markdown": [
       "---"
      ],
      "text/plain": [
       "<IPython.core.display.Markdown object>"
      ]
     },
     "execution_count": 8,
     "metadata": {},
     "output_type": "execute_result"
    }
   ],
   "source": [
    "# helper function to parse input markdown files\n",
    "def read_markdown(file_path):\n",
    "    with open(file_path, \"r\", encoding=\"utf-8\") as f:\n",
    "        return f.read()\n",
    "\n",
    "# Read all markdown files into a list of strings\n",
    "documents = [read_markdown(path) for path in all_files]\n",
    "\n",
    "print(documents[0][:800])  # Preview first 500 characters of the first doc\n",
    "Markdown('---')"
   ]
  },
  {
   "cell_type": "markdown",
   "id": "9af8c392",
   "metadata": {
    "papermill": {
     "duration": 0.009533,
     "end_time": "2025-04-15T04:17:34.271924",
     "exception": false,
     "start_time": "2025-04-15T04:17:34.262391",
     "status": "completed"
    },
    "tags": []
   },
   "source": [
    "Next we will process the articles via extract its metadata from the frontmatter and do some cleaning:\n",
    "\n",
    "- extract metadata for use in the vector database\n",
    "- replace the frontmatter with a clean table\n",
    "- replace the image links with a description of the image using multi modal prompting\n",
    "- get Gen AI summary of the article\n",
    "- get Gen AI generated \"reverse prompt\" that could've generated this article for fine-tuning or few shot prompting purpose\n",
    "- etc."
   ]
  },
  {
   "cell_type": "code",
   "execution_count": 9,
   "id": "68b4b9cf",
   "metadata": {
    "execution": {
     "iopub.execute_input": "2025-04-15T04:17:34.294576Z",
     "iopub.status.busy": "2025-04-15T04:17:34.294174Z",
     "iopub.status.idle": "2025-04-15T04:17:34.453486Z",
     "shell.execute_reply": "2025-04-15T04:17:34.452715Z"
    },
    "papermill": {
     "duration": 0.173479,
     "end_time": "2025-04-15T04:17:34.455825",
     "exception": false,
     "start_time": "2025-04-15T04:17:34.282346",
     "status": "completed"
    },
    "tags": []
   },
   "outputs": [],
   "source": [
    "from google.api_core import retry\n",
    "\n",
    "# Define a helper to retry when per-minute quota is reached.\n",
    "is_retriable = lambda e: (isinstance(e, genai.errors.APIError) and e.code in {429, 503})"
   ]
  },
  {
   "cell_type": "code",
   "execution_count": 10,
   "id": "30d3acff",
   "metadata": {
    "execution": {
     "iopub.execute_input": "2025-04-15T04:17:34.475477Z",
     "iopub.status.busy": "2025-04-15T04:17:34.474941Z",
     "iopub.status.idle": "2025-04-15T04:17:34.482628Z",
     "shell.execute_reply": "2025-04-15T04:17:34.481729Z"
    },
    "papermill": {
     "duration": 0.019777,
     "end_time": "2025-04-15T04:17:34.484670",
     "exception": false,
     "start_time": "2025-04-15T04:17:34.464893",
     "status": "completed"
    },
    "tags": []
   },
   "outputs": [],
   "source": [
    "import PIL.Image\n",
    "import requests\n",
    "import os\n",
    "\n",
    "# set up a function that returns the description of an image from a given url\n",
    "def describe_image_from_url(image_url, client, model_name=\"gemini-2.0-flash\"):\n",
    "    \"\"\"\n",
    "    Downloads an image from a URL, sends it to Gemini for description,\n",
    "    and returns a one-sentence description string.\n",
    "    \"\"\"\n",
    "    # Extract filename from URL\n",
    "    filename = image_url.split(\"/\")[-1]\n",
    "    \n",
    "    # Download image\n",
    "    response = requests.get(image_url, stream=True)\n",
    "    if response.status_code != 200:\n",
    "        return f\"[Could not retrieve image: {image_url}]\"\n",
    "    \n",
    "    with open(filename, \"wb\") as f:\n",
    "        f.write(response.content)\n",
    "\n",
    "    # Open image\n",
    "    image = PIL.Image.open(filename)\n",
    "\n",
    "    # Prepare prompt\n",
    "    prompt = [\n",
    "        \"What is this? Please describe it. Only give me the detailed description in one single sentence, DO NOT tell me anything else.\",\n",
    "        image,\n",
    "    ]\n",
    "\n",
    "    # Get description from Gemini\n",
    "    gemini_response = client.models.generate_content(\n",
    "        model=model_name,\n",
    "        contents=prompt\n",
    "    )\n",
    "    \n",
    "    # Clean up file\n",
    "    os.remove(filename)\n",
    "\n",
    "    return gemini_response.text.strip()"
   ]
  },
  {
   "cell_type": "code",
   "execution_count": 11,
   "id": "abd5f42a",
   "metadata": {
    "execution": {
     "iopub.execute_input": "2025-04-15T04:17:34.504278Z",
     "iopub.status.busy": "2025-04-15T04:17:34.503403Z",
     "iopub.status.idle": "2025-04-15T04:17:36.188667Z",
     "shell.execute_reply": "2025-04-15T04:17:36.187710Z"
    },
    "papermill": {
     "duration": 1.697513,
     "end_time": "2025-04-15T04:17:36.191044",
     "exception": false,
     "start_time": "2025-04-15T04:17:34.493531",
     "status": "completed"
    },
    "tags": []
   },
   "outputs": [
    {
     "name": "stdout",
     "output_type": "stream",
     "text": [
      "This is an office space with a communal table and bench seating, in addition to several individual glass-enclosed work pods.\n"
     ]
    }
   ],
   "source": [
    "#testing the function\n",
    "image_url = \"https://static2.gensler.com/uploads/image/96555/EdelmanLA2023_GobutyRyan_07_1739474705.jpg\"\n",
    "description = describe_image_from_url(image_url, client)\n",
    "print(description)"
   ]
  },
  {
   "cell_type": "code",
   "execution_count": 12,
   "id": "69c2e4ba",
   "metadata": {
    "execution": {
     "iopub.execute_input": "2025-04-15T04:17:36.210974Z",
     "iopub.status.busy": "2025-04-15T04:17:36.210584Z",
     "iopub.status.idle": "2025-04-15T04:17:36.217137Z",
     "shell.execute_reply": "2025-04-15T04:17:36.216196Z"
    },
    "papermill": {
     "duration": 0.018768,
     "end_time": "2025-04-15T04:17:36.219146",
     "exception": false,
     "start_time": "2025-04-15T04:17:36.200378",
     "status": "completed"
    },
    "tags": []
   },
   "outputs": [],
   "source": [
    "# Replace image links in markdown with Gemini-generated descriptions\n",
    "\n",
    "import re\n",
    "import time\n",
    "\n",
    "def replace_image_links_with_descriptions(markdown_text, client, delay=5.0):\n",
    "    \"\"\"\n",
    "    Replaces image markdown (e.g., ![](url)) with a text description using Gemini.\n",
    "    \"\"\"\n",
    "    def describe_and_replace(match):\n",
    "        image_url = match.group(2)\n",
    "        try:\n",
    "            description = describe_image_from_url(image_url, client)\n",
    "            return f\"{description}\"\n",
    "        except Exception as e:\n",
    "            return f\"[Image could not be described: {image_url}]\"\n",
    "    \n",
    "    # Regex pattern to find image markdown: ![alt text](image_url)\n",
    "    image_pattern = re.compile(r\"!\\[(.*?)\\]\\((https?://[^\\s]+?)\\)\")\n",
    "    \n",
    "    # Replace all image links with descriptions\n",
    "    updated_text = image_pattern.sub(describe_and_replace, markdown_text)\n",
    "    \n",
    "    # Set up delays so Gemini has time to process and respond\n",
    "    time.sleep(delay)\n",
    "    \n",
    "    return updated_text"
   ]
  },
  {
   "cell_type": "code",
   "execution_count": 13,
   "id": "b53be2ce",
   "metadata": {
    "execution": {
     "iopub.execute_input": "2025-04-15T04:17:36.239017Z",
     "iopub.status.busy": "2025-04-15T04:17:36.238600Z",
     "iopub.status.idle": "2025-04-15T04:21:23.666942Z",
     "shell.execute_reply": "2025-04-15T04:21:23.665987Z"
    },
    "papermill": {
     "duration": 227.451145,
     "end_time": "2025-04-15T04:21:23.679316",
     "exception": false,
     "start_time": "2025-04-15T04:17:36.228171",
     "status": "completed"
    },
    "scrolled": true,
    "tags": []
   },
   "outputs": [
    {
     "data": {
      "text/markdown": [
       "| Metadata | Value |\n",
       "|-----|-------|\n",
       "| title | 'The New Experiential Hybrid' |\n",
       "| source | 'https://www.gensler.com/blog/the-new-experiential-hybrid' |\n",
       "| author | ['[[Gensler]]'] |\n",
       "| published | None |\n",
       "| created | datetime.date(2025, 4, 9) |\n",
       "| description | 'Gensler is a global architecture, design, and planning firm with 57 offices and 6,000+ professionals across the Americas, Europe, Greater China, and APME.' |\n",
       "| tags | ['clippings'] |\n",
       "\n",
       "# The New Experiential Hybrid\n",
       "The image shows an upscale outdoor shopping center at dusk, featuring modern architecture, palm trees wrapped in string lights, and an Erewhon market.\n",
       "\n",
       "The Sportsmen’s Lodge, Los Angeles, California\n",
       "\n",
       "The convergence of our physical and digital ecosystems continues to revolutionize our lives, reshape our behaviors, and reimagine our ability to navigate the complex beauty and challenges of life in a boundaryless world. Radical technological innovations have resulted in a fundamental mindset shift of our behaviors, needs, and desires, moving from Live, Work, Play (and Shop), to a hybrid of **Live, Live, Live**.\n",
       "\n",
       "While many of us feel Covid-19 is largely in the rearview mirror, unfortunately a tapestry of global social epidemics still affects us all. Americans are lonelier than ever: [according to the Cigna U.S. Loneliness Index](https://newsroom.thecignagroup.com/loneliness-epidemic-persists-post-pandemic-look), 58% of adults, and 79% of those aged 18-24 report being lonely. Our social networks are a third smaller now and we’re far more likely to live alone; today, nearly 28% of U.S. homes have just one occupant, up from 17% in 1969 according to the US Census. The annual number of marriages is in decline, and birth rates are slowing. In a lonelier, more divided world, the need for community is greater than ever.\n",
       "\n",
       "There’s a lot to consider with this cascade of change occurring at the speed of culture. As landlords, developers, and designers collaborate for a better future, we need to start thinking differently. It is not enough to simply evolve the concept of our built environment. Since we now live a hybridized life, we need to make a transformative shift to a “New Hybrid” experience, one that can play a significant role in restoring our sense of closeness in our communities. The New Hybrid experience is a model that uses an integrative approach to the disciplines of art, science, and technology, helping us to develop a deeper understanding of the complexities of our modern world and guide us to produce positive and impactful outcomes.\n",
       "\n",
       "The New Hybrid experience brings together the robust attributes of commerce, culture, and leisure, and recalibrates the urban experience. It is amenity rich, leverages technology, connects easily to transit, and offers world-class leisure and event activities. It promotes local artisans and culture, reflects generational and community values, and builds traditions.\n",
       "\n",
       "We relate to urban environments in an emotional dimension. Signature characteristics of hybrid places — otherwise called mixed use — are personable and human-centric. The value proposition is when a space, a place, a building, or an event **moves** us. When this happens, it elicits a sense of awe and wonder, engages all of our senses, dissolves barriers, and eliminates pain points.\n",
       "\n",
       "The emotional exchange between the built environment and the user is about attaining and retaining a person’s attention. It’s that visceral moment when something inside you connects with the place in a special way, the beyond ordinary life experience that can elicit an emotional response that requires no specialized knowledge, nothing more than one’s emotion to make it happen. And it happens to everyone. Great places have a defined persona, which has the ability to trigger aesthetic emotions — that highly emotive sense you get, which can sometimes be difficult to describe, but you just know it just feels amazing.\n",
       "\n",
       "Here are some examples of how the New Hybrid is playing out in our project work across multiple scales:\n",
       "\n",
       "For [The Hub on Causeway](https://www.gensler.com/projects/the-hub-on-causeway), a dynamic, 2-million-square-foot mixed-use development at Boston’s TD Garden, Gensler created a marquee sports and entertainment destination with office, residential, hotel, retail, entertainment, dining, and creative office space that culminates in a grand entrance that funnels people to TD Garden and the North Station transit hub.\n",
       "\n",
       "This is an exterior view of TD Garden and North Station in Boston at dusk, featuring illuminated signage, pedestrian walkways, and traffic on the surrounding streets.\n",
       "\n",
       "The Hub on Causeway, Boston, Massachusetts. Photo by Anton Grassl.\n",
       "\n",
       "On a smaller scale, Gensler transformed a former meeting and convention space into the Sportsmen’s Lodge, an upscale outdoor lifestyle center in LA’s Studio City with 95,700-square-feet of walkable retail, restaurants, fitness, and public space. An open-air plaza features communal spaces for visitors to dine or relax, while a waterfront deck hosts tenant and center events.\n",
       "\n",
       "This is an outdoor public space with tables and chairs for dining, a modern building, lush greenery, and people walking and enjoying the ambiance.\n",
       "\n",
       "The Sportsmen’s Lodge, Los Angeles, California\n",
       "\n",
       "**Designed for maximum happiness, the New Hybrid is a magnetic and transformational place that transcends the predictable**. An amazing hybrid experience creates cultural capital by truly caring for us and improves the way we are. If our lives are truly enriched, the place will be more than real estate — it creates a deep, emotional connection with us and truly becomes an integral part of our lives.\n",
       "\n",
       "For media inquiries, email [media@gensler.com](https://www.gensler.com/blog/)."
      ],
      "text/plain": [
       "<IPython.core.display.Markdown object>"
      ]
     },
     "metadata": {},
     "output_type": "display_data"
    },
    {
     "data": {
      "text/markdown": [
       "---"
      ],
      "text/plain": [
       "<IPython.core.display.Markdown object>"
      ]
     },
     "execution_count": 13,
     "metadata": {},
     "output_type": "execute_result"
    }
   ],
   "source": [
    "import pprint\n",
    "import frontmatter\n",
    "\n",
    "# Helper function to translate metadata to a table\n",
    "def metadata_to_table(metadata):\n",
    "    lines = [\"| Metadata | Value |\", \"|-----|-------|\"]\n",
    "    for key, value in metadata.items():\n",
    "        lines.append(f\"| {key} | {repr(value)} |\")\n",
    "    return '\\n'.join(lines)\n",
    "\n",
    "metadatas = []\n",
    "parsed_docs = []\n",
    "original_docs = []\n",
    "\n",
    "# Extract metadata in the original document and turn into clean table format\n",
    "for doc in documents:\n",
    "    post = frontmatter.loads(doc)\n",
    "    metadata = post.metadata\n",
    "    metadatas.append(metadata)\n",
    "    table = metadata_to_table(metadata)\n",
    "    title = metadata.get('title', 'Untitled')\n",
    "    parsed = f\"{table}\\n\\n# {title}\\n{post.content}\"\n",
    "    original_docs.append(parsed)  # Store unmodified version\n",
    "    parsed_with_descriptions = replace_image_links_with_descriptions(parsed, client)\n",
    "    parsed_docs.append(parsed_with_descriptions)\n",
    "\n",
    "display(Markdown(parsed_docs[0]))  # Preview an example of a parsed \n",
    "Markdown('---')"
   ]
  },
  {
   "cell_type": "markdown",
   "id": "add0eb6f",
   "metadata": {
    "papermill": {
     "duration": 0.008983,
     "end_time": "2025-04-15T04:21:23.697831",
     "exception": false,
     "start_time": "2025-04-15T04:21:23.688848",
     "status": "completed"
    },
    "tags": []
   },
   "source": [
    "Next we can generate the summary and reverse prompt for each article and add it to the metadata list."
   ]
  },
  {
   "cell_type": "code",
   "execution_count": 14,
   "id": "d08d515a",
   "metadata": {
    "execution": {
     "iopub.execute_input": "2025-04-15T04:21:23.718718Z",
     "iopub.status.busy": "2025-04-15T04:21:23.717724Z",
     "iopub.status.idle": "2025-04-15T04:21:48.300786Z",
     "shell.execute_reply": "2025-04-15T04:21:48.299771Z"
    },
    "papermill": {
     "duration": 24.595761,
     "end_time": "2025-04-15T04:21:48.302768",
     "exception": false,
     "start_time": "2025-04-15T04:21:23.707007",
     "status": "completed"
    },
    "tags": []
   },
   "outputs": [
    {
     "data": {
      "text/markdown": [
       "| Metadata | Value |\n",
       "|-----|-------|\n",
       "| title | 'The New Experiential Hybrid' |\n",
       "| source | 'https://www.gensler.com/blog/the-new-experiential-hybrid' |\n",
       "| author | ['[[Gensler]]'] |\n",
       "| published | None |\n",
       "| created | datetime.date(2025, 4, 9) |\n",
       "| description | 'Gensler is a global architecture, design, and planning firm with 57 offices and 6,000+ professionals across the Americas, Europe, Greater China, and APME.' |\n",
       "| tags | ['clippings'] |\n",
       "| summary | 'To combat loneliness and create community in a rapidly changing world, the \"New Experiential Hybrid\" integrates commerce, culture, and leisure in urban environments to create emotionally resonant spaces that foster connection and improve well-being.' |\n",
       "| prompt | 'Generate a thought leadership article on mixed-use developments in relation to creating community and addressing loneliness through experiential design and the integration of commerce, culture, and leisure.' |"
      ],
      "text/plain": [
       "<IPython.core.display.Markdown object>"
      ]
     },
     "metadata": {},
     "output_type": "display_data"
    },
    {
     "data": {
      "text/markdown": [
       "---"
      ],
      "text/plain": [
       "<IPython.core.display.Markdown object>"
      ]
     },
     "execution_count": 14,
     "metadata": {},
     "output_type": "execute_result"
    }
   ],
   "source": [
    "summary = 'Summarize the article in one sentence clearly.'\n",
    "\n",
    "reverse_prompt = \"\"\"\\\n",
    "Given this article, reverse engineer it into a one sentence prompt that would have generate this article. \n",
    "Keep the sentence clear, similar to the structure below:\n",
    "\"Generate an (thought leadership/research insight/etc.) article on (types of project/industry/etc.) (in relation to /regarding/etc.) (topics/issues/etc.)\"\n",
    "\"\"\"\n",
    "\n",
    "# Helper Function to process article through the LLM to generate responses\n",
    "@retry.Retry(predicate=is_retriable)\n",
    "def summarise_doc(request: str, document_file: str) -> str:\n",
    "  \"\"\"Execute the request on the uploaded document.\"\"\"\n",
    "  # Set the temperature low to stabilise the output.\n",
    "  config = types.GenerateContentConfig(temperature=0.0)\n",
    "  response = client.models.generate_content(\n",
    "      model='gemini-2.0-flash',\n",
    "      config=config,\n",
    "      contents=[request, document_file],\n",
    "  )\n",
    "  return response.text.strip() # Remove \\n and other white spaces\n",
    "\n",
    "# Add summary to metadata\n",
    "for i, doc in enumerate(parsed_docs):\n",
    "    metadatas[i]['summary'] = summarise_doc(summary, doc)\n",
    "    metadatas[i]['prompt'] = summarise_doc(reverse_prompt, doc)\n",
    "\n",
    "display(Markdown(metadata_to_table(metadatas[0])))  # Preview metadata of the first doc in table format\n",
    "Markdown('---')"
   ]
  },
  {
   "cell_type": "markdown",
   "id": "377c8e87",
   "metadata": {
    "papermill": {
     "duration": 0.009334,
     "end_time": "2025-04-15T04:21:48.322022",
     "exception": false,
     "start_time": "2025-04-15T04:21:48.312688",
     "status": "completed"
    },
    "tags": []
   },
   "source": [
    "We noticed that some metadata are in list format which is not acceptable by ChromaDB, so we will do simply join the list together into a single string."
   ]
  },
  {
   "cell_type": "code",
   "execution_count": 15,
   "id": "20b49554",
   "metadata": {
    "execution": {
     "iopub.execute_input": "2025-04-15T04:21:48.343335Z",
     "iopub.status.busy": "2025-04-15T04:21:48.342395Z",
     "iopub.status.idle": "2025-04-15T04:21:48.350248Z",
     "shell.execute_reply": "2025-04-15T04:21:48.349328Z"
    },
    "papermill": {
     "duration": 0.02059,
     "end_time": "2025-04-15T04:21:48.352154",
     "exception": false,
     "start_time": "2025-04-15T04:21:48.331564",
     "status": "completed"
    },
    "tags": []
   },
   "outputs": [
    {
     "data": {
      "text/markdown": [
       "| Metadata | Value |\n",
       "|-----|-------|\n",
       "| title | 'The New Experiential Hybrid' |\n",
       "| source | 'https://www.gensler.com/blog/the-new-experiential-hybrid' |\n",
       "| author | '[[Gensler]]' |\n",
       "| description | 'Gensler is a global architecture, design, and planning firm with 57 offices and 6,000+ professionals across the Americas, Europe, Greater China, and APME.' |\n",
       "| tags | 'clippings' |\n",
       "| summary | 'To combat loneliness and create community in a rapidly changing world, the \"New Experiential Hybrid\" integrates commerce, culture, and leisure in urban environments to create emotionally resonant spaces that foster connection and improve well-being.' |\n",
       "| prompt | 'Generate a thought leadership article on mixed-use developments in relation to creating community and addressing loneliness through experiential design and the integration of commerce, culture, and leisure.' |"
      ],
      "text/plain": [
       "<IPython.core.display.Markdown object>"
      ]
     },
     "metadata": {},
     "output_type": "display_data"
    }
   ],
   "source": [
    "def clean_metadata(meta: dict) -> dict:\n",
    "    return {\n",
    "        k: ', '.join(v) if isinstance(v, list) else v\n",
    "        for k, v in meta.items()\n",
    "        if isinstance(v, (str, int, float, bool, list))  # skip unacctapble types\n",
    "    }\n",
    "\n",
    "metadatas = [clean_metadata(metadata) for metadata in metadatas]\n",
    "display(Markdown(metadata_to_table(metadatas[0])))  # Preview metadata of the first doc in table format"
   ]
  },
  {
   "cell_type": "markdown",
   "id": "8ca5b475",
   "metadata": {
    "id": "yDzxArLeOexD",
    "papermill": {
     "duration": 0.009469,
     "end_time": "2025-04-15T04:21:48.371426",
     "exception": false,
     "start_time": "2025-04-15T04:21:48.361957",
     "status": "completed"
    },
    "tags": []
   },
   "source": [
    "## Creating the embedding database with ChromaDB\n",
    "\n",
    "Next we create a [custom function](https://docs.trychroma.com/guides/embeddings#custom-embedding-functions) to generate embeddings with the Gemini API. \n",
    "\n",
    "In our first step, we are implementing a retrieval system, so the `task_type` for generating the *document* embeddings is `retrieval_document`. Later, we will use `retrieval_query` for the *query* embeddings. More supported tasks: [API reference](https://ai.google.dev/api/embeddings#v1beta.TaskType) "
   ]
  },
  {
   "cell_type": "code",
   "execution_count": 16,
   "id": "a011cf37",
   "metadata": {
    "execution": {
     "iopub.execute_input": "2025-04-15T04:21:48.392842Z",
     "iopub.status.busy": "2025-04-15T04:21:48.391894Z",
     "iopub.status.idle": "2025-04-15T04:21:49.054215Z",
     "shell.execute_reply": "2025-04-15T04:21:49.053368Z"
    },
    "id": "mF7Uu1kCQsT0",
    "papermill": {
     "duration": 0.675566,
     "end_time": "2025-04-15T04:21:49.056607",
     "exception": false,
     "start_time": "2025-04-15T04:21:48.381041",
     "status": "completed"
    },
    "tags": []
   },
   "outputs": [],
   "source": [
    "from chromadb import Documents, EmbeddingFunction, Embeddings\n",
    "from google.genai import types\n",
    "\n",
    "class GeminiEmbeddingFunction(EmbeddingFunction):\n",
    "    # Specify whether to generate embeddings for documents, or queries\n",
    "    document_mode = True\n",
    "    # Specify embedding model\n",
    "    embedding_model = \"models/text-embedding-004\"\n",
    "\n",
    "    @retry.Retry(predicate=is_retriable)\n",
    "    def __call__(self, input: Documents) -> Embeddings:\n",
    "        if self.document_mode:\n",
    "            embedding_task = \"retrieval_document\"\n",
    "        else:\n",
    "            embedding_task = \"retrieval_query\"\n",
    "\n",
    "        response = client.models.embed_content(\n",
    "            model=self.embedding_model,\n",
    "            contents=input,\n",
    "            config=types.EmbedContentConfig(\n",
    "                task_type=embedding_task,\n",
    "            ),\n",
    "        )\n",
    "        return [e.values for e in response.embeddings]"
   ]
  },
  {
   "cell_type": "markdown",
   "id": "526565ab",
   "metadata": {
    "id": "HrDWLyopPNBf",
    "papermill": {
     "duration": 0.009405,
     "end_time": "2025-04-15T04:21:49.075752",
     "exception": false,
     "start_time": "2025-04-15T04:21:49.066347",
     "status": "completed"
    },
    "tags": []
   },
   "source": [
    "Now we create a [Chroma database client](https://docs.trychroma.com/getting-started) that uses the `GeminiEmbeddingFunction` and populate the database with the documents we loaded above, as well as linking to the correct metadata"
   ]
  },
  {
   "cell_type": "code",
   "execution_count": 17,
   "id": "fd67eaec",
   "metadata": {
    "execution": {
     "iopub.execute_input": "2025-04-15T04:21:49.097438Z",
     "iopub.status.busy": "2025-04-15T04:21:49.096492Z",
     "iopub.status.idle": "2025-04-15T04:21:49.989045Z",
     "shell.execute_reply": "2025-04-15T04:21:49.988187Z"
    },
    "id": "OITXgxZlLoXU",
    "papermill": {
     "duration": 0.905541,
     "end_time": "2025-04-15T04:21:49.991243",
     "exception": false,
     "start_time": "2025-04-15T04:21:49.085702",
     "status": "completed"
    },
    "tags": []
   },
   "outputs": [],
   "source": [
    "import chromadb\n",
    "\n",
    "DB_NAME = \"genslerthoughtdb\"\n",
    "\n",
    "embed_fn = GeminiEmbeddingFunction()\n",
    "embed_fn.document_mode = True\n",
    "\n",
    "chroma_client = chromadb.Client()\n",
    "db = chroma_client.get_or_create_collection(name=DB_NAME, embedding_function=embed_fn)\n",
    "\n",
    "# Delete by ID before re-adding\n",
    "db.delete(ids=[str(i) for i in range(len(parsed_docs))])\n",
    "\n",
    "db.add(\n",
    "    documents=parsed_docs,\n",
    "    metadatas=metadatas,\n",
    "    ids=[str(i) for i in range(len(parsed_docs))]\n",
    ")"
   ]
  },
  {
   "cell_type": "markdown",
   "id": "8ea77ad9",
   "metadata": {
    "papermill": {
     "duration": 0.009368,
     "end_time": "2025-04-15T04:21:50.010385",
     "exception": false,
     "start_time": "2025-04-15T04:21:50.001017",
     "status": "completed"
    },
    "tags": []
   },
   "source": [
    "We will also create a [Chroma database client](https://docs.trychroma.com/getting-started) that contains all the images in the articles so we can retrieve them with queries"
   ]
  },
  {
   "cell_type": "code",
   "execution_count": 18,
   "id": "3fa7c86e",
   "metadata": {
    "execution": {
     "iopub.execute_input": "2025-04-15T04:21:50.031036Z",
     "iopub.status.busy": "2025-04-15T04:21:50.030654Z",
     "iopub.status.idle": "2025-04-15T04:21:50.878943Z",
     "shell.execute_reply": "2025-04-15T04:21:50.877741Z"
    },
    "papermill": {
     "duration": 0.86103,
     "end_time": "2025-04-15T04:21:50.880943",
     "exception": false,
     "start_time": "2025-04-15T04:21:50.019913",
     "status": "completed"
    },
    "tags": []
   },
   "outputs": [
    {
     "name": "stdout",
     "output_type": "stream",
     "text": [
      "Indexed 69 images.\n"
     ]
    }
   ],
   "source": [
    "# Create image embedding index from parsed_docs\n",
    "import re\n",
    "\n",
    "image_embed_fn = GeminiEmbeddingFunction()\n",
    "image_embed_fn.document_mode = True\n",
    "\n",
    "image_db = chroma_client.get_or_create_collection(name=\"gensler_image_index\", embedding_function=image_embed_fn)\n",
    "\n",
    "image_docs = []\n",
    "image_metadatas = []\n",
    "image_ids = []\n",
    "\n",
    "for doc_id, doc in enumerate(original_docs):\n",
    "    # Use regex to extract inline images with captions: ![caption](url)\n",
    "    matches = re.findall(r\"!\\[(.*?)\\]\\((https?://[^\\s]+?)\\)\", doc)\n",
    "    \n",
    "    for i, (caption, url) in enumerate(matches):\n",
    "        title = metadatas[doc_id].get(\"title\", \"Untitled\")\n",
    "        \n",
    "        image_docs.append(caption.strip())\n",
    "        image_metadatas.append({\n",
    "            \"image_url\": url,\n",
    "            \"doc_id\": doc_id,\n",
    "            \"title\": title,\n",
    "            \"source\": metadatas[doc_id].get(\"source\", \"#\")\n",
    "        })\n",
    "        image_ids.append(f\"{doc_id}_{i}\")\n",
    "\n",
    "# Clear existing image entries (optional)\n",
    "image_db.delete(ids=image_ids)\n",
    "\n",
    "# Add to new image DB\n",
    "if image_docs and image_metadatas and image_ids:\n",
    "    image_db.add(\n",
    "        documents=image_docs,\n",
    "        metadatas=image_metadatas,\n",
    "        ids=image_ids\n",
    "    )\n",
    "    print(f\"Indexed {len(image_docs)} images.\")\n",
    "else:\n",
    "    print(\"No images were found to index.\")"
   ]
  },
  {
   "cell_type": "markdown",
   "id": "b6c5a353",
   "metadata": {
    "id": "2QbwFgfXp-fL",
    "papermill": {
     "duration": 0.009897,
     "end_time": "2025-04-15T04:21:50.900731",
     "exception": false,
     "start_time": "2025-04-15T04:21:50.890834",
     "status": "completed"
    },
    "tags": []
   },
   "source": [
    "Confirm that the data was inserted by looking at the database."
   ]
  },
  {
   "cell_type": "code",
   "execution_count": 19,
   "id": "9ea1e9c0",
   "metadata": {
    "execution": {
     "iopub.execute_input": "2025-04-15T04:21:50.921669Z",
     "iopub.status.busy": "2025-04-15T04:21:50.921270Z",
     "iopub.status.idle": "2025-04-15T04:21:50.929771Z",
     "shell.execute_reply": "2025-04-15T04:21:50.928856Z"
    },
    "id": "kQ9PHUL_l-hf",
    "papermill": {
     "duration": 0.021621,
     "end_time": "2025-04-15T04:21:50.931749",
     "exception": false,
     "start_time": "2025-04-15T04:21:50.910128",
     "status": "completed"
    },
    "tags": []
   },
   "outputs": [
    {
     "data": {
      "text/plain": [
       "20"
      ]
     },
     "execution_count": 19,
     "metadata": {},
     "output_type": "execute_result"
    }
   ],
   "source": [
    "db.count()"
   ]
  },
  {
   "cell_type": "code",
   "execution_count": 20,
   "id": "5f4adc31",
   "metadata": {
    "execution": {
     "iopub.execute_input": "2025-04-15T04:21:50.953296Z",
     "iopub.status.busy": "2025-04-15T04:21:50.952905Z",
     "iopub.status.idle": "2025-04-15T04:21:50.961933Z",
     "shell.execute_reply": "2025-04-15T04:21:50.960945Z"
    },
    "papermill": {
     "duration": 0.021881,
     "end_time": "2025-04-15T04:21:50.963805",
     "exception": false,
     "start_time": "2025-04-15T04:21:50.941924",
     "status": "completed"
    },
    "tags": []
   },
   "outputs": [
    {
     "data": {
      "text/plain": [
       "69"
      ]
     },
     "execution_count": 20,
     "metadata": {},
     "output_type": "execute_result"
    }
   ],
   "source": [
    "image_db.count()"
   ]
  },
  {
   "cell_type": "code",
   "execution_count": 21,
   "id": "88265dc8",
   "metadata": {
    "execution": {
     "iopub.execute_input": "2025-04-15T04:21:50.985445Z",
     "iopub.status.busy": "2025-04-15T04:21:50.985066Z",
     "iopub.status.idle": "2025-04-15T04:21:51.007960Z",
     "shell.execute_reply": "2025-04-15T04:21:51.006912Z"
    },
    "papermill": {
     "duration": 0.037203,
     "end_time": "2025-04-15T04:21:51.011083",
     "exception": false,
     "start_time": "2025-04-15T04:21:50.973880",
     "status": "completed"
    },
    "scrolled": true,
    "tags": []
   },
   "outputs": [
    {
     "name": "stdout",
     "output_type": "stream",
     "text": [
      "{'data': None,\n",
      " 'embeddings': array([[ 2.74255145e-02, -1.88273285e-02,  1.05113238e-02,\n",
      "        -2.91553754e-02, -1.09312758e-02,  1.85146872e-02,\n",
      "         1.59779899e-02, -9.44701303e-03, -3.62315623e-05,\n",
      "         3.27476487e-02, -7.65986647e-03,  7.40456805e-02,\n",
      "         7.46895969e-02,  1.46819670e-02, -2.27478594e-02,\n",
      "        -6.63340092e-02,  3.92478593e-02, -2.16191728e-02,\n",
      "        -1.16157293e-01, -5.41622490e-02,  2.51663513e-02,\n",
      "         8.91620759e-03, -5.05086966e-03, -8.32519904e-02,\n",
      "        -3.37843969e-02, -2.28993539e-02, -1.04365051e-02,\n",
      "         3.86152081e-02, -2.02230606e-02, -3.03027453e-03,\n",
      "         2.43133791e-02,  3.05229658e-03,  1.73234288e-02,\n",
      "         6.55132234e-02, -3.88347078e-03, -2.53984947e-02,\n",
      "        -2.06092633e-02, -6.57592490e-02, -5.02466923e-03,\n",
      "        -3.85548584e-02,  1.59067921e-02,  3.58530618e-02,\n",
      "        -1.04441373e-02,  4.78714108e-02, -2.14192383e-02,\n",
      "        -4.51888032e-02,  9.38638207e-03,  3.98440920e-02,\n",
      "        -6.52210042e-02,  3.05994805e-02,  3.75006683e-02,\n",
      "         6.33984059e-03, -7.56535232e-02,  2.28844024e-02,\n",
      "        -2.02813894e-02, -1.88593902e-02, -4.02751192e-03,\n",
      "         1.12842731e-02,  1.46726985e-02,  4.05834615e-02,\n",
      "        -3.63236852e-02, -1.99896991e-02,  1.36960922e-02,\n",
      "        -3.08112353e-02, -2.23780912e-03,  3.90190557e-02,\n",
      "        -3.59739773e-02, -3.40143597e-04, -5.22600710e-02,\n",
      "         4.07343917e-02, -1.86489020e-02,  5.43490797e-02,\n",
      "        -6.58794492e-02,  1.50563493e-02,  9.94090736e-03,\n",
      "        -6.10115565e-03,  1.29972482e-02, -3.48857641e-02,\n",
      "         1.59037951e-02,  7.88605437e-02,  5.54188807e-03,\n",
      "         3.82052921e-02,  7.02228025e-02, -4.03997349e-03,\n",
      "        -1.58450846e-02, -5.40337041e-02, -4.74828742e-02,\n",
      "        -5.90446740e-02, -6.80603385e-02, -5.14312908e-02,\n",
      "         1.74296070e-02,  6.45301268e-02, -1.06885992e-02,\n",
      "         9.46566835e-03,  6.08103834e-02, -1.44703975e-02,\n",
      "        -7.64471591e-02, -1.10536655e-02,  1.14749238e-01,\n",
      "         8.41367394e-02,  3.57305817e-02,  2.40259357e-02,\n",
      "        -2.68576089e-02, -1.15837425e-01,  5.45658357e-02,\n",
      "         4.68363687e-02, -2.19311342e-02, -5.94939739e-02,\n",
      "        -1.79975424e-02,  1.10370498e-02,  7.71461055e-03,\n",
      "        -3.97114083e-02,  2.87814569e-02, -1.18476562e-02,\n",
      "         3.67029943e-02,  5.41502843e-04, -6.43914342e-02,\n",
      "         1.88002177e-02,  3.38505544e-02, -1.31885819e-02,\n",
      "        -1.90869477e-02,  2.79492252e-02, -1.77056585e-02,\n",
      "         1.00339666e-01,  1.12031914e-01,  2.02714931e-02,\n",
      "         1.68137420e-02, -5.29519767e-02, -6.34998307e-02,\n",
      "        -2.32326649e-02,  3.32559943e-02, -7.17991367e-02,\n",
      "         1.73590463e-02,  2.87907291e-02,  6.35633757e-03,\n",
      "        -4.20791022e-02,  4.67234924e-02, -3.05026788e-02,\n",
      "         8.70181769e-02, -5.13916090e-02,  6.21287674e-02,\n",
      "        -5.86610995e-02, -9.99832619e-03,  2.07889862e-02,\n",
      "        -4.94995452e-02,  3.94692412e-03,  9.28770900e-02,\n",
      "         5.98348603e-02, -5.45679703e-02,  1.41933626e-02,\n",
      "        -3.89499441e-02, -3.54983844e-02,  1.43048842e-03,\n",
      "        -1.80494133e-02, -1.61491130e-02, -2.18420532e-02,\n",
      "         8.50791484e-02,  3.50957625e-02,  9.09055397e-02,\n",
      "        -2.35618670e-02,  2.97532864e-02, -4.64562923e-02,\n",
      "        -5.74140716e-03,  2.67947689e-02,  3.64481956e-02,\n",
      "        -2.95054838e-02,  5.25095733e-03,  2.44301204e-02,\n",
      "        -1.10801421e-02, -4.05178852e-02, -4.43223007e-02,\n",
      "        -1.73055530e-02, -5.79679534e-02, -7.64351487e-02,\n",
      "        -2.99006831e-02, -4.64254096e-02, -4.50845808e-02,\n",
      "        -4.51703742e-02, -4.00197953e-02, -3.15302089e-02,\n",
      "         5.84431887e-02, -4.17751148e-02, -4.54559661e-02,\n",
      "        -4.63803820e-02, -7.86662940e-03,  5.18902242e-02,\n",
      "        -4.07078154e-02, -4.02537510e-02,  7.93133974e-02,\n",
      "         4.19075973e-02,  4.60775346e-02,  1.18582491e-02,\n",
      "         4.22087349e-02,  6.94567151e-03, -2.50206180e-02,\n",
      "        -3.90866958e-02,  5.49498796e-02, -7.99157247e-02,\n",
      "        -2.13128775e-02,  2.65126955e-02,  1.10497733e-03,\n",
      "        -3.05953156e-02, -1.75378360e-02, -2.04399731e-02,\n",
      "        -1.30862016e-02,  8.76346324e-03, -3.24303620e-02,\n",
      "        -8.37987363e-02,  2.81024873e-02, -7.49281887e-03,\n",
      "         3.77873937e-03,  1.43653369e-02, -3.23280804e-02,\n",
      "        -6.12801649e-02,  2.39791647e-02, -1.44867804e-02,\n",
      "         3.02652176e-02, -1.14894072e-02,  5.61182424e-02,\n",
      "        -8.48085657e-02,  5.72937392e-02, -4.50191461e-03,\n",
      "        -1.42195998e-02,  4.09929007e-02, -3.62416590e-03,\n",
      "         4.75170054e-02, -5.50448298e-02, -3.70404124e-02,\n",
      "        -2.63695363e-02,  6.20759837e-03, -8.73044785e-03,\n",
      "         4.61921059e-02, -1.32494410e-02, -1.91990566e-02,\n",
      "        -6.29101098e-02,  7.74389282e-02,  1.88351925e-02,\n",
      "         1.76763311e-02,  3.12083624e-02, -5.03577553e-02,\n",
      "        -4.76946905e-02,  2.75613982e-02,  2.13536639e-02,\n",
      "        -3.66863385e-02, -1.47332260e-02,  2.51200162e-02,\n",
      "        -5.57675352e-03,  3.05401422e-02,  1.47221126e-02,\n",
      "        -8.72122422e-02, -8.98749661e-03, -8.20440799e-03,\n",
      "         3.40694934e-02,  1.02152152e-03, -4.25601862e-02,\n",
      "        -6.93512112e-02,  9.93852410e-03, -3.93936783e-02,\n",
      "        -2.47379448e-02, -1.86392497e-02,  1.78694315e-02,\n",
      "         5.56284795e-03, -4.10239510e-02, -4.48304303e-02,\n",
      "        -2.74715712e-03, -3.35173979e-02,  8.29601660e-03,\n",
      "        -2.72191055e-02,  2.55904198e-02, -2.52583418e-02,\n",
      "         2.42091063e-02, -8.74230638e-03, -4.78653759e-02,\n",
      "        -1.15813380e-02, -6.99290335e-02,  4.02246453e-02,\n",
      "        -4.69600223e-02,  1.60795054e-03, -3.54850441e-02,\n",
      "        -5.83350025e-02,  2.34663002e-02, -4.92244326e-02,\n",
      "        -1.48379030e-02, -4.73868847e-02, -7.33431382e-03,\n",
      "        -3.67866829e-02, -1.59748141e-02,  5.12392707e-02,\n",
      "         1.58349834e-02, -1.12026874e-02,  4.78894543e-03,\n",
      "         1.98812652e-02, -1.12759778e-02, -1.45207746e-02,\n",
      "         3.30259954e-03, -2.52558272e-02,  1.29050212e-02,\n",
      "         3.43352258e-02,  3.39201391e-02, -2.40030861e-03,\n",
      "        -1.16141206e-02,  5.66431656e-02, -6.34094700e-02,\n",
      "         3.83571046e-03, -3.90319247e-03, -3.25841792e-02,\n",
      "         2.60766335e-02,  2.24318579e-02,  4.99642047e-04,\n",
      "         2.22346876e-02, -1.65434796e-02,  2.02256162e-03,\n",
      "        -2.11255588e-02, -2.94139795e-03, -7.57600814e-02,\n",
      "        -1.93433836e-02, -1.71420366e-01, -4.50033210e-02,\n",
      "        -2.47652400e-02,  7.61294970e-04,  1.41562903e-02,\n",
      "         3.50579508e-02, -4.54931334e-02, -3.45666222e-02,\n",
      "         3.57866585e-02, -1.63340718e-02,  6.52670953e-03,\n",
      "         3.42698619e-02,  7.20594078e-02, -2.00933684e-02,\n",
      "        -2.23316327e-02, -2.68957261e-02, -1.78001206e-02,\n",
      "        -9.57586430e-03, -1.94685645e-02,  7.86658097e-03,\n",
      "        -4.85482365e-02,  5.57709765e-03,  2.37631090e-02,\n",
      "         8.82225484e-02,  9.55394469e-03,  6.60357159e-03,\n",
      "         6.57564849e-02, -1.06669264e-02, -3.47277112e-02,\n",
      "         5.70890568e-02, -5.16525134e-02,  2.59871576e-02,\n",
      "         4.50750068e-03,  1.89490151e-02,  3.46480832e-02,\n",
      "         5.07870875e-02,  2.30994578e-02, -1.39959054e-02,\n",
      "         9.62651335e-03,  1.48486188e-02,  3.97332460e-02,\n",
      "         3.80761959e-02,  2.43493002e-02,  1.23446407e-02,\n",
      "        -9.12037399e-03,  1.62414256e-02,  4.89036972e-03,\n",
      "         7.55778467e-03,  1.66722033e-02,  1.14318039e-02,\n",
      "         3.77675742e-02,  2.93673445e-02, -1.47748869e-02,\n",
      "        -3.25159058e-02,  3.16785239e-02,  1.29981022e-02,\n",
      "         1.40322186e-02, -2.85780197e-03, -3.23800370e-02,\n",
      "         2.26953570e-02, -1.13987196e-02,  1.92319341e-02,\n",
      "         2.71575637e-02, -5.48507832e-02, -2.39595715e-02,\n",
      "        -2.34450586e-02, -1.77234635e-02,  2.83943489e-02,\n",
      "        -3.09499155e-04,  9.45053324e-02, -6.86592609e-02,\n",
      "        -1.04415948e-02,  2.18112934e-02,  3.33702005e-02,\n",
      "        -8.15439969e-03,  2.70875040e-02, -3.49117778e-02,\n",
      "         2.65213959e-02,  1.81133617e-02, -2.60447543e-02,\n",
      "        -4.36124764e-02,  9.02006868e-03, -1.16220275e-02,\n",
      "         1.70370527e-02, -7.24552870e-02, -4.65494674e-03,\n",
      "         9.73912776e-02, -2.75723031e-03,  1.38200521e-02,\n",
      "        -2.57217623e-02,  6.96880445e-02, -2.24269088e-02,\n",
      "        -2.48592645e-02, -5.80826104e-02,  3.97580396e-03,\n",
      "        -3.49636674e-02, -2.11908314e-02,  4.22335323e-03,\n",
      "        -6.85182810e-02,  1.79209094e-02,  3.96920331e-02,\n",
      "        -2.86976527e-02,  6.27392530e-03,  6.77852705e-02,\n",
      "        -3.00976839e-02,  2.68694200e-02,  7.66951963e-02,\n",
      "         1.71680003e-03,  6.05686661e-03, -7.27627501e-02,\n",
      "        -1.76754985e-02,  1.62364822e-02,  2.23642327e-02,\n",
      "         9.58868023e-03,  1.59236379e-02,  3.17463167e-02,\n",
      "        -2.64470484e-02, -4.92517487e-04, -1.30731435e-02,\n",
      "         6.69413954e-02,  8.61215405e-03, -2.20754603e-03,\n",
      "         1.24507397e-02, -1.71437152e-02, -5.28956577e-02,\n",
      "        -9.01386961e-02,  1.40475025e-02,  7.83171970e-03,\n",
      "        -2.08762195e-03,  5.33636622e-02,  4.13970537e-02,\n",
      "         2.95109712e-02, -1.16516268e-02, -8.33046716e-03,\n",
      "         1.43410685e-03,  1.35796601e-02,  1.90825518e-02,\n",
      "        -6.40941560e-02, -4.76459861e-02,  1.68271922e-02,\n",
      "        -4.38268017e-03,  7.29993964e-03, -1.03282533e-03,\n",
      "         1.02881826e-02, -4.03456204e-02,  8.51639267e-03,\n",
      "         2.47370284e-02,  3.95805687e-02,  2.37814374e-02,\n",
      "         2.81995516e-02, -1.96811408e-02,  5.30619435e-02,\n",
      "        -2.51561534e-02,  3.61258835e-02,  1.46751059e-02,\n",
      "         7.72526115e-03,  7.44717419e-02, -4.01691417e-04,\n",
      "         6.63491664e-03, -5.82357915e-03,  1.24320472e-02,\n",
      "        -2.31191795e-02, -4.64504063e-02, -5.07995300e-02,\n",
      "        -4.77812067e-02, -1.39337620e-02, -1.70124713e-02,\n",
      "        -1.39932698e-02,  2.28504185e-02, -4.90882173e-02,\n",
      "         2.98443213e-02,  2.16631088e-02, -4.88824174e-02,\n",
      "         1.14906337e-02,  9.49891657e-03, -5.52406942e-04,\n",
      "        -4.18410543e-03, -1.14952642e-02, -6.06214143e-02,\n",
      "        -4.09339927e-03,  5.39950915e-02,  3.50854509e-02,\n",
      "        -5.86284325e-03,  1.39343282e-02,  1.97072662e-02,\n",
      "         4.14414629e-02,  2.19617449e-02, -4.98548783e-02,\n",
      "         2.76856646e-02,  1.28373336e-02, -3.16588469e-02,\n",
      "        -7.18462281e-03,  3.72214802e-02,  2.26674713e-02,\n",
      "         6.85421983e-03, -4.17825244e-02, -4.10300354e-03,\n",
      "        -2.57795192e-02, -4.18771012e-03,  3.50167267e-02,\n",
      "        -3.98596004e-03,  1.75194535e-02, -3.77470776e-02,\n",
      "         8.81596059e-02, -6.24981746e-02, -4.34068367e-02,\n",
      "        -1.89592407e-04, -4.94096316e-02,  1.63841397e-02,\n",
      "        -3.41738239e-02,  1.56203369e-02, -1.62384822e-03,\n",
      "         5.24793677e-02,  9.94422380e-03, -4.08145366e-03,\n",
      "         4.21378836e-02,  5.97664490e-02,  2.52939463e-02,\n",
      "         1.26115009e-02,  1.11850612e-02, -1.12770284e-02,\n",
      "         2.93500312e-02,  1.31996314e-03,  4.26359996e-02,\n",
      "         2.35196315e-02, -8.50397162e-03,  4.90552804e-04,\n",
      "         5.38684353e-02,  4.21261638e-02,  1.00686215e-02,\n",
      "         5.74557297e-03,  1.10073118e-02,  8.12469330e-03,\n",
      "         6.60372972e-02,  1.37157703e-03, -2.78006252e-02,\n",
      "        -6.87048119e-03, -1.52704101e-02,  3.82764009e-03,\n",
      "        -2.37361360e-02,  2.82486323e-02, -6.28532656e-03,\n",
      "        -1.50895268e-02, -4.97636795e-02,  1.38999615e-02,\n",
      "         5.88774960e-03,  3.36606652e-02,  1.54451584e-03,\n",
      "         8.95878300e-03,  2.47748028e-02,  2.33863238e-02,\n",
      "        -1.30155189e-02,  2.22568158e-02, -1.81943662e-02,\n",
      "        -1.49435233e-02, -2.02148575e-02,  4.07703146e-02,\n",
      "         1.99106000e-02, -1.12786414e-02, -2.85924878e-03,\n",
      "        -2.49172822e-02,  2.18281709e-02, -1.79606657e-02,\n",
      "        -5.25199324e-02,  2.72001252e-02,  1.71887297e-02,\n",
      "         1.72927920e-02, -5.28662931e-03,  3.82548571e-02,\n",
      "        -3.01937163e-02,  2.50835214e-02, -3.07533331e-02,\n",
      "        -8.81296396e-03, -1.67129003e-02,  2.81912349e-02,\n",
      "         9.03468207e-03, -2.97625847e-02, -5.01932390e-02,\n",
      "         2.28256918e-02, -4.01433855e-02, -2.07364690e-02,\n",
      "         3.76093155e-03,  6.30162358e-02,  3.11041791e-02,\n",
      "         1.74500085e-02, -7.68671185e-03,  4.76617441e-02,\n",
      "         8.54077935e-03, -1.34838773e-02, -7.42342928e-03,\n",
      "         1.77573366e-03, -4.69384305e-02,  1.31471585e-02,\n",
      "        -6.58133924e-02,  2.07547881e-02,  1.95650458e-02,\n",
      "         2.04365910e-03, -5.65528832e-02, -3.85226347e-02,\n",
      "         2.18105763e-02, -3.43550555e-02, -6.06991351e-03,\n",
      "         9.20323131e-04,  2.06648111e-02, -2.64331661e-02,\n",
      "        -1.33253876e-02, -7.32179917e-03,  1.72560811e-02,\n",
      "        -4.94131185e-02,  3.10329143e-02, -2.71406714e-02,\n",
      "         3.67838237e-03,  1.06998775e-02,  5.49085997e-02,\n",
      "        -4.98871878e-03,  5.52501716e-03, -3.23425187e-03,\n",
      "        -3.69895771e-02, -2.75821835e-02,  5.21257054e-04,\n",
      "         2.14835983e-02,  3.65543005e-04, -3.55392881e-02,\n",
      "        -6.74122274e-02,  4.16809656e-02, -9.97372810e-03,\n",
      "         4.40776162e-02, -8.72336980e-03,  8.95355642e-03,\n",
      "         4.17959094e-02, -5.39137460e-02, -1.79323815e-02,\n",
      "         9.25597083e-03,  9.86291841e-03, -1.92048270e-02,\n",
      "         3.91475670e-02, -2.94561125e-02,  4.00253804e-03,\n",
      "        -4.44444679e-02,  1.81540232e-02, -2.88985223e-02,\n",
      "        -4.27934006e-02,  1.63512211e-02,  1.85264684e-02,\n",
      "        -1.81297027e-03, -4.84629162e-02, -1.11845694e-03,\n",
      "         5.21105900e-02, -3.10698710e-02,  3.70028168e-02,\n",
      "        -2.30474677e-02,  2.01594029e-02,  1.44725610e-02,\n",
      "        -8.31060018e-03, -1.43648395e-02,  3.78038101e-02,\n",
      "        -1.39135085e-02,  4.71584150e-04,  2.26897877e-02,\n",
      "         3.73539329e-02,  5.18563278e-02, -3.36769372e-02,\n",
      "        -4.30270880e-02,  2.42847558e-02,  2.75547337e-02,\n",
      "        -3.93585376e-02,  1.77710336e-02, -4.15844992e-02,\n",
      "        -1.40344771e-02, -2.14193738e-03,  1.96280982e-02,\n",
      "        -3.00502721e-02,  2.18664538e-02,  1.00394571e-02,\n",
      "        -1.59809701e-02, -4.14297357e-02, -4.53662761e-02,\n",
      "         1.52718341e-02,  2.59498563e-02,  5.66372797e-02,\n",
      "        -3.15846526e-03, -1.19780079e-02,  3.71755548e-02,\n",
      "        -2.50187851e-02,  1.16971899e-02,  9.15997196e-03,\n",
      "        -3.88755910e-02, -1.49454139e-02,  1.63047798e-02,\n",
      "         8.38483423e-02,  4.85762842e-02,  2.73399353e-02,\n",
      "        -5.94083369e-02,  5.35019627e-03, -2.76956353e-02,\n",
      "        -1.68496966e-02,  7.00371042e-02, -2.97202532e-05,\n",
      "        -4.55616713e-02,  3.99632677e-02,  4.45136949e-02,\n",
      "        -6.10455200e-02, -2.44894885e-02,  1.45402865e-03,\n",
      "         1.54677704e-02, -5.40584102e-02,  3.31758335e-02,\n",
      "        -8.50603171e-03,  6.18271418e-02, -1.38838338e-02,\n",
      "        -5.59193790e-02,  2.21754443e-02,  1.44800423e-02,\n",
      "         4.04052213e-02,  2.82664318e-03, -5.70878200e-03,\n",
      "        -3.45525816e-02,  6.50757253e-02, -2.63059773e-02,\n",
      "        -2.25790255e-02, -2.58917436e-02, -2.79618450e-03,\n",
      "         6.76567433e-03, -1.64782014e-02,  3.64503376e-02,\n",
      "         4.56016697e-03, -6.94730207e-02, -9.49062407e-03,\n",
      "         7.94524141e-03, -1.88364647e-02, -7.46342633e-03,\n",
      "         1.53852976e-03, -9.92835034e-03, -2.00268161e-02,\n",
      "        -2.63103228e-02, -1.16337668e-02, -1.73764359e-02,\n",
      "        -2.34648529e-02,  8.64815637e-02, -1.80732515e-02,\n",
      "         1.95393041e-02, -2.14646645e-02, -1.12344921e-02,\n",
      "         3.69246602e-02, -1.15519371e-02,  3.36523983e-03,\n",
      "        -9.03288554e-03, -1.73557624e-02, -7.25461077e-03,\n",
      "         9.73079540e-03,  2.84270104e-02,  2.41293083e-03]]),\n",
      " 'ids': ['0'],\n",
      " 'included': [<IncludeEnum.embeddings: 'embeddings'>,\n",
      "              <IncludeEnum.documents: 'documents'>,\n",
      "              <IncludeEnum.metadatas: 'metadatas'>],\n",
      " 'metadatas': [{'author': '[[Gensler]]',\n",
      "                'description': 'Gensler is a global architecture, design, and '\n",
      "                               'planning firm with 57 offices and 6,000+ '\n",
      "                               'professionals across the Americas, Europe, '\n",
      "                               'Greater China, and APME.',\n",
      "                'prompt': 'Generate a thought leadership article on mixed-use '\n",
      "                          'developments in relation to creating community and '\n",
      "                          'addressing loneliness through experiential design '\n",
      "                          'and the integration of commerce, culture, and '\n",
      "                          'leisure.',\n",
      "                'source': 'https://www.gensler.com/blog/the-new-experiential-hybrid',\n",
      "                'summary': 'To combat loneliness and create community in a '\n",
      "                           'rapidly changing world, the \"New Experiential '\n",
      "                           'Hybrid\" integrates commerce, culture, and leisure '\n",
      "                           'in urban environments to create emotionally '\n",
      "                           'resonant spaces that foster connection and improve '\n",
      "                           'well-being.',\n",
      "                'tags': 'clippings',\n",
      "                'title': 'The New Experiential Hybrid'}],\n",
      " 'uris': None}\n"
     ]
    }
   ],
   "source": [
    "# We can peek at the data too.\n",
    "\n",
    "# Remove the 'document' field to only see the metadata and vectors first\n",
    "clean_peek = {k: v for k, v in db.peek(1).items() if k != 'documents'}\n",
    "\n",
    "pprint.pprint(clean_peek)"
   ]
  },
  {
   "cell_type": "code",
   "execution_count": 22,
   "id": "22003209",
   "metadata": {
    "execution": {
     "iopub.execute_input": "2025-04-15T04:21:51.033846Z",
     "iopub.status.busy": "2025-04-15T04:21:51.033415Z",
     "iopub.status.idle": "2025-04-15T04:21:51.046148Z",
     "shell.execute_reply": "2025-04-15T04:21:51.045123Z"
    },
    "papermill": {
     "duration": 0.026181,
     "end_time": "2025-04-15T04:21:51.048070",
     "exception": false,
     "start_time": "2025-04-15T04:21:51.021889",
     "status": "completed"
    },
    "scrolled": true,
    "tags": []
   },
   "outputs": [
    {
     "data": {
      "text/markdown": [
       "**Caption:** A street with cars and buildings."
      ],
      "text/plain": [
       "<IPython.core.display.Markdown object>"
      ]
     },
     "metadata": {},
     "output_type": "display_data"
    },
    {
     "data": {
      "text/markdown": [
       "![A street with cars and buildings.](https://static2.gensler.com/uploads/image/96476/Sportsmens_Lodge_N7_1738969737.jpg)  \n",
       "**From article:** The New Experiential Hybrid"
      ],
      "text/plain": [
       "<IPython.core.display.Markdown object>"
      ]
     },
     "metadata": {},
     "output_type": "display_data"
    }
   ],
   "source": [
    "# Peek at the 1st image embedding entry\n",
    "peek_image = image_db.peek(1)\n",
    "\n",
    "# Display the caption as markdown (if you want to show it as text)\n",
    "display(Markdown(f\"**Caption:** {peek_image['documents'][0]}\"))\n",
    "\n",
    "# Display the actual image with source info (from metadata)\n",
    "meta = peek_image[\"metadatas\"][0]\n",
    "image_url = meta[\"image_url\"]\n",
    "title = meta.get(\"title\", \"Untitled\")\n",
    "\n",
    "# Render the image and source title\n",
    "display(Markdown(f\"![{peek_image['documents'][0]}]({image_url})  \\n**From article:** {title}\"))"
   ]
  },
  {
   "cell_type": "markdown",
   "id": "e5421fb3",
   "metadata": {
    "id": "Tu5zRErgsQ8u",
    "papermill": {
     "duration": 0.010342,
     "end_time": "2025-04-15T04:21:51.068997",
     "exception": false,
     "start_time": "2025-04-15T04:21:51.058655",
     "status": "completed"
    },
    "tags": []
   },
   "source": [
    "## Retrieval: Find relevant documents and images\n",
    "\n",
    "To search the Chroma database, we will call the `query` method. Note that we also switch to the `retrieval_query` mode of embedding generation, so the query will be embeded for the purpose of query to the databse.\n"
   ]
  },
  {
   "cell_type": "code",
   "execution_count": 23,
   "id": "ee23761f",
   "metadata": {
    "execution": {
     "iopub.execute_input": "2025-04-15T04:21:51.092116Z",
     "iopub.status.busy": "2025-04-15T04:21:51.091728Z",
     "iopub.status.idle": "2025-04-15T04:21:51.284676Z",
     "shell.execute_reply": "2025-04-15T04:21:51.283719Z"
    },
    "id": "gQdJMbTSLtKE",
    "papermill": {
     "duration": 0.206901,
     "end_time": "2025-04-15T04:21:51.286818",
     "exception": false,
     "start_time": "2025-04-15T04:21:51.079917",
     "status": "completed"
    },
    "scrolled": true,
    "tags": []
   },
   "outputs": [
    {
     "data": {
      "text/markdown": [
       "| Metadata | Value |\n",
       "|-----|-------|\n",
       "| title | '3 Surprises Impacting the Return to the Office' |\n",
       "| source | 'https://www.gensler.com/blog/3-surprises-impacting-the-return-to-the-office' |\n",
       "| author | ['[[Gensler]]'] |\n",
       "| published | None |\n",
       "| created | datetime.date(2025, 4, 9) |\n",
       "| description | 'Gensler is a global architecture, design, and planning firm with 57 offices and 6,000+ professionals across the Americas, Europe, Greater China, and APME.' |\n",
       "| tags | ['clippings'] |\n",
       "\n",
       "# 3 Surprises Impacting the Return to the Office\n",
       "![A group of people sitting on couches in a room with large windows.](https://static1.gensler.com/uploads/hero_element/21205/thumb_tablet/thumbs/McCann_N15_1675895087_1024.jpg)\n",
       "\n",
       "A group of people sitting on couches in a room with large windows.\n",
       "\n",
       "*Editor’s Note: This blog is part of our [blog series](https://www.gensler.com/blog/by-keyword?k=WPS22) exploring insights from Gensler’s 2022 Workplace Survey findings.*\n",
       "\n",
       "Research often measures and confirms what we, as designers and strategists, may intuitively believe based on our experience and practice. As a researcher, I love uncovering surprises in the data that debunk common perceptions. These surprising truths often lead to a new understanding of how people work and what they value, as well as new insights on the built environment. In [our latest workplace research](https://www.gensler.com/gri/us-workplace-survey-2022) study, we saw a number of unexpected surprises!\n",
       "\n",
       "Here are the top three surprises uncovered in our research impacting the return to the office:\n",
       "\n",
       "## Surprise #1: A Shift in the Role of the Office\n",
       "\n",
       "Gensler conducted 11 different workplace research studies during the pandemic to understand how work and employee expectations were changing and what it meant for the new role of the office. In our surveys, we asked office workers and senior leaders to choose their top five most important reasons to come into the office. Throughout the pandemic the top-ranked reason was to “work in-person w"
      ],
      "text/plain": [
       "<IPython.core.display.Markdown object>"
      ]
     },
     "metadata": {},
     "output_type": "display_data"
    },
    {
     "data": {
      "text/markdown": [
       "---"
      ],
      "text/plain": [
       "<IPython.core.display.Markdown object>"
      ]
     },
     "metadata": {},
     "output_type": "display_data"
    },
    {
     "data": {
      "text/markdown": [
       "| Metadata | Value |\n",
       "|-----|-------|\n",
       "| title | 'Repopulating the Workplace: Why Collaboration Space Is in Danger' |\n",
       "| source | 'https://www.gensler.com/blog/repopulating-the-workplace-collaboration-space-in-danger' |\n",
       "| author | ['[[Gensler]]'] |\n",
       "| published | None |\n",
       "| created | datetime.date(2025, 4, 9) |\n",
       "| description | 'Gensler is a global architecture, design, and planning firm with 57 offices and 6,000+ professionals across the Americas, Europe, Greater China, and APME.' |\n",
       "| tags | ['clippings'] |\n",
       "\n",
       "# Repopulating the Workplace: Why Collaboration Space Is in Danger\n",
       "![A group of people in a room.](https://static2.gensler.com/uploads/image/96555/EdelmanLA2023_GobutyRyan_07_1739474705.jpg)\n",
       "\n",
       "Edelman Los Angeles. Photo by Ryan Gobuty.\n",
       "\n",
       "*Editor’s note: This article was originally published in [Work Design Magazine](https://www.workdesign.com/2025/02/informal-collaboration-space/).*\n",
       "\n",
       "In the aftermath of the pandemic and the resulting shift to remote and hybrid work models, many organizations have reduced their real estate footprint, in some cases, significantly. Today, as more and more companies look to increase office presence for employees, they are having to rethink their workplace strategies to accommodate a greater daily population.\n",
       "\n",
       "They’re grappling with whether to lease more space or repurpose shared space to accommodate increased demand for workstations and offices. This dilemma is a microcosm of broader organizational challenges that often pit financial considerations against employee needs and cultural implications.\n",
       "\n",
       "## Why Collaboration Space Increased as Footprints Decreased\n",
       "\n",
       "The pandemic prompted a paradigm shift in how offices are used. The purpose of the office was less about individual work and more about interactive work. Traditional cubicles gave way to more open, collaboration-focused layouts with minimal shared individual space types. Meeting rooms increased in number and variety, and breakout spaces, huddle rooms, and lounge areas became the focal "
      ],
      "text/plain": [
       "<IPython.core.display.Markdown object>"
      ]
     },
     "metadata": {},
     "output_type": "display_data"
    },
    {
     "data": {
      "text/markdown": [
       "---"
      ],
      "text/plain": [
       "<IPython.core.display.Markdown object>"
      ]
     },
     "metadata": {},
     "output_type": "display_data"
    },
    {
     "data": {
      "text/markdown": [
       "| Metadata | Value |\n",
       "|-----|-------|\n",
       "| title | 'The Future Is Mixed Use: How Principles of Mixed Use Design Will Restore Our Communities' |\n",
       "| source | 'https://www.gensler.com/blog/how-principles-of-mixed-use-design-will-restore-communities' |\n",
       "| author | ['[[Gensler]]'] |\n",
       "| published | None |\n",
       "| created | datetime.date(2025, 4, 9) |\n",
       "| description | 'Gensler is a global architecture, design, and planning firm with 57 offices and 6,000+ professionals across the Americas, Europe, Greater China, and APME.' |\n",
       "| tags | ['clippings'] |\n",
       "\n",
       "# The Future Is Mixed Use: How Principles of Mixed Use Design Will Restore Our Communities\n",
       "![A high angle view of a building.](https://static2.gensler.com/uploads/image/96187/Hawkins_The_Line_N15_1738016965.jpg)\n",
       "\n",
       "The Line Charlotte, Charlotte, North Carolina. Photo by Chad Mellon.\n",
       "\n",
       "The real estate industry is in a time of great uncertainty with volatile inflation and interest rates, rising construction costs, major geopolitical events, and social and economic futures that feel unpredictable. Similar to how the past several years created opportunities to fundamentally rethink how we live, work, and interact with our communities and the built environment, the current upheaval is a chance for us to continue to adapt and innovate.\n",
       "\n",
       "Amid all the ambiguity, the one type of development that has been thriving is mixed-use environments, which are key to reviving our communities’ urban centers. As traditional single-use spaces like office parks and retail centers struggle to get back to pre-pandemic occupancy rates, mixed-use projects present more optimal returns on investment for developers, since they lease for higher values and are more flexible to pivot during economic downturns.\n",
       "\n",
       "Mixed-use environments also play an integral role in the revitalization of our cities because they are designed to be experience driven. By serving diverse populations and a wider range of functions, they create dynamic and inclusive spaces that people want to be part of"
      ],
      "text/plain": [
       "<IPython.core.display.Markdown object>"
      ]
     },
     "metadata": {},
     "output_type": "display_data"
    },
    {
     "data": {
      "text/markdown": [
       "---"
      ],
      "text/plain": [
       "<IPython.core.display.Markdown object>"
      ]
     },
     "metadata": {},
     "output_type": "display_data"
    },
    {
     "data": {
      "text/markdown": [
       "| Metadata | Value |\n",
       "|-----|-------|\n",
       "| title | 'Trends to Watch Reshaping the Future of Cities and Urban Living' |\n",
       "| source | 'https://www.gensler.com/blog/trends-reshaping-future-of-cities-urban-living' |\n",
       "| author | ['[[Gensler]]'] |\n",
       "| published | None |\n",
       "| created | datetime.date(2025, 4, 9) |\n",
       "| description | 'Gensler is a global architecture, design, and planning firm with 57 offices and 6,000+ professionals across the Americas, Europe, Greater China, and APME.' |\n",
       "| tags | ['clippings'] |\n",
       "\n",
       "# Trends to Watch Reshaping the Future of Cities and Urban Living\n",
       "![A busy street with people and cars.](https://static2.gensler.com/uploads/hero_element/23551/thumb_tablet/thumbs/Fleet-Street-area-of-opportunity_1710365013_1024.jpg)\n",
       "\n",
       "A busy street with people and cars.\n",
       "\n",
       "*Editor’s Note: This blog is part of our [Design Forecast blog series](https://www.gensler.com/blog/by-keyword?k=Design_Forecast_2024), looking at what’s next in 2024 and beyond. We sat down with [Andre Brumfield](https://www.gensler.com/people/andre-brumfield), [Ian Mulcahey](https://www.gensler.com/people/ian-mulcahey), and [Chris Rzomp](https://www.gensler.com/people/christopher-rzomp), global leaders of Gensler’s [Cities & Urban Design practice](https://www.gensler.com/expertise/cities-urban-design), to discuss what’s next for the future of cities.*\n",
       "\n",
       "## Many downtowns are struggling in the wake of the pandemic, and clients want to know how to invest effectively. How are you advising them? And how long do you think it will take for cities to fully bounce back from the pandemic?\n",
       "\n",
       "**Andre Brumfield:** It’s going to be a process that’s going to unfold for some cities in the next five years, while others may take a decade or generation to do so. Downtowns have died and come back for centuries. In the U.S., that’s certainly been the case and cities have always evolved into something else. We have to accept that our downtowns are going to be something different. They cannot be monochromatic in terms of being domina"
      ],
      "text/plain": [
       "<IPython.core.display.Markdown object>"
      ]
     },
     "metadata": {},
     "output_type": "display_data"
    },
    {
     "data": {
      "text/markdown": [
       "---"
      ],
      "text/plain": [
       "<IPython.core.display.Markdown object>"
      ]
     },
     "metadata": {},
     "output_type": "display_data"
    },
    {
     "data": {
      "text/markdown": [
       "| Metadata | Value |\n",
       "|-----|-------|\n",
       "| title | 'Avoiding Fear-Based Decision-Making to Foster Positive In-Store Retail Experiences' |\n",
       "| source | 'https://www.gensler.com/blog/avoiding-fear-based-decision-making-retail-experiences' |\n",
       "| author | ['[[Gensler]]'] |\n",
       "| published | None |\n",
       "| created | datetime.date(2025, 4, 9) |\n",
       "| description | 'Gensler is a global architecture, design, and planning firm with 57 offices and 6,000+ professionals across the Americas, Europe, Greater China, and APME.' |\n",
       "| tags | ['clippings'] |\n",
       "\n",
       "# Avoiding Fear-Based Decision-Making to Foster Positive In-Store Retail Experiences\n",
       "![A person sitting in a chair.](https://static2.gensler.com/uploads/image/95670/Squint-Eyewear_N4_2000x1125_1734717930.jpg)\n",
       "\n",
       "Squint Eyewear, Toronto. Photo by Ben Rahn/A-Frame.\n",
       "\n",
       "Over the course of my 30-year long career as a retail designer, I’ve seen more than my fair share of ups-and-downs. Numerous recessions, a pandemic, and the birth of one key disruption that is now long considered unimaginable to live without. Like in fashion, trends come and go, but the recurring notion that in-store shopping is dead has continued to plague brick-and-mortar retail since the inception of the e-tail — a headline that’s as played out as the “Bedazzler.” In reality, in-store shopping is alive and well, but not all retail experiences are created equal.\n",
       "\n",
       "Despite the convenience of online shopping, there is something irreplaceable about the in-store experience. Only in-store can customers compare fabrics, try on for size, shop socially, or simply have the opportunity to stumble upon something new or unexpected. While there are exceptions, algorithms usually don’t lead shoppers to an adrenaline rush from stumbling upon a great discovery! But while in-store shopping is inimitable in the digital realm, it hinges on its ability to accurately reflect a brand, connect with customers, and offer a seamless journey through space, and it starts with deliberate, bespoke, and often bold design de"
      ],
      "text/plain": [
       "<IPython.core.display.Markdown object>"
      ]
     },
     "metadata": {},
     "output_type": "display_data"
    },
    {
     "data": {
      "text/markdown": [
       "---"
      ],
      "text/plain": [
       "<IPython.core.display.Markdown object>"
      ]
     },
     "metadata": {},
     "output_type": "display_data"
    }
   ],
   "source": [
    "# Switch to query mode when generating embeddings.\n",
    "embed_fn.document_mode = False\n",
    "\n",
    "# Search the Chroma DB using the specified query.\n",
    "query = \"Provide me 5 issues to think about when designing for return to office space.\"\n",
    "\n",
    "top_k = 5\n",
    "\n",
    "result = db.query(query_texts=[query], n_results=top_k)\n",
    "#[all_articles] = result[\"documents\"]\n",
    "\n",
    "# Show the original markdown instead of the image-descriptions version\n",
    "result_ids = result[\"ids\"][0]\n",
    "\n",
    "for doc_id in result_ids:\n",
    "    original_md = original_docs[int(doc_id)]\n",
    "    display(Markdown(original_md[:2000]))\n",
    "    display(Markdown('---'))"
   ]
  },
  {
   "cell_type": "code",
   "execution_count": 24,
   "id": "1e229a8f",
   "metadata": {
    "execution": {
     "iopub.execute_input": "2025-04-15T04:21:51.312631Z",
     "iopub.status.busy": "2025-04-15T04:21:51.312174Z",
     "iopub.status.idle": "2025-04-15T04:21:51.341101Z",
     "shell.execute_reply": "2025-04-15T04:21:51.339987Z"
    },
    "papermill": {
     "duration": 0.048372,
     "end_time": "2025-04-15T04:21:51.347109",
     "exception": false,
     "start_time": "2025-04-15T04:21:51.298737",
     "status": "completed"
    },
    "scrolled": true,
    "tags": []
   },
   "outputs": [
    {
     "name": "stdout",
     "output_type": "stream",
     "text": [
      "{'data': None,\n",
      " 'distances': [[0.730640709400177,\n",
      "                0.7333929538726807,\n",
      "                0.8280407786369324,\n",
      "                0.8679736852645874,\n",
      "                0.8881893754005432]],\n",
      " 'documents': [['| Metadata | Value |\\n'\n",
      "                '|-----|-------|\\n'\n",
      "                \"| title | '3 Surprises Impacting the Return to the Office' |\\n\"\n",
      "                '| source | '\n",
      "                \"'https://www.gensler.com/blog/3-surprises-impacting-the-return-to-the-office' \"\n",
      "                '|\\n'\n",
      "                \"| author | ['[[Gensler]]'] |\\n\"\n",
      "                '| published | None |\\n'\n",
      "                '| created | datetime.date(2025, 4, 9) |\\n'\n",
      "                \"| description | 'Gensler is a global architecture, design, \"\n",
      "                'and planning firm with 57 offices and 6,000+ professionals '\n",
      "                \"across the Americas, Europe, Greater China, and APME.' |\\n\"\n",
      "                \"| tags | ['clippings'] |\\n\"\n",
      "                '\\n'\n",
      "                '# 3 Surprises Impacting the Return to the Office\\n'\n",
      "                'The image shows three people in a modern, plant-filled, '\n",
      "                'well-lit lounge area with large windows overlooking a city '\n",
      "                'skyline, featuring couches, chairs, coffee tables, and '\n",
      "                'decorative overhead lighting.\\n'\n",
      "                '\\n'\n",
      "                'A group of people sitting on couches in a room with large '\n",
      "                'windows.\\n'\n",
      "                '\\n'\n",
      "                '*Editor’s Note: This blog is part of our [blog '\n",
      "                'series](https://www.gensler.com/blog/by-keyword?k=WPS22) '\n",
      "                'exploring insights from Gensler’s 2022 Workplace Survey '\n",
      "                'findings.*\\n'\n",
      "                '\\n'\n",
      "                'Research often measures and confirms what we, as designers '\n",
      "                'and strategists, may intuitively believe based on our '\n",
      "                'experience and practice. As a researcher, I love uncovering '\n",
      "                'surprises in the data that debunk common perceptions. These '\n",
      "                'surprising truths often lead to a new understanding of how '\n",
      "                'people work and what they value, as well as new insights on '\n",
      "                'the built environment. In [our latest workplace '\n",
      "                'research](https://www.gensler.com/gri/us-workplace-survey-2022) '\n",
      "                'study, we saw a number of unexpected surprises!\\n'\n",
      "                '\\n'\n",
      "                'Here are the top three surprises uncovered in our research '\n",
      "                'impacting the return to the office:\\n'\n",
      "                '\\n'\n",
      "                '## Surprise #1: A Shift in the Role of the Office\\n'\n",
      "                '\\n'\n",
      "                'Gensler conducted 11 different workplace research studies '\n",
      "                'during the pandemic to understand how work and employee '\n",
      "                'expectations were changing and what it meant for the new role '\n",
      "                'of the office. In our surveys, we asked office workers and '\n",
      "                'senior leaders to choose their top five most important '\n",
      "                'reasons to come into the office. Throughout the pandemic the '\n",
      "                'top-ranked reason was to “work in-person with my '\n",
      "                'team/colleagues.” This was the top reason in all six '\n",
      "                'countries that we surveyed — the United States, U.K., France, '\n",
      "                'Australia, India, and even China, where people had already '\n",
      "                'returned after their first big wave of COVID cases. It was '\n",
      "                'the top reason segmented by 10 different industries, as well '\n",
      "                'as by generation.\\n'\n",
      "                '\\n'\n",
      "                'Our latest [U.S. Workplace '\n",
      "                'Survey](https://www.gensler.com/gri/us-workplace-survey-2022) '\n",
      "                'research was conducted in the late summer of 2022 as people '\n",
      "                'were returning to the office. Like all of Gensler’s workplace '\n",
      "                'research since 2008, we surveyed only office workers who '\n",
      "                'spend at least part of their time in the office. This time, '\n",
      "                'when we asked over 2,000 respondents to choose their top five '\n",
      "                'most important reasons to come into the office, there was a '\n",
      "                'sudden shift in the role of the office. The new top reason '\n",
      "                'was to “focus on my work.” When we look at the top five or '\n",
      "                'six important reasons, we see that people ranked access to '\n",
      "                'technology, specific spaces, materials, and resources high, '\n",
      "                'as well as scheduled in-person meetings with their team and '\n",
      "                'sitting with their team. There was a shift from working with '\n",
      "                'my team, connecting, and socializing to the broader purpose '\n",
      "                'of simply getting their work done. Focus on my work was '\n",
      "                'particularly important for the younger generations.\\n'\n",
      "                '\\n'\n",
      "                '## Surprise #2: Employees Say They NEED to Work in the Office '\n",
      "                'More Often\\n'\n",
      "                '\\n'\n",
      "                'In our latest North America surveys, conducted late summer '\n",
      "                '2022, U.S. employees report that they are spending 51% of a '\n",
      "                'typical work week in the office. The balance of the week is '\n",
      "                'spent working in other locations, business travel, coworking '\n",
      "                'sites, third places, home. Time spent at the office varies by '\n",
      "                'location, with government/defense and consumer goods '\n",
      "                'industries spending the most time at the office and media and '\n",
      "                'energy industries spending the least.\\n'\n",
      "                '\\n'\n",
      "                'In the survey, we not only asked how much time respondents '\n",
      "                'are **currently** in the office but also how much time they '\n",
      "                '**ideally need** to work in their company’s office space to '\n",
      "                'maximize their individual and team productivity. This was our '\n",
      "                'second surprise: employees report that they need to spend '\n",
      "                'more time at the office to maximize their productivity! And '\n",
      "                'the top quartile of the U.S. innovative companies we surveyed '\n",
      "                'say they need to work in the office 67% of the work week, '\n",
      "                'which is the exact same percentage we measured before the '\n",
      "                'start of the pandemic in February 2020.\\n'\n",
      "                '\\n'\n",
      "                'We got a double surprise when we looked at productivity. '\n",
      "                'Through the pandemic, people had reported that working from '\n",
      "                'home was both efficient and highly productive. Our research '\n",
      "                'hypothesis was that people would say that the office is more '\n",
      "                'important for team productivity than individual productivity. '\n",
      "                'But we found that both were equally important. In fact, U.S. '\n",
      "                'office workers in high-performing workplaces report that they '\n",
      "                'need to be in the office 72% of the work week to maximize '\n",
      "                'individual productivity and 71% of the week to maximize team '\n",
      "                'productivity. It was no surprise that employees who work in '\n",
      "                'low-performing workspaces say they need to be in the office '\n",
      "                '6% less than they are currently coming in.\\n'\n",
      "                '\\n'\n",
      "                'This begs the question of why. If employees say they **need** '\n",
      "                'to work in the office to maximize individual and team '\n",
      "                'productivity, why aren’t they coming into the office? What’s '\n",
      "                'holding them back? We sense part of the answer may be [why '\n",
      "                'they are '\n",
      "                'returning](https://www.gensler.com/blog/what-gensler-workplace-survey-reveals-about-return-to-office), '\n",
      "                'as well as understanding [what is '\n",
      "                'working](https://www.gensler.com/blog/return-to-the-workplace-what-works-what-doesnt) '\n",
      "                'and what doesn’t when they do spend time at the office. Our '\n",
      "                'last surprise may also be part of the answer.\\n'\n",
      "                '\\n'\n",
      "                '## Surprise #3: A New Mix of Experiences Would Bring '\n",
      "                'Employees Back Even More\\n'\n",
      "                '\\n'\n",
      "                'Finally, we wanted to explore what’s missing in the current '\n",
      "                'workplace that would bring more employees back to the office. '\n",
      "                'In a survey, it’s difficult to ask over 2,000 office workers '\n",
      "                'across 10 industries what they wished they had at the office '\n",
      "                'if they don’t know what’s possible. So, we described eight '\n",
      "                'everyday experiences that people could easily relate with, '\n",
      "                'ranging from a library to a coffee shop to a clubhouse. '\n",
      "                'Respondents could select various experiences and toggle each '\n",
      "                'to create a pie chart of their ideal mix of work experiences. '\n",
      "                'As we analyzed the data, we saw some interesting patterns by '\n",
      "                'industry and by generation.\\n'\n",
      "                '\\n'\n",
      "                'However, we got a big surprise when we asked the question, '\n",
      "                '“If your company provided your ideal work experience mix, '\n",
      "                'would you be willing to coming to your company’s office more '\n",
      "                'often?” In response, 42% say they would be willing to come in '\n",
      "                'one more day/week, 17% say one more day/month, and 24% say '\n",
      "                'they would be willing to return full-time! That’s 83% of '\n",
      "                'employees who aren’t already full-time in the office. Younger '\n",
      "                'generations report a greater willingness to return to the '\n",
      "                'office for their ideal mix of work experiences.\\n'\n",
      "                '\\n'\n",
      "                'Research on people and the built environment is an investment '\n",
      "                'in our future. Research not only informs our projects and our '\n",
      "                'work to make it better, but we can also learn from our '\n",
      "                'projects to inform the next cycle of research. Surprises in '\n",
      "                'research data are a gift as they can catalyze deeper '\n",
      "                'conversations with our clients to understand how their '\n",
      "                'employees work and the role that the built environment can '\n",
      "                'play to not only support better work performance but enrich '\n",
      "                'people’s lives and experiences. Surprises lead to deeper '\n",
      "                'explorations and new insights, which fuel the power of design '\n",
      "                'to imagine new possibilities!\\n'\n",
      "                '\\n'\n",
      "                'For media inquiries, email '\n",
      "                '[media@gensler.com](https://www.gensler.com/blog/).',\n",
      "                '| Metadata | Value |\\n'\n",
      "                '|-----|-------|\\n'\n",
      "                \"| title | 'Repopulating the Workplace: Why Collaboration \"\n",
      "                \"Space Is in Danger' |\\n\"\n",
      "                '| source | '\n",
      "                \"'https://www.gensler.com/blog/repopulating-the-workplace-collaboration-space-in-danger' \"\n",
      "                '|\\n'\n",
      "                \"| author | ['[[Gensler]]'] |\\n\"\n",
      "                '| published | None |\\n'\n",
      "                '| created | datetime.date(2025, 4, 9) |\\n'\n",
      "                \"| description | 'Gensler is a global architecture, design, \"\n",
      "                'and planning firm with 57 offices and 6,000+ professionals '\n",
      "                \"across the Americas, Europe, Greater China, and APME.' |\\n\"\n",
      "                \"| tags | ['clippings'] |\\n\"\n",
      "                '\\n'\n",
      "                '# Repopulating the Workplace: Why Collaboration Space Is in '\n",
      "                'Danger\\n'\n",
      "                'The image shows a modern office space with a collaborative '\n",
      "                'area featuring a long built-in bench with pillows, a black '\n",
      "                'marble table with four wooden chairs, and several '\n",
      "                'glass-enclosed private booths with individuals working '\n",
      "                'inside.\\n'\n",
      "                '\\n'\n",
      "                'Edelman Los Angeles. Photo by Ryan Gobuty.\\n'\n",
      "                '\\n'\n",
      "                '*Editor’s note: This article was originally published in '\n",
      "                '[Work Design '\n",
      "                'Magazine](https://www.workdesign.com/2025/02/informal-collaboration-space/).*\\n'\n",
      "                '\\n'\n",
      "                'In the aftermath of the pandemic and the resulting shift to '\n",
      "                'remote and hybrid work models, many organizations have '\n",
      "                'reduced their real estate footprint, in some cases, '\n",
      "                'significantly. Today, as more and more companies look to '\n",
      "                'increase office presence for employees, they are having to '\n",
      "                'rethink their workplace strategies to accommodate a greater '\n",
      "                'daily population.\\n'\n",
      "                '\\n'\n",
      "                'They’re grappling with whether to lease more space or '\n",
      "                'repurpose shared space to accommodate increased demand for '\n",
      "                'workstations and offices. This dilemma is a microcosm of '\n",
      "                'broader organizational challenges that often pit financial '\n",
      "                'considerations against employee needs and cultural '\n",
      "                'implications.\\n'\n",
      "                '\\n'\n",
      "                '## Why Collaboration Space Increased as Footprints Decreased\\n'\n",
      "                '\\n'\n",
      "                'The pandemic prompted a paradigm shift in how offices are '\n",
      "                'used. The purpose of the office was less about individual '\n",
      "                'work and more about interactive work. Traditional cubicles '\n",
      "                'gave way to more open, collaboration-focused layouts with '\n",
      "                'minimal shared individual space types. Meeting rooms '\n",
      "                'increased in number and variety, and breakout spaces, huddle '\n",
      "                'rooms, and lounge areas became the focal points, designed to '\n",
      "                'foster interaction and innovation while accommodating a '\n",
      "                'workforce that spent significant time working remotely.\\n'\n",
      "                '\\n'\n",
      "                'This shift was a strategic response to changing work '\n",
      "                'patterns, but also one that delivered efficiency. Repurposing '\n",
      "                'underutilized individual space to collaboration space aligned '\n",
      "                'the workplace to a hybrid and remote workforce while still '\n",
      "                'leaving a significant amount of excess space that could be '\n",
      "                'shed, saving businesses often millions of dollars in overhead '\n",
      "                'costs while also signaling a commitment to flexibility.\\n'\n",
      "                '\\n'\n",
      "                'This is an open, modern office space with a concrete floor '\n",
      "                'and ceiling, exposed pipes, diverse seating arrangements '\n",
      "                'including sofas, chairs, and counter seating by a window, and '\n",
      "                'architectural elements such as archways and built-in '\n",
      "                'shelving.\\n'\n",
      "                '\\n'\n",
      "                'Edelman’s Los Angeles office features a variety of casual '\n",
      "                'collaboration areas for coworking and client meetings. The '\n",
      "                'first-floor cafe is dedicated to communal workspaces with '\n",
      "                'multiple seating options and an adjacent terrace. Photo by '\n",
      "                'Ryan Gobuty.\\n'\n",
      "                '\\n'\n",
      "                '## The Conundrum\\n'\n",
      "                '\\n'\n",
      "                'Fast-forward to today. Many organizations find they’ve '\n",
      "                'painted themselves into a corner.\\n'\n",
      "                '\\n'\n",
      "                'As policies shift to increase days in the office, workplaces '\n",
      "                'that had been downsized are running into capacity issues, '\n",
      "                'especially on peak office days. The mix of spaces designed '\n",
      "                'for a remote workforce — mostly focused on collaboration — '\n",
      "                'are short on seats to accommodate individual work.\\n'\n",
      "                '\\n'\n",
      "                'The almost default solution companies are taking to solve '\n",
      "                'this problem is to repurpose open collaboration space into '\n",
      "                'individual workstations and small enclosed meeting rooms and '\n",
      "                'huddle rooms into private offices. It seems like a harmless '\n",
      "                'trade-off, and maybe even an improvement in terms of informal '\n",
      "                'collaboration spaces, which are often not highly used and may '\n",
      "                'sit empty for a good portion of the day.\\n'\n",
      "                '\\n'\n",
      "                'From a financial standpoint, this approach makes sense. It '\n",
      "                'allows businesses to manage the influx of employees without '\n",
      "                'taking on more space. While lower than before the pandemic, '\n",
      "                'commercial real estate costs are still high, and economic '\n",
      "                'uncertainty makes committing to new leases a risk many '\n",
      "                'organizations would like to avoid. On its face, repurposing '\n",
      "                'existing collaboration spaces to individual space seems like '\n",
      "                'a win-win solution: a cost-effective way to accommodate more '\n",
      "                'employees while maintaining financial discipline.\\n'\n",
      "                '\\n'\n",
      "                'The image shows a contemporary office space featuring a '\n",
      "                'built-in booth with seating for two beneath a curved alcove '\n",
      "                'adorned with a decorative pattern, adjacent to a wall with a '\n",
      "                'mounted television and a glass-enclosed office with a person '\n",
      "                'walking past.\\n'\n",
      "                '\\n'\n",
      "                'Booth seating in BDO’s New York office provides a flexible '\n",
      "                'option for casual meetings and breaks. Photo by '\n",
      "                'Gensler/Gillian Fry.\\n'\n",
      "                '\\n'\n",
      "                '## Why It’s the Wrong Solution\\n'\n",
      "                '\\n'\n",
      "                'The root of the problem with the prevailing solution — '\n",
      "                'repurposing “we” space to “me” space — is that it’s missing '\n",
      "                'the whole point behind repopulating the office: companies '\n",
      "                'want people back in the office so they can collaborate more, '\n",
      "                'so they can interact more, so they can learn and grow from '\n",
      "                'and with each other. Decreasing the space types that allow '\n",
      "                'and encourage collaboration and interaction to happen, and '\n",
      "                'putting in more individual seats is working against the goal, '\n",
      "                'not for it. It’s self-defeating.\\n'\n",
      "                '\\n'\n",
      "                'That in itself is problematic, but it’s also a quick way to '\n",
      "                'frustrate people, many of whom may already be resistant to '\n",
      "                'new office presence requirements. “If my team is just going '\n",
      "                'to sit at our desks doing Zoom calls because we can’t find a '\n",
      "                'collaboration space, why not just stay home?”\\n'\n",
      "                '\\n'\n",
      "                'A company’s desire to increase in-person collaboration is not '\n",
      "                'capricious. There is ample research proving in-person teams '\n",
      "                'are more collaborative, more cohesive, and that they come up '\n",
      "                'with better solutions. Physical presence allows for better '\n",
      "                'non-verbal communication, immediate interaction, and deeper '\n",
      "                'relationships. Virtual meetings are more transactional, less '\n",
      "                'productive, less engaging (some estimates put the percentage '\n",
      "                'of people who multitask during virtual meetings as high as '\n",
      "                '92%), and simply less enjoyable. As the essayist Sarah '\n",
      "                'Robinson so aptly puts it, a video conference call is “like '\n",
      "                'eating without tasting.” It checks the box on meeting but is '\n",
      "                'entirely unsatisfying.\\n'\n",
      "                '\\n'\n",
      "                'The workplace environment communicates with the people within '\n",
      "                'it, both consciously and subconsciously. Incorporating '\n",
      "                'collaboration spaces of different sizes and types, open and '\n",
      "                'closed, tells people that collaboration is valued and '\n",
      "                'encouraged by the organization. Proximity and ample '\n",
      "                'availability make collaboration easy to do, and more likely '\n",
      "                'to happen. Just as a store putting gum near the checkout '\n",
      "                'counter makes it more likely a person will buy it, putting '\n",
      "                'collaboration spaces throughout the work floor makes it more '\n",
      "                'likely a person is going to collaborate.\\n'\n",
      "                '\\n'\n",
      "                'This is a modern office space with a lounge area featuring a '\n",
      "                'large sectional sofa, a long work table with chairs, and '\n",
      "                'enclosed meeting rooms with glass walls.\\n'\n",
      "                '\\n'\n",
      "                'A mix of small conference rooms, soft seating, and '\n",
      "                'collaboration tables break up the floor plate of United '\n",
      "                'Airlines’ Amenity Hub. Photo by Connie Zhou.\\n'\n",
      "                '\\n'\n",
      "                '## A Defining Moment\\n'\n",
      "                '\\n'\n",
      "                'While repurposing collaboration space into individual space '\n",
      "                'offers an easy, relatively inexpensive short-term fix, the '\n",
      "                'long-term implications are less positive. The motivation '\n",
      "                'behind a shift to more in-office presence is to have more '\n",
      "                'in-person collaboration. Decreasing space types that support '\n",
      "                'collaboration undermines the very goal bringing people back '\n",
      "                'into the office is trying to achieve.\\n'\n",
      "                '\\n'\n",
      "                'For decades workplace design has operated on an “either/or” '\n",
      "                'approach, where increases in one area — more amenities, '\n",
      "                'support spaces, and collaboration spaces — come at the '\n",
      "                'sacrifice of others, usually individual space. This next era '\n",
      "                'needs to embrace a “both/and” approach. Creating environments '\n",
      "                'that superlatively support both individual focus work and '\n",
      "                'rich collaborative work will deliver better experiences and '\n",
      "                'stronger cultures, and ultimately, positive business '\n",
      "                'performance outcomes.\\n'\n",
      "                '\\n'\n",
      "                'Investing in additional space now, even with associated '\n",
      "                'costs, is a strategic move to avoid regressing to office '\n",
      "                'models from the 1990s that stifled innovation and '\n",
      "                'collaboration. By expanding thoughtfully and intentionally, '\n",
      "                'companies can maintain modern, flexible work environments '\n",
      "                'that foster creativity and productivity.\\n'\n",
      "                '\\n'\n",
      "                'Let’s not revert to the problems of the past. Let’s embrace '\n",
      "                'forward-thinking strategies that enhance our workplaces and '\n",
      "                'drive future success.\\n'\n",
      "                '\\n'\n",
      "                'For media inquiries, email '\n",
      "                '[media@gensler.com](https://www.gensler.com/blog/).',\n",
      "                '| Metadata | Value |\\n'\n",
      "                '|-----|-------|\\n'\n",
      "                \"| title | 'The Future Is Mixed Use: How Principles of Mixed \"\n",
      "                \"Use Design Will Restore Our Communities' |\\n\"\n",
      "                '| source | '\n",
      "                \"'https://www.gensler.com/blog/how-principles-of-mixed-use-design-will-restore-communities' \"\n",
      "                '|\\n'\n",
      "                \"| author | ['[[Gensler]]'] |\\n\"\n",
      "                '| published | None |\\n'\n",
      "                '| created | datetime.date(2025, 4, 9) |\\n'\n",
      "                \"| description | 'Gensler is a global architecture, design, \"\n",
      "                'and planning firm with 57 offices and 6,000+ professionals '\n",
      "                \"across the Americas, Europe, Greater China, and APME.' |\\n\"\n",
      "                \"| tags | ['clippings'] |\\n\"\n",
      "                '\\n'\n",
      "                '# The Future Is Mixed Use: How Principles of Mixed Use Design '\n",
      "                'Will Restore Our Communities\\n'\n",
      "                'This is an elevated view of modern architecture featuring '\n",
      "                'tall glass-clad buildings with a multi-level base and an '\n",
      "                'adjacent light rail line running towards a cityscape in the '\n",
      "                'background.\\n'\n",
      "                '\\n'\n",
      "                'The Line Charlotte, Charlotte, North Carolina. Photo by Chad '\n",
      "                'Mellon.\\n'\n",
      "                '\\n'\n",
      "                'The real estate industry is in a time of great uncertainty '\n",
      "                'with volatile inflation and interest rates, rising '\n",
      "                'construction costs, major geopolitical events, and social and '\n",
      "                'economic futures that feel unpredictable. Similar to how the '\n",
      "                'past several years created opportunities to fundamentally '\n",
      "                'rethink how we live, work, and interact with our communities '\n",
      "                'and the built environment, the current upheaval is a chance '\n",
      "                'for us to continue to adapt and innovate.\\n'\n",
      "                '\\n'\n",
      "                'Amid all the ambiguity, the one type of development that has '\n",
      "                'been thriving is mixed-use environments, which are key to '\n",
      "                'reviving our communities’ urban centers. As traditional '\n",
      "                'single-use spaces like office parks and retail centers '\n",
      "                'struggle to get back to pre-pandemic occupancy rates, '\n",
      "                'mixed-use projects present more optimal returns on investment '\n",
      "                'for developers, since they lease for higher values and are '\n",
      "                'more flexible to pivot during economic downturns.\\n'\n",
      "                '\\n'\n",
      "                'Mixed-use environments also play an integral role in the '\n",
      "                'revitalization of our cities because they are designed to be '\n",
      "                'experience driven. By serving diverse populations and a wider '\n",
      "                'range of functions, they create dynamic and inclusive spaces '\n",
      "                'that people want to be part of. As we look to the future of '\n",
      "                'the built environment, mixed-use projects are pivotal in '\n",
      "                'making our communities more enjoyable and resilient.\\n'\n",
      "                '\\n'\n",
      "                'Here are four principles for creating mixed-use environments '\n",
      "                'that will future proof your real estate:\\n'\n",
      "                '\\n'\n",
      "                '## 1\\\\. Design for curated experiences.\\n'\n",
      "                '\\n'\n",
      "                'Design improvements can turn monoculture environments like '\n",
      "                'the workplace into [experience '\n",
      "                'multipliers](https://www.gensler.com/blog/how-to-make-your-office-an-experience-multiplier). '\n",
      "                'Through the lens of creating intentional user journeys, the '\n",
      "                'development becomes a destination rather than an obligation.\\n'\n",
      "                '\\n'\n",
      "                'Experience-driven, mixed-use environments appeal to people’s '\n",
      "                'desire for connection in a post-pandemic world, where '\n",
      "                'residents are increasingly drawn to environments that reflect '\n",
      "                'their communities in an authentic way, layering culture, '\n",
      "                'history, and activities for a better experience.\\n'\n",
      "                '\\n'\n",
      "                'This is a high-angle, eye-level shot of a brightly lit '\n",
      "                'outdoor shopping center at dusk, featuring modern '\n",
      "                'architecture, palm trees wrapped in lights, and an Erewhon '\n",
      "                'store, with cars parked in the foreground and a hillside '\n",
      "                'residential area in the background.\\n'\n",
      "                '\\n'\n",
      "                'Sportsmen’s Lodge. Los Angeles, California\\n'\n",
      "                '\\n'\n",
      "                '## 2\\\\. Encourage 24/7 activation.\\n'\n",
      "                '\\n'\n",
      "                'A diversity of experiences and constituents is supported by '\n",
      "                'programming, which should attract people at different times '\n",
      "                'of the day. By encouraging inter-generational, civic, and '\n",
      "                'cultural use of a space, you ensure that the asset is active '\n",
      "                'at all times. This intensity of site use also leads to higher '\n",
      "                'rent rates, lower vacancies, and faster occupancy.\\n'\n",
      "                '\\n'\n",
      "                'Municipalities have been actively rethinking zoning codes and '\n",
      "                'other requirements that segregated building uses in the past, '\n",
      "                'allowing for more adaptive reuse in locations that were once '\n",
      "                'single use.\\n'\n",
      "                '\\n'\n",
      "                'This is an eye-level, wide outdoor shot of an urban '\n",
      "                'entertainment district at dusk, featuring a brick-and-glass '\n",
      "                'building complex with lighted restaurant signs and pedestrian '\n",
      "                'walkways, people strolling about, and a blue-glass skyscraper '\n",
      "                'as a backdrop.\\n'\n",
      "                '\\n'\n",
      "                'Assembly Food Hall, Fifth + Broadway, Nashville, Tennessee. '\n",
      "                'Photo by Garrett Rowland.\\n'\n",
      "                '\\n'\n",
      "                '## 3\\\\. Prioritize flexibility and resilience.\\n'\n",
      "                '\\n'\n",
      "                'Designing for resilience means creating environments that are '\n",
      "                'suited to how we work and live, two variables that are '\n",
      "                'constantly changing. In a time of uncertainty, resiliency in '\n",
      "                'the built environment is defined by places that are adaptable '\n",
      "                'and can change over time. These types of mixed-use '\n",
      "                'communities present better return on investment for '\n",
      "                'developers, and offer more possibilities during downturns.\\n'\n",
      "                '\\n'\n",
      "                'The image depicts a vibrant, modern cityscape with '\n",
      "                'multi-story buildings featuring glass facades and greenery on '\n",
      "                'their roofs, set around a park-like area where people are '\n",
      "                'engaged in various activities such as walking, sitting, and '\n",
      "                'playing.\\n'\n",
      "                '\\n'\n",
      "                'Mission Point, Santa Clara, California\\n'\n",
      "                '\\n'\n",
      "                '## 4\\\\. Provide a community space.\\n'\n",
      "                '\\n'\n",
      "                'Designating spaces for community gatherings will help make '\n",
      "                'the development feel like an extension of the neighborhood. '\n",
      "                'At LinkedIn’s headquarters in San Francisco, the lobby '\n",
      "                'features glass wall panels that slide back, making room for '\n",
      "                'internal events, as well as community gatherings. By creating '\n",
      "                'a space within the office that encourages interaction with '\n",
      "                'the community at large, the development is integrated into '\n",
      "                'the community and cultivates a more welcoming atmosphere.\\n'\n",
      "                '\\n'\n",
      "                'This image shows a modern, mixed-use development with a '\n",
      "                'large, glass-paneled building overlooking a pedestrian plaza '\n",
      "                'featuring seating areas, landscaping, and a lower level with '\n",
      "                'colorful mural art.\\n'\n",
      "                '\\n'\n",
      "                'West Edge, Los Angeles, California. Photo by Jason O’Rear.\\n'\n",
      "                '\\n'\n",
      "                '## Connecting to the urban fabric\\n'\n",
      "                '\\n'\n",
      "                'From workspaces to urban centers, these mixed use principles '\n",
      "                'can be scaled across projects and locations. Not only do they '\n",
      "                'create environments that are more equitable and enjoyable, '\n",
      "                'but they are also proof that single-use buildings are not '\n",
      "                'necessarily dead — they just need to be connected to the '\n",
      "                'urban fabric around them for a more heterogeneous '\n",
      "                'environment.\\n'\n",
      "                '\\n'\n",
      "                'Spaces for gatherings and spontaneous interactions have never '\n",
      "                'been more important. In a world of escalating construction '\n",
      "                'costs and uncertainty about the future, mixed-use '\n",
      "                'developments appeal to our need for connection and create a '\n",
      "                'sense of belonging, helping developers, designers, and '\n",
      "                'occupants alike to transcend the uncertainty of the moment.\\n'\n",
      "                '\\n'\n",
      "                'For media inquiries, email '\n",
      "                '[media@gensler.com](https://www.gensler.com/blog/).',\n",
      "                '| Metadata | Value |\\n'\n",
      "                '|-----|-------|\\n'\n",
      "                \"| title | 'Trends to Watch Reshaping the Future of Cities and \"\n",
      "                \"Urban Living' |\\n\"\n",
      "                '| source | '\n",
      "                \"'https://www.gensler.com/blog/trends-reshaping-future-of-cities-urban-living' \"\n",
      "                '|\\n'\n",
      "                \"| author | ['[[Gensler]]'] |\\n\"\n",
      "                '| published | None |\\n'\n",
      "                '| created | datetime.date(2025, 4, 9) |\\n'\n",
      "                \"| description | 'Gensler is a global architecture, design, \"\n",
      "                'and planning firm with 57 offices and 6,000+ professionals '\n",
      "                \"across the Americas, Europe, Greater China, and APME.' |\\n\"\n",
      "                \"| tags | ['clippings'] |\\n\"\n",
      "                '\\n'\n",
      "                '# Trends to Watch Reshaping the Future of Cities and Urban '\n",
      "                'Living\\n'\n",
      "                'This is a digitally rendered image of a street scene in '\n",
      "                'London, featuring pedestrians on the sidewalk, cyclists and '\n",
      "                \"vehicles on the road, and St. Paul's Cathedral visible in the \"\n",
      "                'distance.\\n'\n",
      "                '\\n'\n",
      "                'A busy street with people and cars.\\n'\n",
      "                '\\n'\n",
      "                '*Editor’s Note: This blog is part of our [Design Forecast '\n",
      "                'blog '\n",
      "                'series](https://www.gensler.com/blog/by-keyword?k=Design_Forecast_2024), '\n",
      "                'looking at what’s next in 2024 and beyond. We sat down with '\n",
      "                '[Andre '\n",
      "                'Brumfield](https://www.gensler.com/people/andre-brumfield), '\n",
      "                '[Ian Mulcahey](https://www.gensler.com/people/ian-mulcahey), '\n",
      "                'and [Chris '\n",
      "                'Rzomp](https://www.gensler.com/people/christopher-rzomp), '\n",
      "                'global leaders of Gensler’s [Cities & Urban Design '\n",
      "                'practice](https://www.gensler.com/expertise/cities-urban-design), '\n",
      "                'to discuss what’s next for the future of cities.*\\n'\n",
      "                '\\n'\n",
      "                '## Many downtowns are struggling in the wake of the pandemic, '\n",
      "                'and clients want to know how to invest effectively. How are '\n",
      "                'you advising them? And how long do you think it will take for '\n",
      "                'cities to fully bounce back from the pandemic?\\n'\n",
      "                '\\n'\n",
      "                '**Andre Brumfield:** It’s going to be a process that’s going '\n",
      "                'to unfold for some cities in the next five years, while '\n",
      "                'others may take a decade or generation to do so. Downtowns '\n",
      "                'have died and come back for centuries. In the U.S., that’s '\n",
      "                'certainly been the case and cities have always evolved into '\n",
      "                'something else. We have to accept that our downtowns are '\n",
      "                'going to be something different. They cannot be monochromatic '\n",
      "                'in terms of being dominated by office or commercial '\n",
      "                'development; there has to be a blend of both. The solve is '\n",
      "                'going to be different for different cities.\\n'\n",
      "                '\\n'\n",
      "                'So, how can cities make downtowns more diverse, and have a '\n",
      "                'different offering that doesn’t rely on traditional office '\n",
      "                'space, and then also expand the hours between 8 a.m. and 5 '\n",
      "                'p.m., where it’s also not just relying on repopulating with a '\n",
      "                'residential population? You have to have institutions and '\n",
      "                'other cultural attractions that are going to continuously get '\n",
      "                'people downtown. I think the biggest question is, how does '\n",
      "                'your downtown survive when you do have emerging districts, '\n",
      "                'that kind of shiny attraction that people and investors are '\n",
      "                'going to run to?\\n'\n",
      "                '\\n'\n",
      "                '**Ian Mulcahey:** I think that the era of rigid zonal '\n",
      "                'segregation is over. No longer can a city be simply divided '\n",
      "                'into a series of discrete places: the place where I work, the '\n",
      "                'place where I live, and the place where I want to spend my '\n",
      "                'leisure time. This simplistic planning notion is about to '\n",
      "                'change. People want to live in closer proximity to their '\n",
      "                'work, and they want to be in an area that has theaters, '\n",
      "                'museums, cinemas, shops, restaurants, cafes, and parks. The '\n",
      "                'post-war planning consensus to separate these activities into '\n",
      "                'different parts of the city and then construct complex '\n",
      "                'high-capacity transport infrastructure to continually move '\n",
      "                'the residents twice a day from one zone to the another is at '\n",
      "                'an end.\\n'\n",
      "                '\\n'\n",
      "                'The future of city planning will drive a more dispersed, '\n",
      "                'nuanced approach to how we plan and manage our real estate. '\n",
      "                'Workers don’t need to be concentrated in one big building in '\n",
      "                'one city anymore. They can be in a number of cities and a '\n",
      "                'number of neighbourhoods, but also in better locations. The '\n",
      "                '[flight to '\n",
      "                'quality](https://www.gensler.com/blog/how-desire-for-experience-is-driving-the-flight-to-quality) '\n",
      "                'is very much still the priority, but now a high-quality '\n",
      "                'living and working environment needs to be balanced by the '\n",
      "                'quality of the urban land mix and high-quality urban '\n",
      "                'transport system. The office certainly isn’t dead, and the '\n",
      "                'city center isn’t dead, but is being redefined. The modern '\n",
      "                'worker wants a better balance between their workstyle and '\n",
      "                'lifestyle, and they want more choice, more variety, and much '\n",
      "                'better public realm and open space.\\n'\n",
      "                '\\n'\n",
      "                'We’re moving away from that notion of a workplace to thinking '\n",
      "                'about how people work. So, in the same way we have been '\n",
      "                'talking about lifestyle, we talk about workstyle, and also '\n",
      "                'about a central business district being a [central social '\n",
      "                'district](https://www.gensler.com/blog/union-square-san-francisco-social-district). '\n",
      "                'The CBD becomes the CSD. So, the role of the city center is '\n",
      "                'not just catering to office workers; it’s catering to '\n",
      "                'everyone in the city. It’s a much more inclusive construct, '\n",
      "                'but by default, that makes it a much more interesting place.\\n'\n",
      "                '\\n'\n",
      "                '“The role of the city center is not just catering to office '\n",
      "                'workers; it’s catering to everyone in the city. It’s a much '\n",
      "                'more inclusive construct, but by default, that makes it a '\n",
      "                'much more interesting place.”\\n'\n",
      "                '\\n'\n",
      "                '—Ian Mulcahey, Cities & Urban Design leader\\n'\n",
      "                '\\n'\n",
      "                'This is an aerial perspective of a modern building lobby '\n",
      "                'featuring curved wooden architectural elements, a white '\n",
      "                'geometric sculptural installation, a reception desk, waiting '\n",
      "                'area seating, and marble flooring.\\n'\n",
      "                '\\n'\n",
      "                'Capital One McLean Block A aerial view\\n'\n",
      "                '\\n'\n",
      "                'Design Forecast 2024\\n'\n",
      "                '\\n'\n",
      "                'Explore ideas, insights, and advice about commercial real '\n",
      "                'estate and the building industry today and in the year to '\n",
      "                'come.\\n'\n",
      "                '\\n'\n",
      "                '## How is the role of the master planner changing? What does '\n",
      "                'a 21st Century approach for comprehensive master planning '\n",
      "                'look like?\\n'\n",
      "                '\\n'\n",
      "                '**Chris Rzomp:** The era of the generalist master planner is '\n",
      "                'over. We need to be able to provide comprehensive, '\n",
      "                'specialized services that are very focused on economic '\n",
      "                'development, resilience, and market forces. We need to be '\n",
      "                'able to draw on our internal resources, as well as our '\n",
      "                'external partners, to provide a hyper specialized approach to '\n",
      "                'every project.\\n'\n",
      "                '\\n'\n",
      "                '**Andre:** Our practice has to be more flexible now than it '\n",
      "                'ever was. One of the challenges and the opportunities that we '\n",
      "                'have is that there’s no one project that is the same; we have '\n",
      "                'to approach every project differently. We have to be very '\n",
      "                'nimble, and a lot more flexible than we ever have been in our '\n",
      "                'profession in offering the services that our clients need for '\n",
      "                'a particular effort or project.\\n'\n",
      "                '\\n'\n",
      "                '## What’s driving this increased need for flexibility in city '\n",
      "                'planning and design?\\n'\n",
      "                '\\n'\n",
      "                '**Andre:** Uncertainty in the current market, as well as '\n",
      "                'future market forces, is driving this need for flexibility. A '\n",
      "                'lot of the work that we do involves the intersection of the '\n",
      "                'public and private sectors, where there are changing policies '\n",
      "                'that we may have to adhere to that might change our approach '\n",
      "                'to a masterplan. There are market conditions that developers '\n",
      "                'who we’re working with are going to have to go through — '\n",
      "                'whether it’s entitlements, or speed to execute an entitlement '\n",
      "                'process that forces us to be more nimble — that go beyond '\n",
      "                'simply designing a project.\\n'\n",
      "                '\\n'\n",
      "                '**Ian:** We’ve focused quite a bit over recent months on the '\n",
      "                '[repositioning of office '\n",
      "                'buildings](https://www.gensler.com/blog/what-we-learned-assessing-office-to-residential-conversions), '\n",
      "                'and clearly there’s going to be a lot more of that. But '\n",
      "                'there’s also the repositioning of everything — converting old '\n",
      "                'power stations, factories, and retail centers — this kind of '\n",
      "                'repurposing and repositioning of the city is something very '\n",
      "                'interesting. This also plays into resilience; rather than '\n",
      "                'knocking down and removing an asset, why not reinvent and '\n",
      "                'repurpose it? People can work where they live, and they can '\n",
      "                'live where they used to work.\\n'\n",
      "                '\\n'\n",
      "                '**Andre:** Whether you’re [decommissioning a coal fired power '\n",
      "                'plant](https://www.gensler.com/case-study/avon-lake-renewable-master-plan), '\n",
      "                'or a regulatory process for taking down a public housing '\n",
      "                'site, or repurposing an aging piece of infrastructure into '\n",
      "                'something different — it goes beyond just design; it speaks '\n",
      "                'to policy speaks of regulations that we have to adhere to '\n",
      "                'that really influence how we are able to do our work. And '\n",
      "                'that requires expertise, and sometimes involves other '\n",
      "                'practice areas and consultants.\\n'\n",
      "                '\\n'\n",
      "                '**Chris:** We recently won this competition for the '\n",
      "                '[redevelopment of the Tropicana Field '\n",
      "                'site](https://www.mlb.com/rays/news/rays-st-petersburg-ballpark-agreement) '\n",
      "                'in St. Petersburg, Florida. It’s a huge urban '\n",
      "                'transformational project, and we’re taking 80 acres '\n",
      "                'surrounding this outdated stadium and creating a mixed-use, '\n",
      "                'multigenerational, multi-income neighborhood. And we are '\n",
      "                'working with the planning department to look at existing '\n",
      "                'zoning and understand how to work within or amend the '\n",
      "                'existing codes to get this implemented.\\n'\n",
      "                '\\n'\n",
      "                '**Ian:** In Europe, we’re also seeing that long-standing '\n",
      "                'principles of zoning, planning, regulation, or controls are '\n",
      "                'having to be rethought. The notion of a segregation of uses '\n",
      "                'is giving way to a mix of various uses. And it’s both a '\n",
      "                'product of a pandemic, but also gradual technological change '\n",
      "                'that’s been enabling a different type of behavior. Just 10 or '\n",
      "                '15 years ago, it was all about what you were going to do with '\n",
      "                'old industrial or port sites. And now, you’re looking at '\n",
      "                'traditional CBDs, exaggerated to some extent by very tightly '\n",
      "                'controlled zoning or planning policies, that are now having '\n",
      "                'to be rethought and reinvented, it’s a very exciting time.\\n'\n",
      "                '\\n'\n",
      "                '**Chris:** When these big projects are reinvesting in '\n",
      "                'downtowns with a mixed-use project or development, they '\n",
      "                'really become the catalyst or vehicle for enforcing some of '\n",
      "                'these changes and getting people to rethink about zoning as '\n",
      "                'it’s been written.\\n'\n",
      "                '\\n'\n",
      "                '**Andre:** You see places like Minneapolis that have '\n",
      "                'eliminated single family zoning, or cities like Birmingham, '\n",
      "                'Alabama, that have eliminated parking standards. So, we have '\n",
      "                'to be very much tuned into how a city policy is looking to '\n",
      "                'reshape the built environment, and how we could respond to '\n",
      "                'our clients who are looking to do the same.\\n'\n",
      "                '\\n'\n",
      "                '“We have to be very much tuned into how a city policy is '\n",
      "                'looking to reshape the built environment, and how we could '\n",
      "                'respond to our clients who are looking to do the same.”\\n'\n",
      "                '\\n'\n",
      "                '—Andre Brumfield, Cities & Urban Design leader\\n'\n",
      "                '\\n'\n",
      "                '## We’re seeing in Gensler’s City Pulse data that people '\n",
      "                'don’t feel currently that their CBDs are a good place to '\n",
      "                'raise children to start a family. Is there an opportunity to '\n",
      "                'make downtowns more inclusive, more accessible, and more '\n",
      "                'profitable?\\n'\n",
      "                '\\n'\n",
      "                '**Andre:** It’s not just a downtown phenomenon. Our cities '\n",
      "                'have gotten a lot more expensive. When people make choices '\n",
      "                'once their kids reach a certain age, they often ask: Do I '\n",
      "                'stay in the city or go to the suburbs? And that is the '\n",
      "                'tipping point for how cities actually lose citizens who have '\n",
      "                'strong tax base, how they lose a consistent population, and '\n",
      "                'that impacts services that we can all benefit from, whether '\n",
      "                'it’s public transportation or other public amenities.\\n'\n",
      "                '\\n'\n",
      "                '**Chris:** The polycentric aspect of cities is a trend that’s '\n",
      "                'going to continue. The neighborhood units of our cities are '\n",
      "                'going to continue to get stronger as more people seek that '\n",
      "                'workstyle and stay closer to home. We will start to see these '\n",
      "                'neighborhood centers popping up, growing, and thriving more '\n",
      "                'than they had in the past.\\n'\n",
      "                '\\n'\n",
      "                '**Ian:** We’re definitely seeing that in the U.K. If you go '\n",
      "                'into what was the financial center, it’s still very quiet at '\n",
      "                'times, as parts of the city are dominated by people working '\n",
      "                'there 3 or 4 days a week, and then you go into some of the '\n",
      "                'neighborhoods further out in London, and they’re just full of '\n",
      "                'people, and there’s lots going on. Since the pandemic, '\n",
      "                'Saturday is still the busiest day of the week on the metro.\\n'\n",
      "                '\\n'\n",
      "                '**Chris:** Open space is also vital in order to reimagine a '\n",
      "                'city’s downtown. People understood the value of open space '\n",
      "                'during the pandemic and being able to have these places '\n",
      "                'outside your buildings where indoor and outdoor space blends. '\n",
      "                'That interconnected and active ground plane throughout '\n",
      "                'downtown is going to become a differentiator.\\n'\n",
      "                '\\n'\n",
      "                '“Open space is also vital in order to reimagine a city’s '\n",
      "                'downtown…. That interconnected and active ground plane '\n",
      "                'throughout downtown is going to become a differentiator.”\\n'\n",
      "                '\\n'\n",
      "                '—Chris Rzomp, Cities & Urban Design leader\\n'\n",
      "                '\\n'\n",
      "                '## How can we help solve for affordable and workplace '\n",
      "                'housing, and what are some of the barriers and obstacles to '\n",
      "                'addressing these issues?\\n'\n",
      "                '\\n'\n",
      "                '**Ian:** There’s a [shortage of '\n",
      "                'housing](https://www.gensler.com/podcasts/attainable-and-affordable-housing) '\n",
      "                'everywhere, whether it’s in the Middle East or in Europe. '\n",
      "                'Certainly, what we’re seeing in the U.K. is that the more '\n",
      "                'regulatory systems we put in place to force developers to '\n",
      "                'provide a proportion or a quantity of affordable housing '\n",
      "                'within a development, the more that has actually slowed down '\n",
      "                'the rate of overall development, and paradoxically, led to a '\n",
      "                'shortage. So, the market then grinds to a halt because people '\n",
      "                'can’t move and trade up, which means there’s a whole '\n",
      "                'underclass who won’t get any housing. So, encouraging supply, '\n",
      "                'whether publicly or privately provided, is going to come back '\n",
      "                'into the frame again, because that’s really the only way '\n",
      "                'you’re going to make housing more affordable for everyone.\\n'\n",
      "                '\\n'\n",
      "                '**Andre:** There are three options to solve for. Either the '\n",
      "                'government is going to step in, through local housing '\n",
      "                'authorities or agencies, or the private sectors are going to '\n",
      "                'be part of the solution, or both. And it varies from country '\n",
      "                'to country and from city to city. These components go beyond '\n",
      "                'what urban designers and planners do, but we know the issues '\n",
      "                'that are slowing down real viable solutions to bring about '\n",
      "                'change.\\n'\n",
      "                '\\n'\n",
      "                'We have relationships with a number of housing authorities, '\n",
      "                'as well as developers who focus on affordable housing. And I '\n",
      "                'think the opportunity now is to ask, how do we go beyond the '\n",
      "                'regulatory or entitlement process to really bring our design '\n",
      "                'lens, from an architecture standpoint, to make these plans '\n",
      "                'real?\\n'\n",
      "                '\\n'\n",
      "                '## How do cities need to adapt to the realities of climate '\n",
      "                'change?\\n'\n",
      "                '\\n'\n",
      "                '**Chris:** We’re looking at how climate change impacts '\n",
      "                'livability in urban areas. There is a certain aspect of '\n",
      "                '[climate '\n",
      "                'justice](https://www.gensler.com/blog/climate-justice-in-projects-engaging-community-partners) '\n",
      "                'that is almost becoming table stakes in any urban project. '\n",
      "                'And we’re doing a lot of work in Baltimore right now, and '\n",
      "                'especially in the more disinvested neighborhoods, the '\n",
      "                'temperatures can be up to five to seven degrees higher than '\n",
      "                'areas that have dense tree cover, and that effect is '\n",
      "                'disproportionately put on lower income populations. We need '\n",
      "                'to correct that as we move forward within our planning, to '\n",
      "                'keep an eye on the effects that climate change can have on '\n",
      "                'these neighborhoods if we’re not actively making changes '\n",
      "                'there through the public realm.\\n'\n",
      "                '\\n'\n",
      "                'In terms of mitigation, there are measures we can take. We’re '\n",
      "                'doing some work on [Harborplace in '\n",
      "                'Baltimore](https://www.gensler.com/press-releases/reimagined-baltimore-harborplace-renderings), '\n",
      "                'and just understanding that, when we’re planning for a public '\n",
      "                'realm for the next 50 years, that it’s going to look very '\n",
      "                'different, so we have to get ahead of that. And it’s about '\n",
      "                'looking at these resilient systems that will be able to '\n",
      "                'change, adapt, and grow with it.\\n'\n",
      "                '\\n'\n",
      "                'For media inquiries, email '\n",
      "                '[media@gensler.com](https://www.gensler.com/blog/).',\n",
      "                '| Metadata | Value |\\n'\n",
      "                '|-----|-------|\\n'\n",
      "                \"| title | 'Avoiding Fear-Based Decision-Making to Foster \"\n",
      "                \"Positive In-Store Retail Experiences' |\\n\"\n",
      "                '| source | '\n",
      "                \"'https://www.gensler.com/blog/avoiding-fear-based-decision-making-retail-experiences' \"\n",
      "                '|\\n'\n",
      "                \"| author | ['[[Gensler]]'] |\\n\"\n",
      "                '| published | None |\\n'\n",
      "                '| created | datetime.date(2025, 4, 9) |\\n'\n",
      "                \"| description | 'Gensler is a global architecture, design, \"\n",
      "                'and planning firm with 57 offices and 6,000+ professionals '\n",
      "                \"across the Americas, Europe, Greater China, and APME.' |\\n\"\n",
      "                \"| tags | ['clippings'] |\\n\"\n",
      "                '\\n'\n",
      "                '# Avoiding Fear-Based Decision-Making to Foster Positive '\n",
      "                'In-Store Retail Experiences\\n'\n",
      "                'An eyeglass store interior is shown with display cases filled '\n",
      "                'with eyeglasses and sunglasses, artwork on the walls, a woman '\n",
      "                'sitting in a blue chair, and other furniture.\\n'\n",
      "                '\\n'\n",
      "                'Squint Eyewear, Toronto. Photo by Ben Rahn/A-Frame.\\n'\n",
      "                '\\n'\n",
      "                'Over the course of my 30-year long career as a retail '\n",
      "                'designer, I’ve seen more than my fair share of ups-and-downs. '\n",
      "                'Numerous recessions, a pandemic, and the birth of one key '\n",
      "                'disruption that is now long considered unimaginable to live '\n",
      "                'without. Like in fashion, trends come and go, but the '\n",
      "                'recurring notion that in-store shopping is dead has continued '\n",
      "                'to plague brick-and-mortar retail since the inception of the '\n",
      "                'e-tail — a headline that’s as played out as the “Bedazzler.” '\n",
      "                'In reality, in-store shopping is alive and well, but not all '\n",
      "                'retail experiences are created equal.\\n'\n",
      "                '\\n'\n",
      "                'Despite the convenience of online shopping, there is '\n",
      "                'something irreplaceable about the in-store experience. Only '\n",
      "                'in-store can customers compare fabrics, try on for size, shop '\n",
      "                'socially, or simply have the opportunity to stumble upon '\n",
      "                'something new or unexpected. While there are exceptions, '\n",
      "                'algorithms usually don’t lead shoppers to an adrenaline rush '\n",
      "                'from stumbling upon a great discovery! But while in-store '\n",
      "                'shopping is inimitable in the digital realm, it hinges on its '\n",
      "                'ability to accurately reflect a brand, connect with '\n",
      "                'customers, and offer a seamless journey through space, and it '\n",
      "                'starts with deliberate, bespoke, and often bold design '\n",
      "                'decisions.\\n'\n",
      "                '\\n'\n",
      "                'With experience on both sides of the fence — having worked in '\n",
      "                'retail for 10 years — it’s no surprise to me when retailers '\n",
      "                'become cautious around designing a new store, especially when '\n",
      "                'considering escalating construction costs and the drastic '\n",
      "                'changes in customer behaviour and technology in recent years. '\n",
      "                'Unfortunately, it’s this fear-based mentality that leads '\n",
      "                'clients to want to be all things to all people, spurring the '\n",
      "                'creation of cookie-cutter like spaces, generic experiences, '\n",
      "                'and the deterioration of in-store brand identity — the '\n",
      "                'antithesis of positive customer experiences.\\n'\n",
      "                '\\n'\n",
      "                'To help my clients avoid fear-based decision making at every '\n",
      "                'stage of the design process, I always ask them three key '\n",
      "                'questions:\\n'\n",
      "                '\\n'\n",
      "                '## How will the space reflect the brand?\\n'\n",
      "                '\\n'\n",
      "                'A strong brand isn’t meant to appeal to everyone, it should '\n",
      "                'have an impact on the people it resonates with. Think of your '\n",
      "                'favourite restaurants. How similar are they to their '\n",
      "                'competitors? Chances are, they’re quite different, and this '\n",
      "                'is how I encourage my clients to think about retail spaces. '\n",
      "                'To move away from overly cautious design choices, I advise my '\n",
      "                'clients to view the in-store space as a reflection of their '\n",
      "                'brand’s uniqueness. As seen with '\n",
      "                '[Simons](https://www.newswire.ca/news-releases/simons-bets-on-the-future-of-canadian-retail-by-opening-two-new-urban-toronto-stores-in-2025-842873193.html), '\n",
      "                'which is working to open 228,000 square feet of space across '\n",
      "                'two new stores in Toronto, understanding the brand is crucial '\n",
      "                'in curating the experience for a new customer base, and to '\n",
      "                'increase brand recognition. For the Quebec-City based '\n",
      "                'retailer, this includes Simons’ signature use of works by '\n",
      "                'local artists and nature-inspired design elements.\\n'\n",
      "                '\\n'\n",
      "                'This is an architectural rendering of a multi-story building '\n",
      "                'with a Simons department store and a Cucina restaurant, '\n",
      "                'showcasing a modern design with varying facade textures, '\n",
      "                'large windows, and prominent signage.\\n'\n",
      "                '\\n'\n",
      "                'Simons Eaton Centre, Toronto\\n'\n",
      "                '\\n'\n",
      "                '## How will the space connect with customers?\\n'\n",
      "                '\\n'\n",
      "                'It’s at this stage where I most often encounter fear-based '\n",
      "                'decision making, especially when a client becomes weary of '\n",
      "                'making bold design decisions for fear of alienating '\n",
      "                'customers, without realizing that watered down design is '\n",
      "                'equally as effective at turning people away.\\n'\n",
      "                '\\n'\n",
      "                'Helping clients understand how their space connects with '\n",
      "                'their customers is crucial. While there is a method to the '\n",
      "                'madness, any designer would be lying to you if they claimed '\n",
      "                'it’s an exact science — another cause for cautious design '\n",
      "                'choices. What’s important is that the design offers a point '\n",
      "                'of view. Having designed nine previous Simons stores over 25 '\n",
      "                'years, it’s about bringing Simons’ fashion-forward, '\n",
      "                'democratic approach to retail to a new audience.\\n'\n",
      "                '\\n'\n",
      "                '## How can the space become a journey?\\n'\n",
      "                '\\n'\n",
      "                'But even if the store is an accurate reflection of the brand '\n",
      "                'and manages to connect with customers on a human-level, '\n",
      "                'shoppers cannot be expected to stay in a space that is bereft '\n",
      "                'of logic, especially if it’s a larger retail environment. '\n",
      "                'Instead, the space must entice shoppers to linger, explore, '\n",
      "                'and understand the ecosystem of interconnected spaces and '\n",
      "                'experiences.\\n'\n",
      "                '\\n'\n",
      "                'A strategic design approach will consider the curation of '\n",
      "                'space into digestible vignettes and product moments, '\n",
      "                'providing a narrative thread for customers to venture from '\n",
      "                'one experience to another — like breadcrumbs, shoppers should '\n",
      "                'be led on a journey.\\n'\n",
      "                '\\n'\n",
      "                'The photograph shows a modern retail space with a pink velvet '\n",
      "                'curved sofa, a light stone coffee table, a unique swirling '\n",
      "                'rug, and clothing racks in front of a softly lit, draped '\n",
      "                'backdrop, accented with green plants and stylish accessories, '\n",
      "                'all under bright track lighting.\\n'\n",
      "                '\\n'\n",
      "                'Holt Renfrew’s The Studio, Toronto. Photo by Stephanie '\n",
      "                'Kretzschmer.\\n'\n",
      "                '\\n'\n",
      "                'A bright, monochromatic magenta corridor featuring walls with '\n",
      "                'inset doors, a matching carpet, and a large, vertically '\n",
      "                'oriented mirror surrounded by glowing white neon-like tubes '\n",
      "                'at the end of the hall, with a blurred figure walking towards '\n",
      "                'the viewer on the left.\\n'\n",
      "                '\\n'\n",
      "                'Holt Renfrew’s The Studio, Toronto. Photo by Stephanie '\n",
      "                'Kretzschmer.\\n'\n",
      "                '\\n'\n",
      "                'When it comes to retail, there is so much that is out of our '\n",
      "                'control as designers. We cannot alter the products our '\n",
      "                'clients sell, the people they hire, or anything that happens '\n",
      "                'outside of the store, but good design can still have an '\n",
      "                'incredible impact. For many consumers, a store is still the '\n",
      "                'most tangible visual cue for many brands. How the space '\n",
      "                'reflects the brand, connects with customers, and provides an '\n",
      "                'experience that will entice them to explore and keep shopping '\n",
      "                'are all influenced by design.\\n'\n",
      "                '\\n'\n",
      "                'As we learned during the pandemic, people still crave '\n",
      "                'positive in-store shopping experiences. What’s more, if '\n",
      "                'brick-and-mortar shopping had truly died alongside its first '\n",
      "                '— of many — painstaking obituaries, I wouldn’t have had a '\n",
      "                'very long career. Yet, I can recall a time working in retail '\n",
      "                'when credit cards weren’t tapped so much as they were '\n",
      "                'railroaded by something colloquially referred to as a '\n",
      "                '“knuckle-buster,” and I’m still designing retail spaces. '\n",
      "                'While everything evolves, some things never change.\\n'\n",
      "                '\\n'\n",
      "                'For media inquiries, email '\n",
      "                '[media@gensler.com](https://www.gensler.com/blog/).']],\n",
      " 'embeddings': None,\n",
      " 'ids': [['11', '19', '12', '15', '7']],\n",
      " 'included': [<IncludeEnum.distances: 'distances'>,\n",
      "              <IncludeEnum.documents: 'documents'>,\n",
      "              <IncludeEnum.metadatas: 'metadatas'>],\n",
      " 'metadatas': [[{'author': '[[Gensler]]',\n",
      "                 'description': 'Gensler is a global architecture, design, and '\n",
      "                                'planning firm with 57 offices and 6,000+ '\n",
      "                                'professionals across the Americas, Europe, '\n",
      "                                'Greater China, and APME.',\n",
      "                 'prompt': 'Generate a thought leadership article on the '\n",
      "                           'return to the office in relation to surprising '\n",
      "                           'findings from a 2022 workplace survey regarding '\n",
      "                           'employee needs and expectations.',\n",
      "                 'source': 'https://www.gensler.com/blog/3-surprises-impacting-the-return-to-the-office',\n",
      "                 'summary': \"Gensler's research reveals three surprises \"\n",
      "                            'impacting the return to the office: employees now '\n",
      "                            'prioritize focus over collaboration, they feel '\n",
      "                            'they need to be in the office more than they '\n",
      "                            'currently are for productivity, and a better mix '\n",
      "                            'of workplace experiences would incentivize more '\n",
      "                            'frequent office visits.',\n",
      "                 'tags': 'clippings',\n",
      "                 'title': '3 Surprises Impacting the Return to the Office'},\n",
      "                {'author': '[[Gensler]]',\n",
      "                 'description': 'Gensler is a global architecture, design, and '\n",
      "                                'planning firm with 57 offices and 6,000+ '\n",
      "                                'professionals across the Americas, Europe, '\n",
      "                                'Greater China, and APME.',\n",
      "                 'prompt': 'Generate a thought leadership article on workplace '\n",
      "                           'design regarding the danger of repurposing '\n",
      "                           'collaboration spaces into individual workstations '\n",
      "                           'as companies repopulate offices after the '\n",
      "                           'pandemic.',\n",
      "                 'source': 'https://www.gensler.com/blog/repopulating-the-workplace-collaboration-space-in-danger',\n",
      "                 'summary': 'As companies repopulate offices, repurposing '\n",
      "                            'collaboration spaces into individual workstations '\n",
      "                            'to accommodate more employees undermines the '\n",
      "                            'primary goal of increased in-person collaboration '\n",
      "                            'and risks frustrating employees.',\n",
      "                 'tags': 'clippings',\n",
      "                 'title': 'Repopulating the Workplace: Why Collaboration Space '\n",
      "                          'Is in Danger'},\n",
      "                {'author': '[[Gensler]]',\n",
      "                 'description': 'Gensler is a global architecture, design, and '\n",
      "                                'planning firm with 57 offices and 6,000+ '\n",
      "                                'professionals across the Americas, Europe, '\n",
      "                                'Greater China, and APME.',\n",
      "                 'prompt': 'Generate a thought leadership article on mixed-use '\n",
      "                           'real estate development in relation to community '\n",
      "                           'restoration, economic resilience, and '\n",
      "                           'future-proofing design principles.',\n",
      "                 'source': 'https://www.gensler.com/blog/how-principles-of-mixed-use-design-will-restore-communities',\n",
      "                 'summary': 'Mixed-use developments, designed with curated '\n",
      "                            'experiences, 24/7 activation, flexibility, '\n",
      "                            'resilience, and community spaces, are key to '\n",
      "                            'revitalizing communities by creating dynamic, '\n",
      "                            'inclusive, and adaptable environments that offer '\n",
      "                            'better returns on investment and foster a sense '\n",
      "                            'of belonging.',\n",
      "                 'tags': 'clippings',\n",
      "                 'title': 'The Future Is Mixed Use: How Principles of Mixed '\n",
      "                          'Use Design Will Restore Our Communities'},\n",
      "                {'author': '[[Gensler]]',\n",
      "                 'description': 'Gensler is a global architecture, design, and '\n",
      "                                'planning firm with 57 offices and 6,000+ '\n",
      "                                'professionals across the Americas, Europe, '\n",
      "                                'Greater China, and APME.',\n",
      "                 'prompt': 'Generate a thought leadership article on the '\n",
      "                           'future of cities and urban living regarding trends '\n",
      "                           'reshaping downtowns, master planning, inclusivity, '\n",
      "                           'housing, and climate change adaptation.',\n",
      "                 'source': 'https://www.gensler.com/blog/trends-reshaping-future-of-cities-urban-living',\n",
      "                 'summary': 'Experts at Gensler suggest that the future of '\n",
      "                            'cities hinges on adapting to post-pandemic '\n",
      "                            'realities by diversifying downtown offerings '\n",
      "                            'beyond traditional office spaces, embracing '\n",
      "                            'mixed-use zoning, prioritizing flexibility and '\n",
      "                            'resilience in planning, addressing housing '\n",
      "                            'shortages, and mitigating the impacts of climate '\n",
      "                            'change with a focus on equity.',\n",
      "                 'tags': 'clippings',\n",
      "                 'title': 'Trends to Watch Reshaping the Future of Cities and '\n",
      "                          'Urban Living'},\n",
      "                {'author': '[[Gensler]]',\n",
      "                 'description': 'Gensler is a global architecture, design, and '\n",
      "                                'planning firm with 57 offices and 6,000+ '\n",
      "                                'professionals across the Americas, Europe, '\n",
      "                                'Greater China, and APME.',\n",
      "                 'prompt': 'Generate a thought leadership article on in-store '\n",
      "                           'retail design regarding avoiding fear-based '\n",
      "                           'decision-making to foster positive customer '\n",
      "                           'experiences.',\n",
      "                 'source': 'https://www.gensler.com/blog/avoiding-fear-based-decision-making-retail-experiences',\n",
      "                 'summary': 'To create positive in-store retail experiences, '\n",
      "                            'retailers should avoid fear-based design '\n",
      "                            'decisions and instead focus on creating spaces '\n",
      "                            \"that reflect their brand's uniqueness, connect \"\n",
      "                            'with customers on a human level, and provide a '\n",
      "                            'logical and enticing journey through the store.',\n",
      "                 'tags': 'clippings',\n",
      "                 'title': 'Avoiding Fear-Based Decision-Making to Foster '\n",
      "                          'Positive In-Store Retail Experiences'}]],\n",
      " 'uris': None}\n"
     ]
    }
   ],
   "source": [
    "# check the full result with metadata\n",
    "pprint.pprint(result)"
   ]
  },
  {
   "cell_type": "markdown",
   "id": "116335c3",
   "metadata": {
    "papermill": {
     "duration": 0.013083,
     "end_time": "2025-04-15T04:21:51.376201",
     "exception": false,
     "start_time": "2025-04-15T04:21:51.363118",
     "status": "completed"
    },
    "tags": []
   },
   "source": [
    "We can also query images since we have another db established"
   ]
  },
  {
   "cell_type": "code",
   "execution_count": 25,
   "id": "b65835ae",
   "metadata": {
    "execution": {
     "iopub.execute_input": "2025-04-15T04:21:51.406112Z",
     "iopub.status.busy": "2025-04-15T04:21:51.405316Z",
     "iopub.status.idle": "2025-04-15T04:21:51.615898Z",
     "shell.execute_reply": "2025-04-15T04:21:51.614976Z"
    },
    "papermill": {
     "duration": 0.226938,
     "end_time": "2025-04-15T04:21:51.617870",
     "exception": false,
     "start_time": "2025-04-15T04:21:51.390932",
     "status": "completed"
    },
    "tags": []
   },
   "outputs": [
    {
     "data": {
      "text/markdown": [
       "### Image 1 — *How the Rise in Digital and Home Health Will Transform Healthcare*"
      ],
      "text/plain": [
       "<IPython.core.display.Markdown object>"
      ]
     },
     "metadata": {},
     "output_type": "display_data"
    },
    {
     "data": {
      "text/markdown": [
       "![A few women sitting in an office.](https://static2.gensler.com/uploads/image/97051/Retina_Consultants_Woodlands_N12_900x1024_1742593080.jpg)"
      ],
      "text/plain": [
       "<IPython.core.display.Markdown object>"
      ]
     },
     "metadata": {},
     "output_type": "display_data"
    },
    {
     "data": {
      "text/markdown": [
       "**Caption:** A few women sitting in an office.  \n",
       "[From article: *How the Rise in Digital and Home Health Will Transform Healthcare*](https://www.gensler.com/blog/how-digital-and-home-health-will-transform-healthcare)"
      ],
      "text/plain": [
       "<IPython.core.display.Markdown object>"
      ]
     },
     "metadata": {},
     "output_type": "display_data"
    },
    {
     "data": {
      "text/markdown": [
       "---"
      ],
      "text/plain": [
       "<IPython.core.display.Markdown object>"
      ]
     },
     "metadata": {},
     "output_type": "display_data"
    },
    {
     "data": {
      "text/markdown": [
       "### Image 2 — *Repopulating the Workplace: Why Collaboration Space Is in Danger*"
      ],
      "text/plain": [
       "<IPython.core.display.Markdown object>"
      ]
     },
     "metadata": {},
     "output_type": "display_data"
    },
    {
     "data": {
      "text/markdown": [
       "![A man and a woman in an office.](https://static2.gensler.com/uploads/image/96554/BDO_NYC_FryGillian_7545_1739474648.jpg)"
      ],
      "text/plain": [
       "<IPython.core.display.Markdown object>"
      ]
     },
     "metadata": {},
     "output_type": "display_data"
    },
    {
     "data": {
      "text/markdown": [
       "**Caption:** A man and a woman in an office.  \n",
       "[From article: *Repopulating the Workplace: Why Collaboration Space Is in Danger*](https://www.gensler.com/blog/repopulating-the-workplace-collaboration-space-in-danger)"
      ],
      "text/plain": [
       "<IPython.core.display.Markdown object>"
      ]
     },
     "metadata": {},
     "output_type": "display_data"
    },
    {
     "data": {
      "text/markdown": [
       "---"
      ],
      "text/plain": [
       "<IPython.core.display.Markdown object>"
      ]
     },
     "metadata": {},
     "output_type": "display_data"
    },
    {
     "data": {
      "text/markdown": [
       "### Image 3 — *Repopulating the Workplace: Why Collaboration Space Is in Danger*"
      ],
      "text/plain": [
       "<IPython.core.display.Markdown object>"
      ]
     },
     "metadata": {},
     "output_type": "display_data"
    },
    {
     "data": {
      "text/markdown": [
       "![A group of people in a room.](https://static2.gensler.com/uploads/image/96555/EdelmanLA2023_GobutyRyan_07_1739474705.jpg)"
      ],
      "text/plain": [
       "<IPython.core.display.Markdown object>"
      ]
     },
     "metadata": {},
     "output_type": "display_data"
    },
    {
     "data": {
      "text/markdown": [
       "**Caption:** A group of people in a room.  \n",
       "[From article: *Repopulating the Workplace: Why Collaboration Space Is in Danger*](https://www.gensler.com/blog/repopulating-the-workplace-collaboration-space-in-danger)"
      ],
      "text/plain": [
       "<IPython.core.display.Markdown object>"
      ]
     },
     "metadata": {},
     "output_type": "display_data"
    },
    {
     "data": {
      "text/markdown": [
       "---"
      ],
      "text/plain": [
       "<IPython.core.display.Markdown object>"
      ]
     },
     "metadata": {},
     "output_type": "display_data"
    },
    {
     "data": {
      "text/markdown": [
       "### Image 4 — *Urban Design’s Renaissance: How San Francisco Is Leading the Way*"
      ],
      "text/plain": [
       "<IPython.core.display.Markdown object>"
      ]
     },
     "metadata": {},
     "output_type": "display_data"
    },
    {
     "data": {
      "text/markdown": [
       "![A group of people in a room.](https://static1.gensler.com/uploads/image/97274/DesignForecastLiveSF_094_1743806312.jpg)"
      ],
      "text/plain": [
       "<IPython.core.display.Markdown object>"
      ]
     },
     "metadata": {},
     "output_type": "display_data"
    },
    {
     "data": {
      "text/markdown": [
       "**Caption:** A group of people in a room.  \n",
       "[From article: *Urban Design’s Renaissance: How San Francisco Is Leading the Way*](https://www.gensler.com/blog/urban-design-renaissance-san-francisco-leading-the-way)"
      ],
      "text/plain": [
       "<IPython.core.display.Markdown object>"
      ]
     },
     "metadata": {},
     "output_type": "display_data"
    },
    {
     "data": {
      "text/markdown": [
       "---"
      ],
      "text/plain": [
       "<IPython.core.display.Markdown object>"
      ]
     },
     "metadata": {},
     "output_type": "display_data"
    },
    {
     "data": {
      "text/markdown": [
       "### Image 5 — *5 Ways Suburban Office Campuses Are Transforming Into Thriving Communities*"
      ],
      "text/plain": [
       "<IPython.core.display.Markdown object>"
      ]
     },
     "metadata": {},
     "output_type": "display_data"
    },
    {
     "data": {
      "text/markdown": [
       "![A building with people walking around.](https://static2.gensler.com/uploads/image/97288/Park-Eight-Place-Master-Plan_N2_1744052074.jpg)"
      ],
      "text/plain": [
       "<IPython.core.display.Markdown object>"
      ]
     },
     "metadata": {},
     "output_type": "display_data"
    },
    {
     "data": {
      "text/markdown": [
       "**Caption:** A building with people walking around.  \n",
       "[From article: *5 Ways Suburban Office Campuses Are Transforming Into Thriving Communities*](https://www.gensler.com/blog/5-ways-suburban-office-campuses-are-transforming)"
      ],
      "text/plain": [
       "<IPython.core.display.Markdown object>"
      ]
     },
     "metadata": {},
     "output_type": "display_data"
    },
    {
     "data": {
      "text/markdown": [
       "---"
      ],
      "text/plain": [
       "<IPython.core.display.Markdown object>"
      ]
     },
     "metadata": {},
     "output_type": "display_data"
    }
   ],
   "source": [
    "#Query the image index for visual results\n",
    "image_query = \"Show me 5 images of return to office\"\n",
    "top_k_images = 5\n",
    "\n",
    "image_results = image_db.query(\n",
    "    query_texts=[image_query],\n",
    "    n_results=top_k_images\n",
    ")\n",
    "\n",
    "# Display images with caption and source article link\n",
    "for i in range(len(image_results[\"documents\"][0])):\n",
    "    caption = image_results[\"documents\"][0][i]\n",
    "    meta = image_results[\"metadatas\"][0][i]\n",
    "    image_url = meta[\"image_url\"]\n",
    "    title = meta.get(\"title\", \"Untitled\")\n",
    "    source_url = meta.get(\"source\", \"#\")  # Fallback if no URL is provided\n",
    "\n",
    "    display(Markdown(f\"### Image {i+1} — *{title}*\"))\n",
    "    display(Markdown(f\"![{caption}]({image_url})\"))\n",
    "    display(Markdown(f\"**Caption:** {caption}  \\n[From article: *{title}*]({source_url})\"))\n",
    "    display(Markdown(\"---\"))"
   ]
  },
  {
   "cell_type": "markdown",
   "id": "4a8182a5",
   "metadata": {
    "id": "s8PNRMpOQkm5",
    "papermill": {
     "duration": 0.01475,
     "end_time": "2025-04-15T04:21:51.648381",
     "exception": false,
     "start_time": "2025-04-15T04:21:51.633631",
     "status": "completed"
    },
    "tags": []
   },
   "source": [
    "## Augmented generation: Answer the question\n",
    "\n",
    "Now that you have found several relevant passage from the set of documents (the *retrieval* step), we can now assemble a generation prompt to have the Gemini API *generate* a final answer. In practice, when the size of underlying data is large, we will want to retrieve more than one result and let the Gemini model determine what passages are relevant in answering the question. For this reason it's OK if some retrieved passages are not directly related to the question - this generation step should ignore them.\n",
    "\n",
    "### Citation\n",
    "\n",
    "Ideally we would also like to structure the output to link parts of the answer to the retrival given, to make it easier to fact check and put the answer in context, in order to do that, we should include the retrivals into the prompt in a structured way including ids for ease of indexing and matching, as well as metadatas like title, source links, etc. to be able to build a citation footnote as part of the response."
   ]
  },
  {
   "cell_type": "code",
   "execution_count": 26,
   "id": "cbfcfd04",
   "metadata": {
    "execution": {
     "iopub.execute_input": "2025-04-15T04:21:51.680346Z",
     "iopub.status.busy": "2025-04-15T04:21:51.679977Z",
     "iopub.status.idle": "2025-04-15T04:21:51.693137Z",
     "shell.execute_reply": "2025-04-15T04:21:51.692134Z"
    },
    "id": "b6_Y-GOymaXu",
    "papermill": {
     "duration": 0.033321,
     "end_time": "2025-04-15T04:21:51.696890",
     "exception": false,
     "start_time": "2025-04-15T04:21:51.663569",
     "status": "completed"
    },
    "scrolled": true,
    "tags": []
   },
   "outputs": [
    {
     "name": "stdout",
     "output_type": "stream",
     "text": [
      "\n",
      "You are a helpful knowledge management assitant with access to a proprietary database.\n",
      "You will answers questions using articles retrieved from the database listed below. \n",
      "Be sure to respond in complete sentences, being comprehensive, including all relevant background information, and dive into the details when necessary.\n",
      "Be sure to break down complicated concepts and strike a friendly and converstional tone. \n",
      "If the passage is irrelevant to the answer, you may ignore it.\n",
      "\n",
      "QUESTION:\n",
      "('Provide me 5 issues to think about when designing for return to office space.',)\n",
      "\n",
      "ARTICLES:\n",
      "[\n",
      "  {\n",
      "    \"ref_id\": 1,\n",
      "    \"title\": \"3 Surprises Impacting the Return to the Office\",\n",
      "    \"url\": \"https://www.gensler.com/blog/3-surprises-impacting-the-return-to-the-office\",\n",
      "    \"distance\": 0.730640709400177,\n",
      "    \"content\": \"| Metadata | Value |\\n|-----|-------|\\n| title | '3 Surprises Impacting the Return to the Office' |\\n| source | 'https://www.gensler.com/blog/3-surprises-impacting-the-return-to-the-office' |\\n| author | ['[[Gensler]]'] |\\n| published | None |\\n| created | datetime.date(2025, 4, 9) |\\n| description | 'Gensler is a global architecture, design, and planning firm with 57 offices and 6,000+ professionals across the Americas, Europe, Greater China, and APME.' |\\n| tags | ['clippings'] |\\n\\n# 3 Surprises Impacting the Return to the Office\\nThe image shows three people in a modern, plant-filled, well-lit lounge area with large windows overlooking a city skyline, featuring couches, chairs, coffee tables, and decorative overhead lighting.\\n\\nA group of people sitting on couches in a room with large windows.\\n\\n*Editor\\u2019s Note: This blog is part of our [blog series](https://www.gensler.com/blog/by-keyword?k=WPS22) exploring insights from Gensler\\u2019s 2022 Workplace Survey findings.*\\n\\nResearch often measures and confirms what we, as designers and strategists, may intuitively believe based on our experience and practice. As a researcher, I love uncovering surprises in the data that debunk common perceptions. These surprising truths often lead to a new understanding of how people work and what they value, as well as new insights on the built environment. In [our latest workplace research](https://www.gensler.com/gri/us-workplace-survey-2022) study, we saw a number of unexpected surprises!\\n\\nHere are the top three surprises uncovered in our research impacting the return to the office:\\n\\n## Surprise #1: A Shift in the Role of the Office\\n\\nGensler conducted 11 different workplace research studies during the pandemic to understand how work and employee expectations were changing and what it meant for the new role of the office. In our surveys, we asked office workers and senior leaders to choose their top five most important reasons to come into the office. Throughout the pandemic the top-ranked reason was to \\u201cwork in-person with my team/colleagues.\\u201d This was the top reason in all six countries that we surveyed \\u2014 the United States, U.K., France, Australia, India, and even China, where people had already returned after their first big wave of COVID cases. It was the top reason segmented by 10 different industries, as well as by generation.\\n\\nOur latest [U.S. Workplace Survey](https://www.gensler.com/gri/us-workplace-survey-2022) research was conducted in the late summer of 2022 as people were returning to the office. Like all of Gensler\\u2019s workplace research since 2008, we surveyed only office workers who spend at least part of their time in the office. This time, when we asked over 2,000 respondents to choose their top five most important reasons to come into the office, there was a sudden shift in the role of the office. The new top reason was to \\u201cfocus on my work.\\u201d When we look at the top five or six important reasons, we see that people ranked access to technology, specific spaces, materials, and resources high, as well as scheduled in-person meetings with their team and sitting with their team. There was a shift from working with my team, connecting, and socializing to the broader purpose of simply getting their work done. Focus on my work was particularly important for the younger generations.\\n\\n## Surprise #2: Employees Say They NEED to Work in the Office More Often\\n\\nIn our latest North America surveys, conducted late summer 2022, U.S. employees report that they are spending 51% of a typical work week in the office. The balance of the week is spent working in other locations, business travel, coworking sites, third places, home. Time spent at the office varies by location, with government/defense and consumer goods industries spending the most time at the office and media and energy industries spending the least.\\n\\nIn the survey, we not only asked how much time respondents are **currently** in the office but also how much time they **ideally need** to work in their company\\u2019s office space to maximize their individual and team productivity. This was our second surprise: employees report that they need to spend more time at the office to maximize their productivity! And the top quartile of the U.S. innovative companies we surveyed say they need to work in the office 67% of the work week, which is the exact same percentage we measured before the start of the pandemic in February 2020.\\n\\nWe got a double surprise when we looked at productivity. Through the pandemic, people had reported that working from home was both efficient and highly productive. Our research hypothesis was that people would say that the office is more important for team productivity than individual productivity. But we found that both were equally important. In fact, U.S. office workers in high-performing workplaces report that they need to be in the office 72% of the work week to maximize individual productivity and 71% of the week to maximize team productivity. It was no surprise that employees who work in low-performing workspaces say they need to be in the office 6% less than they are currently coming in.\\n\\nThis begs the question of why. If employees say they **need** to work in the office to maximize individual and team productivity, why aren\\u2019t they coming into the office? What\\u2019s holding them back? We sense part of the answer may be [why they are returning](https://www.gensler.com/blog/what-gensler-workplace-survey-reveals-about-return-to-office), as well as understanding [what is working](https://www.gensler.com/blog/return-to-the-workplace-what-works-what-doesnt) and what doesn\\u2019t when they do spend time at the office. Our last surprise may also be part of the answer.\\n\\n## Surprise #3: A New Mix of Experiences Would Bring Employees Back Even More\\n\\nFinally, we wanted to explore what\\u2019s missing in the current workplace that would bring more employees back to the office. In a survey, it\\u2019s difficult to ask over 2,000 office workers across 10 industries what they wished they had at the office if they don\\u2019t know what\\u2019s possible. So, we described eight everyday experiences that people could easily relate with, ranging from a library to a coffee shop to a clubhouse. Respondents could select various experiences and toggle each to create a pie chart of their ideal mix of work experiences. As we analyzed the data, we saw some interesting patterns by industry and by generation.\\n\\nHowever, we got a big surprise when we asked the question, \\u201cIf your company provided your ideal work experience mix, would you be willing to coming to your company\\u2019s office more often?\\u201d In response, 42% say they would be willing to come in one more day/week, 17% say one more day/month, and 24% say they would be willing to return full-time! That\\u2019s 83% of employees who aren\\u2019t already full-time in the office. Younger generations report a greater willingness to return to the office for their ideal mix of work experiences.\\n\\nResearch on people and the built environment is an investment in our future. Research not only informs our projects and our work to make it better, but we can also learn from our projects to inform the next cycle of research. Surprises in research data are a gift as they can catalyze deeper conversations with our clients to understand how their employees work and the role that the built environment can play to not only support better work performance but enrich people\\u2019s lives and experiences. Surprises lead to deeper explorations and new insights, which fuel the power of design to imagine new possibilities!\\n\\nFor media inquiries, email [media@gensler.com](https://www.gensler.com/blog/).\"\n",
      "  },\n",
      "  {\n",
      "    \"ref_id\": 2,\n",
      "    \"title\": \"Repopulating the Workplace: Why Collaboration Space Is in Danger\",\n",
      "    \"url\": \"https://www.gensler.com/blog/repopulating-the-workplace-collaboration-space-in-danger\",\n",
      "    \"distance\": 0.7333929538726807,\n",
      "    \"content\": \"| Metadata | Value |\\n|-----|-------|\\n| title | 'Repopulating the Workplace: Why Collaboration Space Is in Danger' |\\n| source | 'https://www.gensler.com/blog/repopulating-the-workplace-collaboration-space-in-danger' |\\n| author | ['[[Gensler]]'] |\\n| published | None |\\n| created | datetime.date(2025, 4, 9) |\\n| description | 'Gensler is a global architecture, design, and planning firm with 57 offices and 6,000+ professionals across the Americas, Europe, Greater China, and APME.' |\\n| tags | ['clippings'] |\\n\\n# Repopulating the Workplace: Why Collaboration Space Is in Danger\\nThe image shows a modern office space with a collaborative area featuring a long built-in bench with pillows, a black marble table with four wooden chairs, and several glass-enclosed private booths with individuals working inside.\\n\\nEdelman Los Angeles. Photo by Ryan Gobuty.\\n\\n*Editor\\u2019s note: This article was originally published in [Work Design Magazine](https://www.workdesign.com/2025/02/informal-collaboration-space/).*\\n\\nIn the aftermath of the pandemic and the resulting shift to remote and hybrid work models, many organizations have reduced their real estate footprint, in some cases, significantly. Today, as more and more companies look to increase office presence for employees, they are having to rethink their workplace strategies to accommodate a greater daily population.\\n\\nThey\\u2019re grappling with whether to lease more space or repurpose shared space to accommodate increased demand for workstations and offices. This dilemma is a microcosm of broader organizational challenges that often pit financial considerations against employee needs and cultural implications.\\n\\n## Why Collaboration Space Increased as Footprints Decreased\\n\\nThe pandemic prompted a paradigm shift in how offices are used. The purpose of the office was less about individual work and more about interactive work. Traditional cubicles gave way to more open, collaboration-focused layouts with minimal shared individual space types. Meeting rooms increased in number and variety, and breakout spaces, huddle rooms, and lounge areas became the focal points, designed to foster interaction and innovation while accommodating a workforce that spent significant time working remotely.\\n\\nThis shift was a strategic response to changing work patterns, but also one that delivered efficiency. Repurposing underutilized individual space to collaboration space aligned the workplace to a hybrid and remote workforce while still leaving a significant amount of excess space that could be shed, saving businesses often millions of dollars in overhead costs while also signaling a commitment to flexibility.\\n\\nThis is an open, modern office space with a concrete floor and ceiling, exposed pipes, diverse seating arrangements including sofas, chairs, and counter seating by a window, and architectural elements such as archways and built-in shelving.\\n\\nEdelman\\u2019s Los Angeles office features a variety of casual collaboration areas for coworking and client meetings. The first-floor cafe is dedicated to communal workspaces with multiple seating options and an adjacent terrace. Photo by Ryan Gobuty.\\n\\n## The Conundrum\\n\\nFast-forward to today. Many organizations find they\\u2019ve painted themselves into a corner.\\n\\nAs policies shift to increase days in the office, workplaces that had been downsized are running into capacity issues, especially on peak office days. The mix of spaces designed for a remote workforce \\u2014 mostly focused on collaboration \\u2014 are short on seats to accommodate individual work.\\n\\nThe almost default solution companies are taking to solve this problem is to repurpose open collaboration space into individual workstations and small enclosed meeting rooms and huddle rooms into private offices. It seems like a harmless trade-off, and maybe even an improvement in terms of informal collaboration spaces, which are often not highly used and may sit empty for a good portion of the day.\\n\\nFrom a financial standpoint, this approach makes sense. It allows businesses to manage the influx of employees without taking on more space. While lower than before the pandemic, commercial real estate costs are still high, and economic uncertainty makes committing to new leases a risk many organizations would like to avoid. On its face, repurposing existing collaboration spaces to individual space seems like a win-win solution: a cost-effective way to accommodate more employees while maintaining financial discipline.\\n\\nThe image shows a contemporary office space featuring a built-in booth with seating for two beneath a curved alcove adorned with a decorative pattern, adjacent to a wall with a mounted television and a glass-enclosed office with a person walking past.\\n\\nBooth seating in BDO\\u2019s New York office provides a flexible option for casual meetings and breaks. Photo by Gensler/Gillian Fry.\\n\\n## Why It\\u2019s the Wrong Solution\\n\\nThe root of the problem with the prevailing solution \\u2014 repurposing \\u201cwe\\u201d space to \\u201cme\\u201d space \\u2014 is that it\\u2019s missing the whole point behind repopulating the office: companies want people back in the office so they can collaborate more, so they can interact more, so they can learn and grow from and with each other. Decreasing the space types that allow and encourage collaboration and interaction to happen, and putting in more individual seats is working against the goal, not for it. It\\u2019s self-defeating.\\n\\nThat in itself is problematic, but it\\u2019s also a quick way to frustrate people, many of whom may already be resistant to new office presence requirements. \\u201cIf my team is just going to sit at our desks doing Zoom calls because we can\\u2019t find a collaboration space, why not just stay home?\\u201d\\n\\nA company\\u2019s desire to increase in-person collaboration is not capricious. There is ample research proving in-person teams are more collaborative, more cohesive, and that they come up with better solutions. Physical presence allows for better non-verbal communication, immediate interaction, and deeper relationships. Virtual meetings are more transactional, less productive, less engaging (some estimates put the percentage of people who multitask during virtual meetings as high as 92%), and simply less enjoyable. As the essayist Sarah Robinson so aptly puts it, a video conference call is \\u201clike eating without tasting.\\u201d It checks the box on meeting but is entirely unsatisfying.\\n\\nThe workplace environment communicates with the people within it, both consciously and subconsciously. Incorporating collaboration spaces of different sizes and types, open and closed, tells people that collaboration is valued and encouraged by the organization. Proximity and ample availability make collaboration easy to do, and more likely to happen. Just as a store putting gum near the checkout counter makes it more likely a person will buy it, putting collaboration spaces throughout the work floor makes it more likely a person is going to collaborate.\\n\\nThis is a modern office space with a lounge area featuring a large sectional sofa, a long work table with chairs, and enclosed meeting rooms with glass walls.\\n\\nA mix of small conference rooms, soft seating, and collaboration tables break up the floor plate of United Airlines\\u2019 Amenity Hub. Photo by Connie Zhou.\\n\\n## A Defining Moment\\n\\nWhile repurposing collaboration space into individual space offers an easy, relatively inexpensive short-term fix, the long-term implications are less positive. The motivation behind a shift to more in-office presence is to have more in-person collaboration. Decreasing space types that support collaboration undermines the very goal bringing people back into the office is trying to achieve.\\n\\nFor decades workplace design has operated on an \\u201ceither/or\\u201d approach, where increases in one area \\u2014 more amenities, support spaces, and collaboration spaces \\u2014 come at the sacrifice of others, usually individual space. This next era needs to embrace a \\u201cboth/and\\u201d approach. Creating environments that superlatively support both individual focus work and rich collaborative work will deliver better experiences and stronger cultures, and ultimately, positive business performance outcomes.\\n\\nInvesting in additional space now, even with associated costs, is a strategic move to avoid regressing to office models from the 1990s that stifled innovation and collaboration. By expanding thoughtfully and intentionally, companies can maintain modern, flexible work environments that foster creativity and productivity.\\n\\nLet\\u2019s not revert to the problems of the past. Let\\u2019s embrace forward-thinking strategies that enhance our workplaces and drive future success.\\n\\nFor media inquiries, email [media@gensler.com](https://www.gensler.com/blog/).\"\n",
      "  },\n",
      "  {\n",
      "    \"ref_id\": 3,\n",
      "    \"title\": \"The Future Is Mixed Use: How Principles of Mixed Use Design Will Restore Our Communities\",\n",
      "    \"url\": \"https://www.gensler.com/blog/how-principles-of-mixed-use-design-will-restore-communities\",\n",
      "    \"distance\": 0.8280407786369324,\n",
      "    \"content\": \"| Metadata | Value |\\n|-----|-------|\\n| title | 'The Future Is Mixed Use: How Principles of Mixed Use Design Will Restore Our Communities' |\\n| source | 'https://www.gensler.com/blog/how-principles-of-mixed-use-design-will-restore-communities' |\\n| author | ['[[Gensler]]'] |\\n| published | None |\\n| created | datetime.date(2025, 4, 9) |\\n| description | 'Gensler is a global architecture, design, and planning firm with 57 offices and 6,000+ professionals across the Americas, Europe, Greater China, and APME.' |\\n| tags | ['clippings'] |\\n\\n# The Future Is Mixed Use: How Principles of Mixed Use Design Will Restore Our Communities\\nThis is an elevated view of modern architecture featuring tall glass-clad buildings with a multi-level base and an adjacent light rail line running towards a cityscape in the background.\\n\\nThe Line Charlotte, Charlotte, North Carolina. Photo by Chad Mellon.\\n\\nThe real estate industry is in a time of great uncertainty with volatile inflation and interest rates, rising construction costs, major geopolitical events, and social and economic futures that feel unpredictable. Similar to how the past several years created opportunities to fundamentally rethink how we live, work, and interact with our communities and the built environment, the current upheaval is a chance for us to continue to adapt and innovate.\\n\\nAmid all the ambiguity, the one type of development that has been thriving is mixed-use environments, which are key to reviving our communities\\u2019 urban centers. As traditional single-use spaces like office parks and retail centers struggle to get back to pre-pandemic occupancy rates, mixed-use projects present more optimal returns on investment for developers, since they lease for higher values and are more flexible to pivot during economic downturns.\\n\\nMixed-use environments also play an integral role in the revitalization of our cities because they are designed to be experience driven. By serving diverse populations and a wider range of functions, they create dynamic and inclusive spaces that people want to be part of. As we look to the future of the built environment, mixed-use projects are pivotal in making our communities more enjoyable and resilient.\\n\\nHere are four principles for creating mixed-use environments that will future proof your real estate:\\n\\n## 1\\\\. Design for curated experiences.\\n\\nDesign improvements can turn monoculture environments like the workplace into [experience multipliers](https://www.gensler.com/blog/how-to-make-your-office-an-experience-multiplier). Through the lens of creating intentional user journeys, the development becomes a destination rather than an obligation.\\n\\nExperience-driven, mixed-use environments appeal to people\\u2019s desire for connection in a post-pandemic world, where residents are increasingly drawn to environments that reflect their communities in an authentic way, layering culture, history, and activities for a better experience.\\n\\nThis is a high-angle, eye-level shot of a brightly lit outdoor shopping center at dusk, featuring modern architecture, palm trees wrapped in lights, and an Erewhon store, with cars parked in the foreground and a hillside residential area in the background.\\n\\nSportsmen\\u2019s Lodge. Los Angeles, California\\n\\n## 2\\\\. Encourage 24/7 activation.\\n\\nA diversity of experiences and constituents is supported by programming, which should attract people at different times of the day. By encouraging inter-generational, civic, and cultural use of a space, you ensure that the asset is active at all times. This intensity of site use also leads to higher rent rates, lower vacancies, and faster occupancy.\\n\\nMunicipalities have been actively rethinking zoning codes and other requirements that segregated building uses in the past, allowing for more adaptive reuse in locations that were once single use.\\n\\nThis is an eye-level, wide outdoor shot of an urban entertainment district at dusk, featuring a brick-and-glass building complex with lighted restaurant signs and pedestrian walkways, people strolling about, and a blue-glass skyscraper as a backdrop.\\n\\nAssembly Food Hall, Fifth + Broadway, Nashville, Tennessee. Photo by Garrett Rowland.\\n\\n## 3\\\\. Prioritize flexibility and resilience.\\n\\nDesigning for resilience means creating environments that are suited to how we work and live, two variables that are constantly changing. In a time of uncertainty, resiliency in the built environment is defined by places that are adaptable and can change over time. These types of mixed-use communities present better return on investment for developers, and offer more possibilities during downturns.\\n\\nThe image depicts a vibrant, modern cityscape with multi-story buildings featuring glass facades and greenery on their roofs, set around a park-like area where people are engaged in various activities such as walking, sitting, and playing.\\n\\nMission Point, Santa Clara, California\\n\\n## 4\\\\. Provide a community space.\\n\\nDesignating spaces for community gatherings will help make the development feel like an extension of the neighborhood. At LinkedIn\\u2019s headquarters in San Francisco, the lobby features glass wall panels that slide back, making room for internal events, as well as community gatherings. By creating a space within the office that encourages interaction with the community at large, the development is integrated into the community and cultivates a more welcoming atmosphere.\\n\\nThis image shows a modern, mixed-use development with a large, glass-paneled building overlooking a pedestrian plaza featuring seating areas, landscaping, and a lower level with colorful mural art.\\n\\nWest Edge, Los Angeles, California. Photo by Jason O\\u2019Rear.\\n\\n## Connecting to the urban fabric\\n\\nFrom workspaces to urban centers, these mixed use principles can be scaled across projects and locations. Not only do they create environments that are more equitable and enjoyable, but they are also proof that single-use buildings are not necessarily dead \\u2014 they just need to be connected to the urban fabric around them for a more heterogeneous environment.\\n\\nSpaces for gatherings and spontaneous interactions have never been more important. In a world of escalating construction costs and uncertainty about the future, mixed-use developments appeal to our need for connection and create a sense of belonging, helping developers, designers, and occupants alike to transcend the uncertainty of the moment.\\n\\nFor media inquiries, email [media@gensler.com](https://www.gensler.com/blog/).\"\n",
      "  },\n",
      "  {\n",
      "    \"ref_id\": 4,\n",
      "    \"title\": \"Trends to Watch Reshaping the Future of Cities and Urban Living\",\n",
      "    \"url\": \"https://www.gensler.com/blog/trends-reshaping-future-of-cities-urban-living\",\n",
      "    \"distance\": 0.8679736852645874,\n",
      "    \"content\": \"| Metadata | Value |\\n|-----|-------|\\n| title | 'Trends to Watch Reshaping the Future of Cities and Urban Living' |\\n| source | 'https://www.gensler.com/blog/trends-reshaping-future-of-cities-urban-living' |\\n| author | ['[[Gensler]]'] |\\n| published | None |\\n| created | datetime.date(2025, 4, 9) |\\n| description | 'Gensler is a global architecture, design, and planning firm with 57 offices and 6,000+ professionals across the Americas, Europe, Greater China, and APME.' |\\n| tags | ['clippings'] |\\n\\n# Trends to Watch Reshaping the Future of Cities and Urban Living\\nThis is a digitally rendered image of a street scene in London, featuring pedestrians on the sidewalk, cyclists and vehicles on the road, and St. Paul's Cathedral visible in the distance.\\n\\nA busy street with people and cars.\\n\\n*Editor\\u2019s Note: This blog is part of our [Design Forecast blog series](https://www.gensler.com/blog/by-keyword?k=Design_Forecast_2024), looking at what\\u2019s next in 2024 and beyond. We sat down with [Andre Brumfield](https://www.gensler.com/people/andre-brumfield), [Ian Mulcahey](https://www.gensler.com/people/ian-mulcahey), and [Chris Rzomp](https://www.gensler.com/people/christopher-rzomp), global leaders of Gensler\\u2019s [Cities & Urban Design practice](https://www.gensler.com/expertise/cities-urban-design), to discuss what\\u2019s next for the future of cities.*\\n\\n## Many downtowns are struggling in the wake of the pandemic, and clients want to know how to invest effectively. How are you advising them? And how long do you think it will take for cities to fully bounce back from the pandemic?\\n\\n**Andre Brumfield:** It\\u2019s going to be a process that\\u2019s going to unfold for some cities in the next five years, while others may take a decade or generation to do so. Downtowns have died and come back for centuries. In the U.S., that\\u2019s certainly been the case and cities have always evolved into something else. We have to accept that our downtowns are going to be something different. They cannot be monochromatic in terms of being dominated by office or commercial development; there has to be a blend of both. The solve is going to be different for different cities.\\n\\nSo, how can cities make downtowns more diverse, and have a different offering that doesn\\u2019t rely on traditional office space, and then also expand the hours between 8 a.m. and 5 p.m., where it\\u2019s also not just relying on repopulating with a residential population? You have to have institutions and other cultural attractions that are going to continuously get people downtown. I think the biggest question is, how does your downtown survive when you do have emerging districts, that kind of shiny attraction that people and investors are going to run to?\\n\\n**Ian Mulcahey:** I think that the era of rigid zonal segregation is over. No longer can a city be simply divided into a series of discrete places: the place where I work, the place where I live, and the place where I want to spend my leisure time. This simplistic planning notion is about to change. People want to live in closer proximity to their work, and they want to be in an area that has theaters, museums, cinemas, shops, restaurants, cafes, and parks. The post-war planning consensus to separate these activities into different parts of the city and then construct complex high-capacity transport infrastructure to continually move the residents twice a day from one zone to the another is at an end.\\n\\nThe future of city planning will drive a more dispersed, nuanced approach to how we plan and manage our real estate. Workers don\\u2019t need to be concentrated in one big building in one city anymore. They can be in a number of cities and a number of neighbourhoods, but also in better locations. The [flight to quality](https://www.gensler.com/blog/how-desire-for-experience-is-driving-the-flight-to-quality) is very much still the priority, but now a high-quality living and working environment needs to be balanced by the quality of the urban land mix and high-quality urban transport system. The office certainly isn\\u2019t dead, and the city center isn\\u2019t dead, but is being redefined. The modern worker wants a better balance between their workstyle and lifestyle, and they want more choice, more variety, and much better public realm and open space.\\n\\nWe\\u2019re moving away from that notion of a workplace to thinking about how people work. So, in the same way we have been talking about lifestyle, we talk about workstyle, and also about a central business district being a [central social district](https://www.gensler.com/blog/union-square-san-francisco-social-district). The CBD becomes the CSD. So, the role of the city center is not just catering to office workers; it\\u2019s catering to everyone in the city. It\\u2019s a much more inclusive construct, but by default, that makes it a much more interesting place.\\n\\n\\u201cThe role of the city center is not just catering to office workers; it\\u2019s catering to everyone in the city. It\\u2019s a much more inclusive construct, but by default, that makes it a much more interesting place.\\u201d\\n\\n\\u2014Ian Mulcahey, Cities & Urban Design leader\\n\\nThis is an aerial perspective of a modern building lobby featuring curved wooden architectural elements, a white geometric sculptural installation, a reception desk, waiting area seating, and marble flooring.\\n\\nCapital One McLean Block A aerial view\\n\\nDesign Forecast 2024\\n\\nExplore ideas, insights, and advice about commercial real estate and the building industry today and in the year to come.\\n\\n## How is the role of the master planner changing? What does a 21st Century approach for comprehensive master planning look like?\\n\\n**Chris Rzomp:** The era of the generalist master planner is over. We need to be able to provide comprehensive, specialized services that are very focused on economic development, resilience, and market forces. We need to be able to draw on our internal resources, as well as our external partners, to provide a hyper specialized approach to every project.\\n\\n**Andre:** Our practice has to be more flexible now than it ever was. One of the challenges and the opportunities that we have is that there\\u2019s no one project that is the same; we have to approach every project differently. We have to be very nimble, and a lot more flexible than we ever have been in our profession in offering the services that our clients need for a particular effort or project.\\n\\n## What\\u2019s driving this increased need for flexibility in city planning and design?\\n\\n**Andre:** Uncertainty in the current market, as well as future market forces, is driving this need for flexibility. A lot of the work that we do involves the intersection of the public and private sectors, where there are changing policies that we may have to adhere to that might change our approach to a masterplan. There are market conditions that developers who we\\u2019re working with are going to have to go through \\u2014 whether it\\u2019s entitlements, or speed to execute an entitlement process that forces us to be more nimble \\u2014 that go beyond simply designing a project.\\n\\n**Ian:** We\\u2019ve focused quite a bit over recent months on the [repositioning of office buildings](https://www.gensler.com/blog/what-we-learned-assessing-office-to-residential-conversions), and clearly there\\u2019s going to be a lot more of that. But there\\u2019s also the repositioning of everything \\u2014 converting old power stations, factories, and retail centers \\u2014 this kind of repurposing and repositioning of the city is something very interesting. This also plays into resilience; rather than knocking down and removing an asset, why not reinvent and repurpose it? People can work where they live, and they can live where they used to work.\\n\\n**Andre:** Whether you\\u2019re [decommissioning a coal fired power plant](https://www.gensler.com/case-study/avon-lake-renewable-master-plan), or a regulatory process for taking down a public housing site, or repurposing an aging piece of infrastructure into something different \\u2014 it goes beyond just design; it speaks to policy speaks of regulations that we have to adhere to that really influence how we are able to do our work. And that requires expertise, and sometimes involves other practice areas and consultants.\\n\\n**Chris:** We recently won this competition for the [redevelopment of the Tropicana Field site](https://www.mlb.com/rays/news/rays-st-petersburg-ballpark-agreement) in St. Petersburg, Florida. It\\u2019s a huge urban transformational project, and we\\u2019re taking 80 acres surrounding this outdated stadium and creating a mixed-use, multigenerational, multi-income neighborhood. And we are working with the planning department to look at existing zoning and understand how to work within or amend the existing codes to get this implemented.\\n\\n**Ian:** In Europe, we\\u2019re also seeing that long-standing principles of zoning, planning, regulation, or controls are having to be rethought. The notion of a segregation of uses is giving way to a mix of various uses. And it\\u2019s both a product of a pandemic, but also gradual technological change that\\u2019s been enabling a different type of behavior. Just 10 or 15 years ago, it was all about what you were going to do with old industrial or port sites. And now, you\\u2019re looking at traditional CBDs, exaggerated to some extent by very tightly controlled zoning or planning policies, that are now having to be rethought and reinvented, it\\u2019s a very exciting time.\\n\\n**Chris:** When these big projects are reinvesting in downtowns with a mixed-use project or development, they really become the catalyst or vehicle for enforcing some of these changes and getting people to rethink about zoning as it\\u2019s been written.\\n\\n**Andre:** You see places like Minneapolis that have eliminated single family zoning, or cities like Birmingham, Alabama, that have eliminated parking standards. So, we have to be very much tuned into how a city policy is looking to reshape the built environment, and how we could respond to our clients who are looking to do the same.\\n\\n\\u201cWe have to be very much tuned into how a city policy is looking to reshape the built environment, and how we could respond to our clients who are looking to do the same.\\u201d\\n\\n\\u2014Andre Brumfield, Cities & Urban Design leader\\n\\n## We\\u2019re seeing in Gensler\\u2019s City Pulse data that people don\\u2019t feel currently that their CBDs are a good place to raise children to start a family. Is there an opportunity to make downtowns more inclusive, more accessible, and more profitable?\\n\\n**Andre:** It\\u2019s not just a downtown phenomenon. Our cities have gotten a lot more expensive. When people make choices once their kids reach a certain age, they often ask: Do I stay in the city or go to the suburbs? And that is the tipping point for how cities actually lose citizens who have strong tax base, how they lose a consistent population, and that impacts services that we can all benefit from, whether it\\u2019s public transportation or other public amenities.\\n\\n**Chris:** The polycentric aspect of cities is a trend that\\u2019s going to continue. The neighborhood units of our cities are going to continue to get stronger as more people seek that workstyle and stay closer to home. We will start to see these neighborhood centers popping up, growing, and thriving more than they had in the past.\\n\\n**Ian:** We\\u2019re definitely seeing that in the U.K. If you go into what was the financial center, it\\u2019s still very quiet at times, as parts of the city are dominated by people working there 3 or 4 days a week, and then you go into some of the neighborhoods further out in London, and they\\u2019re just full of people, and there\\u2019s lots going on. Since the pandemic, Saturday is still the busiest day of the week on the metro.\\n\\n**Chris:** Open space is also vital in order to reimagine a city\\u2019s downtown. People understood the value of open space during the pandemic and being able to have these places outside your buildings where indoor and outdoor space blends. That interconnected and active ground plane throughout downtown is going to become a differentiator.\\n\\n\\u201cOpen space is also vital in order to reimagine a city\\u2019s downtown\\u2026. That interconnected and active ground plane throughout downtown is going to become a differentiator.\\u201d\\n\\n\\u2014Chris Rzomp, Cities & Urban Design leader\\n\\n## How can we help solve for affordable and workplace housing, and what are some of the barriers and obstacles to addressing these issues?\\n\\n**Ian:** There\\u2019s a [shortage of housing](https://www.gensler.com/podcasts/attainable-and-affordable-housing) everywhere, whether it\\u2019s in the Middle East or in Europe. Certainly, what we\\u2019re seeing in the U.K. is that the more regulatory systems we put in place to force developers to provide a proportion or a quantity of affordable housing within a development, the more that has actually slowed down the rate of overall development, and paradoxically, led to a shortage. So, the market then grinds to a halt because people can\\u2019t move and trade up, which means there\\u2019s a whole underclass who won\\u2019t get any housing. So, encouraging supply, whether publicly or privately provided, is going to come back into the frame again, because that\\u2019s really the only way you\\u2019re going to make housing more affordable for everyone.\\n\\n**Andre:** There are three options to solve for. Either the government is going to step in, through local housing authorities or agencies, or the private sectors are going to be part of the solution, or both. And it varies from country to country and from city to city. These components go beyond what urban designers and planners do, but we know the issues that are slowing down real viable solutions to bring about change.\\n\\nWe have relationships with a number of housing authorities, as well as developers who focus on affordable housing. And I think the opportunity now is to ask, how do we go beyond the regulatory or entitlement process to really bring our design lens, from an architecture standpoint, to make these plans real?\\n\\n## How do cities need to adapt to the realities of climate change?\\n\\n**Chris:** We\\u2019re looking at how climate change impacts livability in urban areas. There is a certain aspect of [climate justice](https://www.gensler.com/blog/climate-justice-in-projects-engaging-community-partners) that is almost becoming table stakes in any urban project. And we\\u2019re doing a lot of work in Baltimore right now, and especially in the more disinvested neighborhoods, the temperatures can be up to five to seven degrees higher than areas that have dense tree cover, and that effect is disproportionately put on lower income populations. We need to correct that as we move forward within our planning, to keep an eye on the effects that climate change can have on these neighborhoods if we\\u2019re not actively making changes there through the public realm.\\n\\nIn terms of mitigation, there are measures we can take. We\\u2019re doing some work on [Harborplace in Baltimore](https://www.gensler.com/press-releases/reimagined-baltimore-harborplace-renderings), and just understanding that, when we\\u2019re planning for a public realm for the next 50 years, that it\\u2019s going to look very different, so we have to get ahead of that. And it\\u2019s about looking at these resilient systems that will be able to change, adapt, and grow with it.\\n\\nFor media inquiries, email [media@gensler.com](https://www.gensler.com/blog/).\"\n",
      "  },\n",
      "  {\n",
      "    \"ref_id\": 5,\n",
      "    \"title\": \"Avoiding Fear-Based Decision-Making to Foster Positive In-Store Retail Experiences\",\n",
      "    \"url\": \"https://www.gensler.com/blog/avoiding-fear-based-decision-making-retail-experiences\",\n",
      "    \"distance\": 0.8881893754005432,\n",
      "    \"content\": \"| Metadata | Value |\\n|-----|-------|\\n| title | 'Avoiding Fear-Based Decision-Making to Foster Positive In-Store Retail Experiences' |\\n| source | 'https://www.gensler.com/blog/avoiding-fear-based-decision-making-retail-experiences' |\\n| author | ['[[Gensler]]'] |\\n| published | None |\\n| created | datetime.date(2025, 4, 9) |\\n| description | 'Gensler is a global architecture, design, and planning firm with 57 offices and 6,000+ professionals across the Americas, Europe, Greater China, and APME.' |\\n| tags | ['clippings'] |\\n\\n# Avoiding Fear-Based Decision-Making to Foster Positive In-Store Retail Experiences\\nAn eyeglass store interior is shown with display cases filled with eyeglasses and sunglasses, artwork on the walls, a woman sitting in a blue chair, and other furniture.\\n\\nSquint Eyewear, Toronto. Photo by Ben Rahn/A-Frame.\\n\\nOver the course of my 30-year long career as a retail designer, I\\u2019ve seen more than my fair share of ups-and-downs. Numerous recessions, a pandemic, and the birth of one key disruption that is now long considered unimaginable to live without. Like in fashion, trends come and go, but the recurring notion that in-store shopping is dead has continued to plague brick-and-mortar retail since the inception of the e-tail \\u2014 a headline that\\u2019s as played out as the \\u201cBedazzler.\\u201d In reality, in-store shopping is alive and well, but not all retail experiences are created equal.\\n\\nDespite the convenience of online shopping, there is something irreplaceable about the in-store experience. Only in-store can customers compare fabrics, try on for size, shop socially, or simply have the opportunity to stumble upon something new or unexpected. While there are exceptions, algorithms usually don\\u2019t lead shoppers to an adrenaline rush from stumbling upon a great discovery! But while in-store shopping is inimitable in the digital realm, it hinges on its ability to accurately reflect a brand, connect with customers, and offer a seamless journey through space, and it starts with deliberate, bespoke, and often bold design decisions.\\n\\nWith experience on both sides of the fence \\u2014 having worked in retail for 10 years \\u2014 it\\u2019s no surprise to me when retailers become cautious around designing a new store, especially when considering escalating construction costs and the drastic changes in customer behaviour and technology in recent years. Unfortunately, it\\u2019s this fear-based mentality that leads clients to want to be all things to all people, spurring the creation of cookie-cutter like spaces, generic experiences, and the deterioration of in-store brand identity \\u2014 the antithesis of positive customer experiences.\\n\\nTo help my clients avoid fear-based decision making at every stage of the design process, I always ask them three key questions:\\n\\n## How will the space reflect the brand?\\n\\nA strong brand isn\\u2019t meant to appeal to everyone, it should have an impact on the people it resonates with. Think of your favourite restaurants. How similar are they to their competitors? Chances are, they\\u2019re quite different, and this is how I encourage my clients to think about retail spaces. To move away from overly cautious design choices, I advise my clients to view the in-store space as a reflection of their brand\\u2019s uniqueness. As seen with [Simons](https://www.newswire.ca/news-releases/simons-bets-on-the-future-of-canadian-retail-by-opening-two-new-urban-toronto-stores-in-2025-842873193.html), which is working to open 228,000 square feet of space across two new stores in Toronto, understanding the brand is crucial in curating the experience for a new customer base, and to increase brand recognition. For the Quebec-City based retailer, this includes Simons\\u2019 signature use of works by local artists and nature-inspired design elements.\\n\\nThis is an architectural rendering of a multi-story building with a Simons department store and a Cucina restaurant, showcasing a modern design with varying facade textures, large windows, and prominent signage.\\n\\nSimons Eaton Centre, Toronto\\n\\n## How will the space connect with customers?\\n\\nIt\\u2019s at this stage where I most often encounter fear-based decision making, especially when a client becomes weary of making bold design decisions for fear of alienating customers, without realizing that watered down design is equally as effective at turning people away.\\n\\nHelping clients understand how their space connects with their customers is crucial. While there is a method to the madness, any designer would be lying to you if they claimed it\\u2019s an exact science \\u2014 another cause for cautious design choices. What\\u2019s important is that the design offers a point of view. Having designed nine previous Simons stores over 25 years, it\\u2019s about bringing Simons\\u2019 fashion-forward, democratic approach to retail to a new audience.\\n\\n## How can the space become a journey?\\n\\nBut even if the store is an accurate reflection of the brand and manages to connect with customers on a human-level, shoppers cannot be expected to stay in a space that is bereft of logic, especially if it\\u2019s a larger retail environment. Instead, the space must entice shoppers to linger, explore, and understand the ecosystem of interconnected spaces and experiences.\\n\\nA strategic design approach will consider the curation of space into digestible vignettes and product moments, providing a narrative thread for customers to venture from one experience to another \\u2014 like breadcrumbs, shoppers should be led on a journey.\\n\\nThe photograph shows a modern retail space with a pink velvet curved sofa, a light stone coffee table, a unique swirling rug, and clothing racks in front of a softly lit, draped backdrop, accented with green plants and stylish accessories, all under bright track lighting.\\n\\nHolt Renfrew\\u2019s The Studio, Toronto. Photo by Stephanie Kretzschmer.\\n\\nA bright, monochromatic magenta corridor featuring walls with inset doors, a matching carpet, and a large, vertically oriented mirror surrounded by glowing white neon-like tubes at the end of the hall, with a blurred figure walking towards the viewer on the left.\\n\\nHolt Renfrew\\u2019s The Studio, Toronto. Photo by Stephanie Kretzschmer.\\n\\nWhen it comes to retail, there is so much that is out of our control as designers. We cannot alter the products our clients sell, the people they hire, or anything that happens outside of the store, but good design can still have an incredible impact. For many consumers, a store is still the most tangible visual cue for many brands. How the space reflects the brand, connects with customers, and provides an experience that will entice them to explore and keep shopping are all influenced by design.\\n\\nAs we learned during the pandemic, people still crave positive in-store shopping experiences. What\\u2019s more, if brick-and-mortar shopping had truly died alongside its first \\u2014 of many \\u2014 painstaking obituaries, I wouldn\\u2019t have had a very long career. Yet, I can recall a time working in retail when credit cards weren\\u2019t tapped so much as they were railroaded by something colloquially referred to as a \\u201cknuckle-buster,\\u201d and I\\u2019m still designing retail spaces. While everything evolves, some things never change.\\n\\nFor media inquiries, email [media@gensler.com](https://www.gensler.com/blog/).\"\n",
      "  }\n",
      "]\n",
      "\n",
      "OUTPUT FORMAT:\n",
      "- Provide a detailed, well-written answer.\n",
      "- Cite sources inline using [ref_id] (e.g. [1], [2]) at the end of sentences or paragraphs.\n",
      "- Only cite articles that were actually used.\n",
      "- At the end, return your answer and the list of used citation ref_ids in JSON format like:\n",
      "  {\n",
      "    \"answer\": \"Your answer text here [1][2]...\",\n",
      "    \"citations\": [1, 2]\n",
      "  }\n",
      "\n"
     ]
    },
    {
     "data": {
      "text/markdown": [
       "---"
      ],
      "text/plain": [
       "<IPython.core.display.Markdown object>"
      ]
     },
     "execution_count": 26,
     "metadata": {},
     "output_type": "execute_result"
    }
   ],
   "source": [
    "import json\n",
    "\n",
    "structured_retrival = {\n",
    "    \"articles\": []\n",
    "}\n",
    "\n",
    "\n",
    "for i in range(len(result[\"documents\"][0])):\n",
    "    doc = result[\"documents\"][0][i]\n",
    "    meta = result[\"metadatas\"][0][i]\n",
    "    dist = result[\"distances\"][0][i]\n",
    "    \n",
    "    structured_retrival[\"articles\"].append({\n",
    "        \"ref_id\": i + 1,\n",
    "        \"title\": meta.get(\"title\", \"Untitled\"),\n",
    "        \"url\": meta.get(\"source\", \"\"),\n",
    "        \"distance\": dist,\n",
    "        \"content\": doc\n",
    "    })\n",
    "\n",
    "# articles to one line   \n",
    "article_refs_str = \"\\n---\\n\".join(\n",
    "    f\"[{a['ref_id']}] {a['title']}\\n{a['content']}.\" \n",
    "    for a in structured_retrival[\"articles\"]\n",
    ")\n",
    "\n",
    "# articles to json\n",
    "article_refs_json = json.dumps(structured_retrival[\"articles\"], indent=2)\n",
    "\n",
    "# question to one line\n",
    "question = query.replace(\"\\n\", \" \"),\n",
    "\n",
    "# overal guidance for the response\n",
    "prompt_context = f\"\"\"\n",
    "You are a helpful knowledge management assitant with access to a proprietary database.\n",
    "You will answers questions using articles retrieved from the database listed below. \n",
    "Be sure to respond in complete sentences, being comprehensive, including all relevant background information, and dive into the details when necessary.\n",
    "Be sure to break down complicated concepts and strike a friendly and converstional tone. \n",
    "If the passage is irrelevant to the answer, you may ignore it.\n",
    "\n",
    "QUESTION:\n",
    "{question}\n",
    "\n",
    "ARTICLES:\n",
    "{article_refs_json}\n",
    "\n",
    "OUTPUT FORMAT:\n",
    "- Provide a detailed, well-written answer.\n",
    "- Cite sources inline using [ref_id] (e.g. [1], [2]) at the end of sentences or paragraphs.\n",
    "- Only cite articles that were actually used.\n",
    "- At the end, return your answer and the list of used citation ref_ids in JSON format like:\n",
    "  {{\n",
    "    \"answer\": \"Your answer text here [1][2]...\",\n",
    "    \"citations\": [1, 2]\n",
    "  }}\n",
    "\"\"\"\n",
    "\n",
    "print(prompt_context)\n",
    "Markdown('---')"
   ]
  },
  {
   "cell_type": "markdown",
   "id": "8c985f65",
   "metadata": {
    "id": "VRy6yXzcPxLB",
    "papermill": {
     "duration": 0.016293,
     "end_time": "2025-04-15T04:21:51.729665",
     "exception": false,
     "start_time": "2025-04-15T04:21:51.713372",
     "status": "completed"
    },
    "tags": []
   },
   "source": [
    "### Structured Output\n",
    "\n",
    "Now to be able to make parsing the response and building the footnote eaiser and less error-prone, we can structured the output into `json` format in order to assign each type of infomation to variables, upon which we can reformat after response is given from the mode.\n",
    "\n",
    "We start by first create a `response_schema` class and assigne the response format to be `application/json`."
   ]
  },
  {
   "cell_type": "code",
   "execution_count": 27,
   "id": "1121eb75",
   "metadata": {
    "execution": {
     "iopub.execute_input": "2025-04-15T04:21:51.764025Z",
     "iopub.status.busy": "2025-04-15T04:21:51.763631Z",
     "iopub.status.idle": "2025-04-15T04:21:51.769311Z",
     "shell.execute_reply": "2025-04-15T04:21:51.768332Z"
    },
    "papermill": {
     "duration": 0.025465,
     "end_time": "2025-04-15T04:21:51.771315",
     "exception": false,
     "start_time": "2025-04-15T04:21:51.745850",
     "status": "completed"
    },
    "tags": []
   },
   "outputs": [],
   "source": [
    "from typing import List\n",
    "from typing_extensions import TypedDict\n",
    "\n",
    "class AnswerWithCitations(TypedDict):\n",
    "    answer: str\n",
    "    citations: List[int]\n",
    "\n",
    "structured_config = types.GenerateContentConfig(\n",
    "    response_mime_type=\"application/json\",\n",
    "    response_schema=AnswerWithCitations,\n",
    "    temperature=0.1\n",
    ")"
   ]
  },
  {
   "cell_type": "markdown",
   "id": "14ccdc58",
   "metadata": {
    "papermill": {
     "duration": 0.015594,
     "end_time": "2025-04-15T04:21:51.802968",
     "exception": false,
     "start_time": "2025-04-15T04:21:51.787374",
     "status": "completed"
    },
    "tags": []
   },
   "source": [
    "Now we use the `generate_content` method to to generate an answer to the question, while following the structured prompt and output format.\n",
    "\n",
    "We would also parse the returned `json` file and reformat it as desired, building a nice citation footnote at the end."
   ]
  },
  {
   "cell_type": "code",
   "execution_count": 28,
   "id": "8c7d58e4",
   "metadata": {
    "execution": {
     "iopub.execute_input": "2025-04-15T04:21:51.836787Z",
     "iopub.status.busy": "2025-04-15T04:21:51.836365Z",
     "iopub.status.idle": "2025-04-15T04:21:55.563315Z",
     "shell.execute_reply": "2025-04-15T04:21:55.562331Z"
    },
    "id": "EwfyxFM6Giy9",
    "papermill": {
     "duration": 3.746718,
     "end_time": "2025-04-15T04:21:55.565645",
     "exception": false,
     "start_time": "2025-04-15T04:21:51.818927",
     "status": "completed"
    },
    "tags": []
   },
   "outputs": [
    {
     "data": {
      "text/markdown": [
       "When designing for a return to the office space, it's important to consider several key issues to create an environment that supports both individual and team productivity, as well as employee satisfaction. Here are five issues to think about:\n",
       "\n",
       "1.  **The Evolving Role of the Office:** Understand that the primary reason people come to the office has shifted from in-person collaboration to focusing on individual work [1]. Employees now value the office for access to technology, specific spaces, materials, and resources that help them get their work done [1]. Therefore, the design should cater to these needs by providing focus areas and ensuring that necessary tools and resources are readily available.\n",
       "\n",
       "2.  **Balancing Collaboration and Individual Work:** Recognize the importance of both collaboration and individual focus. While companies want employees to return to the office for collaboration, decreasing collaboration spaces in favor of individual workstations can be counterproductive [2]. Aim for a \"both/and\" approach that supports both individual focus and rich collaborative work to deliver better experiences and stronger cultures [2].\n",
       "\n",
       "3.  **Creating a Mix of Experiences:** Employees are more willing to return to the office if their ideal work experience mix is provided [1]. Consider incorporating a variety of spaces, ranging from library-like quiet zones to coffee shop-style social areas, to cater to different work styles and preferences [1]. By offering a mix of experiences, companies can encourage employees to come in more often.\n",
       "\n",
       "4.  **Flexibility and Adaptability:** Design spaces that are flexible and can adapt to changing needs. The real estate industry is in a time of great uncertainty, so designing for resilience means creating environments suited to how we work and live, two variables that are constantly changing [3]. Mixed-use environments are key to reviving communities’ urban centers [3]. This may involve creating multi-use spaces or ensuring that the layout can be easily reconfigured to accommodate different team sizes or project requirements.\n",
       "\n",
       "5.  **Reflecting the Brand and Connecting with Customers:** Ensure that the office space reflects the company's brand and connects with employees on a human level [5]. The design should offer a point of view and create a seamless journey through the space, enticing employees to linger, explore, and understand the ecosystem of interconnected spaces and experiences [5]. This can be achieved through deliberate, bespoke design decisions that capture the brand's uniqueness and create a positive in-store shopping experiences [5].\n",
       "\n",
       "---\n",
       "**References**\n",
       "\n",
       "[1] 3 Surprises Impacting the Return to the Office [Link](https://www.gensler.com/blog/3-surprises-impacting-the-return-to-the-office) | Relevance: 26.9%\n",
       "\n",
       "[2] Repopulating the Workplace: Why Collaboration Space Is in Danger [Link](https://www.gensler.com/blog/repopulating-the-workplace-collaboration-space-in-danger) | Relevance: 26.7%\n",
       "\n",
       "[3] The Future Is Mixed Use: How Principles of Mixed Use Design Will Restore Our Communities [Link](https://www.gensler.com/blog/how-principles-of-mixed-use-design-will-restore-communities) | Relevance: 17.2%\n",
       "\n",
       "[5] Avoiding Fear-Based Decision-Making to Foster Positive In-Store Retail Experiences [Link](https://www.gensler.com/blog/avoiding-fear-based-decision-making-retail-experiences) | Relevance: 11.2%\n"
      ],
      "text/plain": [
       "<IPython.core.display.Markdown object>"
      ]
     },
     "metadata": {},
     "output_type": "display_data"
    }
   ],
   "source": [
    "# load the prompt which includes the system instruction, retrival, citation, etc.\n",
    "# load the config that specified return format\n",
    "response = client.models.generate_content(\n",
    "    model=\"gemini-2.0-flash\",\n",
    "    config=structured_config,\n",
    "    contents=[prompt_context] \n",
    ")\n",
    "\n",
    "structured = response.parsed # response parsed into the requested json format\n",
    "\n",
    "# Build footnote section from actually used citations\n",
    "used_ids = set(structured[\"citations\"])\n",
    "\n",
    "footnotes = \"\\n\".join(\n",
    "    f\"[{a['ref_id']}] {a['title']} [Link]({a['url']}) | Relevance: {(1 - a['distance']) * 100:.1f}%\\n\"\n",
    "    for a in structured_retrival[\"articles\"]\n",
    "    if a[\"ref_id\"] in used_ids\n",
    ")\n",
    "\n",
    "final_output = f\"{structured['answer']}\\n\\n---\\n**References**\\n\\n{footnotes}\"\n",
    "display(Markdown(final_output))"
   ]
  }
 ],
 "metadata": {
  "colab": {
   "name": "day-2-document-q-a-with-rag.ipynb",
   "toc_visible": true
  },
  "kaggle": {
   "accelerator": "none",
   "dataSources": [
    {
     "datasetId": 7100409,
     "sourceId": 11347932,
     "sourceType": "datasetVersion"
    }
   ],
   "dockerImageVersionId": 30786,
   "isGpuEnabled": false,
   "isInternetEnabled": true,
   "language": "python",
   "sourceType": "notebook"
  },
  "kernelspec": {
   "display_name": "Python 3",
   "language": "python",
   "name": "python3"
  },
  "language_info": {
   "codemirror_mode": {
    "name": "ipython",
    "version": 3
   },
   "file_extension": ".py",
   "mimetype": "text/x-python",
   "name": "python",
   "nbconvert_exporter": "python",
   "pygments_lexer": "ipython3",
   "version": "3.10.14"
  },
  "papermill": {
   "default_parameters": {},
   "duration": 318.678025,
   "end_time": "2025-04-15T04:21:56.403724",
   "environment_variables": {},
   "exception": null,
   "input_path": "__notebook__.ipynb",
   "output_path": "__notebook__.ipynb",
   "parameters": {},
   "start_time": "2025-04-15T04:16:37.725699",
   "version": "2.6.0"
  }
 },
 "nbformat": 4,
 "nbformat_minor": 5
}
